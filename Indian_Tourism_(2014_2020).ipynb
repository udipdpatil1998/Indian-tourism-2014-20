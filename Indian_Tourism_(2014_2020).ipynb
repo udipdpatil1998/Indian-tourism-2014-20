{
  "cells": [
    {
      "cell_type": "markdown",
      "metadata": {
        "id": "view-in-github",
        "colab_type": "text"
      },
      "source": [
        "<a href=\"https://colab.research.google.com/github/udipdpatil1998/Indian-tourism-2014-20/blob/main/Indian_Tourism_(2014_2020).ipynb\" target=\"_parent\"><img src=\"https://colab.research.google.com/assets/colab-badge.svg\" alt=\"Open In Colab\"/></a>"
      ]
    },
    {
      "cell_type": "code",
      "execution_count": 7,
      "id": "a8ca9310-33ee-40ba-a95f-8b4a79c5a498",
      "metadata": {
        "colab": {
          "base_uri": "https://localhost:8080/",
          "height": 464
        },
        "id": "a8ca9310-33ee-40ba-a95f-8b4a79c5a498",
        "outputId": "d6899581-d036-4d41-f9b0-83a0056ce4f9"
      },
      "outputs": [
        {
          "output_type": "display_data",
          "data": {
            "text/plain": [
              "<IPython.core.display.HTML object>"
            ],
            "text/html": [
              "\n",
              "     <input type=\"file\" id=\"files-f5eda09d-db50-426d-bd49-e569ee652326\" name=\"files[]\" multiple disabled\n",
              "        style=\"border:none\" />\n",
              "     <output id=\"result-f5eda09d-db50-426d-bd49-e569ee652326\">\n",
              "      Upload widget is only available when the cell has been executed in the\n",
              "      current browser session. Please rerun this cell to enable.\n",
              "      </output>\n",
              "      <script>// Copyright 2017 Google LLC\n",
              "//\n",
              "// Licensed under the Apache License, Version 2.0 (the \"License\");\n",
              "// you may not use this file except in compliance with the License.\n",
              "// You may obtain a copy of the License at\n",
              "//\n",
              "//      http://www.apache.org/licenses/LICENSE-2.0\n",
              "//\n",
              "// Unless required by applicable law or agreed to in writing, software\n",
              "// distributed under the License is distributed on an \"AS IS\" BASIS,\n",
              "// WITHOUT WARRANTIES OR CONDITIONS OF ANY KIND, either express or implied.\n",
              "// See the License for the specific language governing permissions and\n",
              "// limitations under the License.\n",
              "\n",
              "/**\n",
              " * @fileoverview Helpers for google.colab Python module.\n",
              " */\n",
              "(function(scope) {\n",
              "function span(text, styleAttributes = {}) {\n",
              "  const element = document.createElement('span');\n",
              "  element.textContent = text;\n",
              "  for (const key of Object.keys(styleAttributes)) {\n",
              "    element.style[key] = styleAttributes[key];\n",
              "  }\n",
              "  return element;\n",
              "}\n",
              "\n",
              "// Max number of bytes which will be uploaded at a time.\n",
              "const MAX_PAYLOAD_SIZE = 100 * 1024;\n",
              "\n",
              "function _uploadFiles(inputId, outputId) {\n",
              "  const steps = uploadFilesStep(inputId, outputId);\n",
              "  const outputElement = document.getElementById(outputId);\n",
              "  // Cache steps on the outputElement to make it available for the next call\n",
              "  // to uploadFilesContinue from Python.\n",
              "  outputElement.steps = steps;\n",
              "\n",
              "  return _uploadFilesContinue(outputId);\n",
              "}\n",
              "\n",
              "// This is roughly an async generator (not supported in the browser yet),\n",
              "// where there are multiple asynchronous steps and the Python side is going\n",
              "// to poll for completion of each step.\n",
              "// This uses a Promise to block the python side on completion of each step,\n",
              "// then passes the result of the previous step as the input to the next step.\n",
              "function _uploadFilesContinue(outputId) {\n",
              "  const outputElement = document.getElementById(outputId);\n",
              "  const steps = outputElement.steps;\n",
              "\n",
              "  const next = steps.next(outputElement.lastPromiseValue);\n",
              "  return Promise.resolve(next.value.promise).then((value) => {\n",
              "    // Cache the last promise value to make it available to the next\n",
              "    // step of the generator.\n",
              "    outputElement.lastPromiseValue = value;\n",
              "    return next.value.response;\n",
              "  });\n",
              "}\n",
              "\n",
              "/**\n",
              " * Generator function which is called between each async step of the upload\n",
              " * process.\n",
              " * @param {string} inputId Element ID of the input file picker element.\n",
              " * @param {string} outputId Element ID of the output display.\n",
              " * @return {!Iterable<!Object>} Iterable of next steps.\n",
              " */\n",
              "function* uploadFilesStep(inputId, outputId) {\n",
              "  const inputElement = document.getElementById(inputId);\n",
              "  inputElement.disabled = false;\n",
              "\n",
              "  const outputElement = document.getElementById(outputId);\n",
              "  outputElement.innerHTML = '';\n",
              "\n",
              "  const pickedPromise = new Promise((resolve) => {\n",
              "    inputElement.addEventListener('change', (e) => {\n",
              "      resolve(e.target.files);\n",
              "    });\n",
              "  });\n",
              "\n",
              "  const cancel = document.createElement('button');\n",
              "  inputElement.parentElement.appendChild(cancel);\n",
              "  cancel.textContent = 'Cancel upload';\n",
              "  const cancelPromise = new Promise((resolve) => {\n",
              "    cancel.onclick = () => {\n",
              "      resolve(null);\n",
              "    };\n",
              "  });\n",
              "\n",
              "  // Wait for the user to pick the files.\n",
              "  const files = yield {\n",
              "    promise: Promise.race([pickedPromise, cancelPromise]),\n",
              "    response: {\n",
              "      action: 'starting',\n",
              "    }\n",
              "  };\n",
              "\n",
              "  cancel.remove();\n",
              "\n",
              "  // Disable the input element since further picks are not allowed.\n",
              "  inputElement.disabled = true;\n",
              "\n",
              "  if (!files) {\n",
              "    return {\n",
              "      response: {\n",
              "        action: 'complete',\n",
              "      }\n",
              "    };\n",
              "  }\n",
              "\n",
              "  for (const file of files) {\n",
              "    const li = document.createElement('li');\n",
              "    li.append(span(file.name, {fontWeight: 'bold'}));\n",
              "    li.append(span(\n",
              "        `(${file.type || 'n/a'}) - ${file.size} bytes, ` +\n",
              "        `last modified: ${\n",
              "            file.lastModifiedDate ? file.lastModifiedDate.toLocaleDateString() :\n",
              "                                    'n/a'} - `));\n",
              "    const percent = span('0% done');\n",
              "    li.appendChild(percent);\n",
              "\n",
              "    outputElement.appendChild(li);\n",
              "\n",
              "    const fileDataPromise = new Promise((resolve) => {\n",
              "      const reader = new FileReader();\n",
              "      reader.onload = (e) => {\n",
              "        resolve(e.target.result);\n",
              "      };\n",
              "      reader.readAsArrayBuffer(file);\n",
              "    });\n",
              "    // Wait for the data to be ready.\n",
              "    let fileData = yield {\n",
              "      promise: fileDataPromise,\n",
              "      response: {\n",
              "        action: 'continue',\n",
              "      }\n",
              "    };\n",
              "\n",
              "    // Use a chunked sending to avoid message size limits. See b/62115660.\n",
              "    let position = 0;\n",
              "    do {\n",
              "      const length = Math.min(fileData.byteLength - position, MAX_PAYLOAD_SIZE);\n",
              "      const chunk = new Uint8Array(fileData, position, length);\n",
              "      position += length;\n",
              "\n",
              "      const base64 = btoa(String.fromCharCode.apply(null, chunk));\n",
              "      yield {\n",
              "        response: {\n",
              "          action: 'append',\n",
              "          file: file.name,\n",
              "          data: base64,\n",
              "        },\n",
              "      };\n",
              "\n",
              "      let percentDone = fileData.byteLength === 0 ?\n",
              "          100 :\n",
              "          Math.round((position / fileData.byteLength) * 100);\n",
              "      percent.textContent = `${percentDone}% done`;\n",
              "\n",
              "    } while (position < fileData.byteLength);\n",
              "  }\n",
              "\n",
              "  // All done.\n",
              "  yield {\n",
              "    response: {\n",
              "      action: 'complete',\n",
              "    }\n",
              "  };\n",
              "}\n",
              "\n",
              "scope.google = scope.google || {};\n",
              "scope.google.colab = scope.google.colab || {};\n",
              "scope.google.colab._files = {\n",
              "  _uploadFiles,\n",
              "  _uploadFilesContinue,\n",
              "};\n",
              "})(self);\n",
              "</script> "
            ]
          },
          "metadata": {}
        },
        {
          "output_type": "stream",
          "name": "stdout",
          "text": [
            "Saving Country Quater Wise Visitors.csv to Country Quater Wise Visitors (1).csv\n",
            "Saving Country Wise Age Group.csv to Country Wise Age Group (1).csv\n",
            "Saving Country Wise Airport.csv to Country Wise Airport (1).csv\n",
            "Saving Country Wise Gender.csv to Country Wise Gender (1).csv\n",
            "Saving Country Wise Visitors Ways.csv to Country Wise Visitors Ways (1).csv\n",
            "Saving Country Wise Yearly VIsitors.csv to Country Wise Yearly VIsitors (1).csv\n",
            "Saving General Data 2014-2020.csv to General Data 2014-2020 (1).csv\n",
            "Saving Month Wise FFA.csv to Month Wise FFA (1).csv\n",
            "Saving Month Wise FFE Dollar.csv to Month Wise FFE Dollar (1).csv\n",
            "Saving Top 10 Country FFA.csv to Top 10 Country FFA (1).csv\n",
            "Saving Top 10 State Visit.csv to Top 10 State Visit (1).csv\n",
            "Saving Top10 State FFA Visit.csv to Top10 State FFA Visit (1).csv\n"
          ]
        }
      ],
      "source": [
        "from google.colab import files\n",
        "import pandas as pd\n",
        "import os\n",
        "import numpy as np\n",
        "import matplotlib.pyplot as plt\n",
        "import seaborn as sns\n",
        "import plotly.express as px\n",
        "\n",
        "\n",
        "# Upload file\n",
        "uploaded = files.upload()  # Opens a dialog box to select file(s) from your computer\n",
        "\n",
        "\n"
      ]
    },
    {
      "cell_type": "code",
      "execution_count": 8,
      "id": "44UX2Sda2zNZ",
      "metadata": {
        "id": "44UX2Sda2zNZ",
        "colab": {
          "base_uri": "https://localhost:8080/"
        },
        "outputId": "03a69cc7-1bd6-4093-8ab1-38a0fe323e5f"
      },
      "outputs": [
        {
          "output_type": "stream",
          "name": "stdout",
          "text": [
            "Mounted at /content/drive\n"
          ]
        }
      ],
      "source": [
        "from google.colab import drive\n",
        "drive.mount('/content/drive')"
      ]
    },
    {
      "cell_type": "markdown",
      "id": "rxEy828fjdEz",
      "metadata": {
        "id": "rxEy828fjdEz"
      },
      "source": [
        "Few files names are little misguiding so will change the file names."
      ]
    },
    {
      "cell_type": "code",
      "execution_count": 9,
      "id": "72QG-gFUeBgM",
      "metadata": {
        "id": "72QG-gFUeBgM",
        "colab": {
          "base_uri": "https://localhost:8080/",
          "height": 388
        },
        "outputId": "ac76fa9e-c129-4c58-85a7-b73c3c5cf0ac"
      },
      "outputs": [
        {
          "output_type": "error",
          "ename": "FileNotFoundError",
          "evalue": "[Errno 2] No such file or directory: 'Month Wise FTA.csv'",
          "traceback": [
            "\u001b[0;31m---------------------------------------------------------------------------\u001b[0m",
            "\u001b[0;31mFileNotFoundError\u001b[0m                         Traceback (most recent call last)",
            "\u001b[0;32m<ipython-input-9-100b488bb128>\u001b[0m in \u001b[0;36m<cell line: 4>\u001b[0;34m()\u001b[0m\n\u001b[1;32m      2\u001b[0m \u001b[0mgender_data\u001b[0m \u001b[0;34m=\u001b[0m \u001b[0mpd\u001b[0m\u001b[0;34m.\u001b[0m\u001b[0mread_csv\u001b[0m\u001b[0;34m(\u001b[0m\u001b[0;34m\"Country Wise Gender.csv\"\u001b[0m\u001b[0;34m)\u001b[0m\u001b[0;34m\u001b[0m\u001b[0;34m\u001b[0m\u001b[0m\n\u001b[1;32m      3\u001b[0m \u001b[0mage_data\u001b[0m \u001b[0;34m=\u001b[0m \u001b[0mpd\u001b[0m\u001b[0;34m.\u001b[0m\u001b[0mread_csv\u001b[0m\u001b[0;34m(\u001b[0m\u001b[0;34m\"Country Wise Age Group.csv\"\u001b[0m\u001b[0;34m)\u001b[0m\u001b[0;34m\u001b[0m\u001b[0;34m\u001b[0m\u001b[0m\n\u001b[0;32m----> 4\u001b[0;31m \u001b[0mmonthly_fta\u001b[0m \u001b[0;34m=\u001b[0m \u001b[0mpd\u001b[0m\u001b[0;34m.\u001b[0m\u001b[0mread_csv\u001b[0m\u001b[0;34m(\u001b[0m\u001b[0;34m\"Month Wise FTA.csv\"\u001b[0m\u001b[0;34m)\u001b[0m  \u001b[0;31m# Corrected file name\u001b[0m\u001b[0;34m\u001b[0m\u001b[0;34m\u001b[0m\u001b[0m\n\u001b[0m\u001b[1;32m      5\u001b[0m \u001b[0mstate_visits\u001b[0m \u001b[0;34m=\u001b[0m \u001b[0mpd\u001b[0m\u001b[0;34m.\u001b[0m\u001b[0mread_csv\u001b[0m\u001b[0;34m(\u001b[0m\u001b[0;34m\"Top 10 State Visit.csv\"\u001b[0m\u001b[0;34m)\u001b[0m\u001b[0;34m\u001b[0m\u001b[0;34m\u001b[0m\u001b[0m\n\u001b[1;32m      6\u001b[0m \u001b[0mquarter_visitors\u001b[0m \u001b[0;34m=\u001b[0m \u001b[0mpd\u001b[0m\u001b[0;34m.\u001b[0m\u001b[0mread_csv\u001b[0m\u001b[0;34m(\u001b[0m\u001b[0;34m\"Country Quater Wise Visitors.csv\"\u001b[0m\u001b[0;34m)\u001b[0m\u001b[0;34m\u001b[0m\u001b[0;34m\u001b[0m\u001b[0m\n",
            "\u001b[0;32m/usr/local/lib/python3.10/dist-packages/pandas/io/parsers/readers.py\u001b[0m in \u001b[0;36mread_csv\u001b[0;34m(filepath_or_buffer, sep, delimiter, header, names, index_col, usecols, dtype, engine, converters, true_values, false_values, skipinitialspace, skiprows, skipfooter, nrows, na_values, keep_default_na, na_filter, verbose, skip_blank_lines, parse_dates, infer_datetime_format, keep_date_col, date_parser, date_format, dayfirst, cache_dates, iterator, chunksize, compression, thousands, decimal, lineterminator, quotechar, quoting, doublequote, escapechar, comment, encoding, encoding_errors, dialect, on_bad_lines, delim_whitespace, low_memory, memory_map, float_precision, storage_options, dtype_backend)\u001b[0m\n\u001b[1;32m   1024\u001b[0m     \u001b[0mkwds\u001b[0m\u001b[0;34m.\u001b[0m\u001b[0mupdate\u001b[0m\u001b[0;34m(\u001b[0m\u001b[0mkwds_defaults\u001b[0m\u001b[0;34m)\u001b[0m\u001b[0;34m\u001b[0m\u001b[0;34m\u001b[0m\u001b[0m\n\u001b[1;32m   1025\u001b[0m \u001b[0;34m\u001b[0m\u001b[0m\n\u001b[0;32m-> 1026\u001b[0;31m     \u001b[0;32mreturn\u001b[0m \u001b[0m_read\u001b[0m\u001b[0;34m(\u001b[0m\u001b[0mfilepath_or_buffer\u001b[0m\u001b[0;34m,\u001b[0m \u001b[0mkwds\u001b[0m\u001b[0;34m)\u001b[0m\u001b[0;34m\u001b[0m\u001b[0;34m\u001b[0m\u001b[0m\n\u001b[0m\u001b[1;32m   1027\u001b[0m \u001b[0;34m\u001b[0m\u001b[0m\n\u001b[1;32m   1028\u001b[0m \u001b[0;34m\u001b[0m\u001b[0m\n",
            "\u001b[0;32m/usr/local/lib/python3.10/dist-packages/pandas/io/parsers/readers.py\u001b[0m in \u001b[0;36m_read\u001b[0;34m(filepath_or_buffer, kwds)\u001b[0m\n\u001b[1;32m    618\u001b[0m \u001b[0;34m\u001b[0m\u001b[0m\n\u001b[1;32m    619\u001b[0m     \u001b[0;31m# Create the parser.\u001b[0m\u001b[0;34m\u001b[0m\u001b[0;34m\u001b[0m\u001b[0m\n\u001b[0;32m--> 620\u001b[0;31m     \u001b[0mparser\u001b[0m \u001b[0;34m=\u001b[0m \u001b[0mTextFileReader\u001b[0m\u001b[0;34m(\u001b[0m\u001b[0mfilepath_or_buffer\u001b[0m\u001b[0;34m,\u001b[0m \u001b[0;34m**\u001b[0m\u001b[0mkwds\u001b[0m\u001b[0;34m)\u001b[0m\u001b[0;34m\u001b[0m\u001b[0;34m\u001b[0m\u001b[0m\n\u001b[0m\u001b[1;32m    621\u001b[0m \u001b[0;34m\u001b[0m\u001b[0m\n\u001b[1;32m    622\u001b[0m     \u001b[0;32mif\u001b[0m \u001b[0mchunksize\u001b[0m \u001b[0;32mor\u001b[0m \u001b[0miterator\u001b[0m\u001b[0;34m:\u001b[0m\u001b[0;34m\u001b[0m\u001b[0;34m\u001b[0m\u001b[0m\n",
            "\u001b[0;32m/usr/local/lib/python3.10/dist-packages/pandas/io/parsers/readers.py\u001b[0m in \u001b[0;36m__init__\u001b[0;34m(self, f, engine, **kwds)\u001b[0m\n\u001b[1;32m   1618\u001b[0m \u001b[0;34m\u001b[0m\u001b[0m\n\u001b[1;32m   1619\u001b[0m         \u001b[0mself\u001b[0m\u001b[0;34m.\u001b[0m\u001b[0mhandles\u001b[0m\u001b[0;34m:\u001b[0m \u001b[0mIOHandles\u001b[0m \u001b[0;34m|\u001b[0m \u001b[0;32mNone\u001b[0m \u001b[0;34m=\u001b[0m \u001b[0;32mNone\u001b[0m\u001b[0;34m\u001b[0m\u001b[0;34m\u001b[0m\u001b[0m\n\u001b[0;32m-> 1620\u001b[0;31m         \u001b[0mself\u001b[0m\u001b[0;34m.\u001b[0m\u001b[0m_engine\u001b[0m \u001b[0;34m=\u001b[0m \u001b[0mself\u001b[0m\u001b[0;34m.\u001b[0m\u001b[0m_make_engine\u001b[0m\u001b[0;34m(\u001b[0m\u001b[0mf\u001b[0m\u001b[0;34m,\u001b[0m \u001b[0mself\u001b[0m\u001b[0;34m.\u001b[0m\u001b[0mengine\u001b[0m\u001b[0;34m)\u001b[0m\u001b[0;34m\u001b[0m\u001b[0;34m\u001b[0m\u001b[0m\n\u001b[0m\u001b[1;32m   1621\u001b[0m \u001b[0;34m\u001b[0m\u001b[0m\n\u001b[1;32m   1622\u001b[0m     \u001b[0;32mdef\u001b[0m \u001b[0mclose\u001b[0m\u001b[0;34m(\u001b[0m\u001b[0mself\u001b[0m\u001b[0;34m)\u001b[0m \u001b[0;34m->\u001b[0m \u001b[0;32mNone\u001b[0m\u001b[0;34m:\u001b[0m\u001b[0;34m\u001b[0m\u001b[0;34m\u001b[0m\u001b[0m\n",
            "\u001b[0;32m/usr/local/lib/python3.10/dist-packages/pandas/io/parsers/readers.py\u001b[0m in \u001b[0;36m_make_engine\u001b[0;34m(self, f, engine)\u001b[0m\n\u001b[1;32m   1878\u001b[0m                 \u001b[0;32mif\u001b[0m \u001b[0;34m\"b\"\u001b[0m \u001b[0;32mnot\u001b[0m \u001b[0;32min\u001b[0m \u001b[0mmode\u001b[0m\u001b[0;34m:\u001b[0m\u001b[0;34m\u001b[0m\u001b[0;34m\u001b[0m\u001b[0m\n\u001b[1;32m   1879\u001b[0m                     \u001b[0mmode\u001b[0m \u001b[0;34m+=\u001b[0m \u001b[0;34m\"b\"\u001b[0m\u001b[0;34m\u001b[0m\u001b[0;34m\u001b[0m\u001b[0m\n\u001b[0;32m-> 1880\u001b[0;31m             self.handles = get_handle(\n\u001b[0m\u001b[1;32m   1881\u001b[0m                 \u001b[0mf\u001b[0m\u001b[0;34m,\u001b[0m\u001b[0;34m\u001b[0m\u001b[0;34m\u001b[0m\u001b[0m\n\u001b[1;32m   1882\u001b[0m                 \u001b[0mmode\u001b[0m\u001b[0;34m,\u001b[0m\u001b[0;34m\u001b[0m\u001b[0;34m\u001b[0m\u001b[0m\n",
            "\u001b[0;32m/usr/local/lib/python3.10/dist-packages/pandas/io/common.py\u001b[0m in \u001b[0;36mget_handle\u001b[0;34m(path_or_buf, mode, encoding, compression, memory_map, is_text, errors, storage_options)\u001b[0m\n\u001b[1;32m    871\u001b[0m         \u001b[0;32mif\u001b[0m \u001b[0mioargs\u001b[0m\u001b[0;34m.\u001b[0m\u001b[0mencoding\u001b[0m \u001b[0;32mand\u001b[0m \u001b[0;34m\"b\"\u001b[0m \u001b[0;32mnot\u001b[0m \u001b[0;32min\u001b[0m \u001b[0mioargs\u001b[0m\u001b[0;34m.\u001b[0m\u001b[0mmode\u001b[0m\u001b[0;34m:\u001b[0m\u001b[0;34m\u001b[0m\u001b[0;34m\u001b[0m\u001b[0m\n\u001b[1;32m    872\u001b[0m             \u001b[0;31m# Encoding\u001b[0m\u001b[0;34m\u001b[0m\u001b[0;34m\u001b[0m\u001b[0m\n\u001b[0;32m--> 873\u001b[0;31m             handle = open(\n\u001b[0m\u001b[1;32m    874\u001b[0m                 \u001b[0mhandle\u001b[0m\u001b[0;34m,\u001b[0m\u001b[0;34m\u001b[0m\u001b[0;34m\u001b[0m\u001b[0m\n\u001b[1;32m    875\u001b[0m                 \u001b[0mioargs\u001b[0m\u001b[0;34m.\u001b[0m\u001b[0mmode\u001b[0m\u001b[0;34m,\u001b[0m\u001b[0;34m\u001b[0m\u001b[0;34m\u001b[0m\u001b[0m\n",
            "\u001b[0;31mFileNotFoundError\u001b[0m: [Errno 2] No such file or directory: 'Month Wise FTA.csv'"
          ]
        }
      ],
      "source": [
        "general_data = pd.read_csv(\"General Data 2014-2020.csv\")\n",
        "gender_data = pd.read_csv(\"Country Wise Gender.csv\")\n",
        "age_data = pd.read_csv(\"Country Wise Age Group.csv\")\n",
        "monthly_fta = pd.read_csv(\"Month Wise FTA.csv\")  # Corrected file name\n",
        "state_visits = pd.read_csv(\"Top 10 State Visit.csv\")\n",
        "quarter_visitors = pd.read_csv(\"Country Quater Wise Visitors.csv\")\n",
        "country_airport = pd.read_csv(\"Country Wise Airport.csv\")\n",
        "visitor_ways = pd.read_csv(\"Country Wise Visitors Ways.csv\")\n",
        "yearly_visitors = pd.read_csv(\"Country Wise Yearly VIsitors.csv\")\n",
        "monthly_fee = pd.read_csv(\"Month Wise FEE Dollar.csv\")\n",
        "country_fta = pd.read_csv(\"Top 10 Country FTA.csv\")  # Corrected file name\n",
        "state_fta = pd.read_csv(\"Top10 State FTA Visit.csv\")  # Corrected file name\n",
        "\n"
      ]
    },
    {
      "cell_type": "markdown",
      "id": "EgtYSV57kdk_",
      "metadata": {
        "id": "EgtYSV57kdk_"
      },
      "source": [
        "Analyzing the general data file"
      ]
    },
    {
      "cell_type": "code",
      "execution_count": null,
      "id": "6c92e0b7-d24d-4dce-b966-2f1081d45967",
      "metadata": {
        "colab": {
          "base_uri": "https://localhost:8080/"
        },
        "id": "6c92e0b7-d24d-4dce-b966-2f1081d45967",
        "outputId": "b5a7e49b-2cd0-40e9-a7f8-45964de0ae1b"
      },
      "outputs": [
        {
          "name": "stdout",
          "output_type": "stream",
          "text": [
            "<class 'pandas.core.frame.DataFrame'>\n",
            "RangeIndex: 7 entries, 0 to 6\n",
            "Data columns (total 27 columns):\n",
            " #   Column       Non-Null Count  Dtype  \n",
            "---  ------       --------------  -----  \n",
            " 0   year         7 non-null      int64  \n",
            " 1   noftaii      7 non-null      float64\n",
            " 2   noftaiiagr   7 non-null      float64\n",
            " 3   noindfi      7 non-null      float64\n",
            " 4   noindfiagr   7 non-null      float64\n",
            " 5   nodtvasu     7 non-null      float64\n",
            " 6   nodtvasuagr  7 non-null      float64\n",
            " 7   feeftit      7 non-null      int64  \n",
            " 8   feeftitagr   7 non-null      float64\n",
            " 9   feeftust     7 non-null      float64\n",
            " 10  feeftustagr  7 non-null      float64\n",
            " 11  wnoita       7 non-null      int64  \n",
            " 12  wnoitaagr    7 non-null      float64\n",
            " 13  witr         7 non-null      int64  \n",
            " 14  witragr      7 non-null      float64\n",
            " 15  aprnoita     7 non-null      float64\n",
            " 16  aprnoitaagr  7 non-null      float64\n",
            " 17  apfitr       7 non-null      float64\n",
            " 18  apritragr    7 non-null      float64\n",
            " 19  ipwiita      7 non-null      float64\n",
            " 20  ipwirwta     7 non-null      object \n",
            " 21  ipwsiitr     7 non-null      float64\n",
            " 22  ipwirwtr     7 non-null      object \n",
            " 23  ipaprita     7 non-null      float64\n",
            " 24  ipaprirta    7 non-null      object \n",
            " 25  ipapritr     7 non-null      float64\n",
            " 26  ipaprirtr    7 non-null      object \n",
            "dtypes: float64(19), int64(4), object(4)\n",
            "memory usage: 1.6+ KB\n"
          ]
        }
      ],
      "source": [
        "general_data.info()"
      ]
    },
    {
      "cell_type": "markdown",
      "id": "a03df021-a6a6-4612-bfb7-863d2a4cdd2a",
      "metadata": {
        "id": "a03df021-a6a6-4612-bfb7-863d2a4cdd2a"
      },
      "source": [
        "The column names are not making sense so we will change the column name from reading the context from the data source."
      ]
    },
    {
      "cell_type": "code",
      "execution_count": null,
      "id": "1901341b-5f93-47a8-a16f-88b7319f54a3",
      "metadata": {
        "colab": {
          "base_uri": "https://localhost:8080/"
        },
        "id": "1901341b-5f93-47a8-a16f-88b7319f54a3",
        "outputId": "8e4ff335-e8b7-4a9b-ad67-e1807c73f6ab"
      },
      "outputs": [
        {
          "name": "stdout",
          "output_type": "stream",
          "text": [
            "<class 'pandas.core.frame.DataFrame'>\n",
            "RangeIndex: 7 entries, 0 to 6\n",
            "Data columns (total 27 columns):\n",
            " #   Column                         Non-Null Count  Dtype  \n",
            "---  ------                         --------------  -----  \n",
            " 0   year                           7 non-null      int64  \n",
            " 1   FTA (Million)                  7 non-null      float64\n",
            " 2   FTA Growth (%)                 7 non-null      float64\n",
            " 3   IND Departures (Million)       7 non-null      float64\n",
            " 4   IND Departures Growth (%)      7 non-null      float64\n",
            " 5   Domestic Visits (Million)      7 non-null      float64\n",
            " 6   Domestic Visits Growth (%)     7 non-null      float64\n",
            " 7   FX Earnings (INR Crores)       7 non-null      int64  \n",
            " 8   FX Earnings Growth (INR, %)    7 non-null      float64\n",
            " 9   FX Earnings (US$ Billion)      7 non-null      float64\n",
            " 10  FX Earnings Growth (US$, %)    7 non-null      float64\n",
            " 11  World Arrivals (Million)       7 non-null      int64  \n",
            " 12  World Arrivals Growth (%)      7 non-null      float64\n",
            " 13  World Receipts (US$ Billion)   7 non-null      int64  \n",
            " 14  World Receipts Growth (%)      7 non-null      float64\n",
            " 15  APAC Arrivals (Million)        7 non-null      float64\n",
            " 16  APAC Arrivals Growth (%)       7 non-null      float64\n",
            " 17  APAC Receipts (US$ Billion)    7 non-null      float64\n",
            " 18  APAC Receipts Growth (%)       7 non-null      float64\n",
            " 19  India Share Arrivals (%)       7 non-null      float64\n",
            " 20  India Rank Arrivals            7 non-null      object \n",
            " 21  India Share Receipts (%)       7 non-null      float64\n",
            " 22  India Rank Receipts            7 non-null      object \n",
            " 23  India Share APAC Arrivals (%)  7 non-null      float64\n",
            " 24  ipaprirta                      7 non-null      object \n",
            " 25  ipapritr                       7 non-null      float64\n",
            " 26  ipaprirtr                      7 non-null      object \n",
            "dtypes: float64(19), int64(4), object(4)\n",
            "memory usage: 1.6+ KB\n"
          ]
        }
      ],
      "source": [
        "general_data=general_data.rename(columns={\n",
        "    'noftaii': 'FTA (Million)',\n",
        "    'noftaiiagr': 'FTA Growth (%)',\n",
        "    'noindfi': 'IND Departures (Million)',\n",
        "    'noindfiagr': 'IND Departures Growth (%)',\n",
        "    'nodtvasu': 'Domestic Visits (Million)',\n",
        "    'nodtvasuagr': 'Domestic Visits Growth (%)',\n",
        "    'feeftit': 'FX Earnings (INR Crores)',\n",
        "    'feeftitagr': 'FX Earnings Growth (INR, %)',\n",
        "    'feeftust': 'FX Earnings (US$ Billion)',\n",
        "    'feeftustagr': 'FX Earnings Growth (US$, %)',\n",
        "    'wnoita': 'World Arrivals (Million)',\n",
        "    'wnoitaagr': 'World Arrivals Growth (%)',\n",
        "    'witr': 'World Receipts (US$ Billion)',\n",
        "    'witragr': 'World Receipts Growth (%)',\n",
        "    'aprnoita': 'APAC Arrivals (Million)',\n",
        "    'aprnoitaagr': 'APAC Arrivals Growth (%)',\n",
        "    'apfitr': 'APAC Receipts (US$ Billion)',\n",
        "    'apritragr': 'APAC Receipts Growth (%)',\n",
        "    'ipwiita': 'India Share Arrivals (%)',\n",
        "    'ipwirwta': 'India Rank Arrivals',\n",
        "    'ipwsiitr': 'India Share Receipts (%)',\n",
        "    'ipwirwtr': 'India Rank Receipts',\n",
        "    'ipaprita': 'India Share APAC Arrivals (%)'\n",
        "})\n",
        "\n",
        "general_data.info()"
      ]
    },
    {
      "cell_type": "markdown",
      "id": "bdd3a174-70db-462e-b2e6-bb1495daf2fc",
      "metadata": {
        "id": "bdd3a174-70db-462e-b2e6-bb1495daf2fc"
      },
      "source": [
        "Converting columns to float"
      ]
    },
    {
      "cell_type": "code",
      "execution_count": null,
      "id": "247bf408-003e-4141-9ded-464aa0a33c95",
      "metadata": {
        "colab": {
          "base_uri": "https://localhost:8080/"
        },
        "id": "247bf408-003e-4141-9ded-464aa0a33c95",
        "outputId": "4aa82d91-f5e4-45b8-8c85-d38b35f57499"
      },
      "outputs": [
        {
          "name": "stdout",
          "output_type": "stream",
          "text": [
            "<class 'pandas.core.frame.DataFrame'>\n",
            "RangeIndex: 7 entries, 0 to 6\n",
            "Data columns (total 27 columns):\n",
            " #   Column                         Non-Null Count  Dtype  \n",
            "---  ------                         --------------  -----  \n",
            " 0   year                           7 non-null      int64  \n",
            " 1   FTA (Million)                  7 non-null      float64\n",
            " 2   FTA Growth (%)                 7 non-null      float64\n",
            " 3   IND Departures (Million)       7 non-null      float64\n",
            " 4   IND Departures Growth (%)      7 non-null      float64\n",
            " 5   Domestic Visits (Million)      7 non-null      float64\n",
            " 6   Domestic Visits Growth (%)     7 non-null      float64\n",
            " 7   FX Earnings (INR Crores)       7 non-null      int64  \n",
            " 8   FX Earnings Growth (INR, %)    7 non-null      float64\n",
            " 9   FX Earnings (US$ Billion)      7 non-null      float64\n",
            " 10  FX Earnings Growth (US$, %)    7 non-null      float64\n",
            " 11  World Arrivals (Million)       7 non-null      int64  \n",
            " 12  World Arrivals Growth (%)      7 non-null      float64\n",
            " 13  World Receipts (US$ Billion)   7 non-null      int64  \n",
            " 14  World Receipts Growth (%)      7 non-null      float64\n",
            " 15  APAC Arrivals (Million)        7 non-null      float64\n",
            " 16  APAC Arrivals Growth (%)       7 non-null      float64\n",
            " 17  APAC Receipts (US$ Billion)    7 non-null      float64\n",
            " 18  APAC Receipts Growth (%)       7 non-null      float64\n",
            " 19  India Share Arrivals (%)       7 non-null      float64\n",
            " 20  India Rank Arrivals            6 non-null      float64\n",
            " 21  India Share Receipts (%)       7 non-null      float64\n",
            " 22  India Rank Receipts            6 non-null      float64\n",
            " 23  India Share APAC Arrivals (%)  7 non-null      float64\n",
            " 24  ipaprirta                      6 non-null      float64\n",
            " 25  ipapritr                       7 non-null      float64\n",
            " 26  ipaprirtr                      6 non-null      float64\n",
            "dtypes: float64(23), int64(4)\n",
            "memory usage: 1.6 KB\n"
          ]
        }
      ],
      "source": [
        "general_data.replace('-', np.nan, inplace=True)\n",
        "\n",
        "\n",
        "columns_to_convert = [\n",
        "    'India Rank Arrivals',\n",
        "    'India Rank Receipts', 'ipaprirta',\n",
        "    'ipaprirtr'\n",
        "]\n",
        "\n",
        "for col in columns_to_convert:\n",
        "    general_data[col] = general_data[col].astype(float)\n",
        "\n",
        "\n",
        "general_data.info()"
      ]
    },
    {
      "cell_type": "markdown",
      "id": "rS8yaFx8lGDV",
      "metadata": {
        "id": "rS8yaFx8lGDV"
      },
      "source": [
        "Dropping null values"
      ]
    },
    {
      "cell_type": "code",
      "execution_count": null,
      "id": "5f22ab84-7c64-44b9-847a-a50cd13cb670",
      "metadata": {
        "colab": {
          "base_uri": "https://localhost:8080/"
        },
        "id": "5f22ab84-7c64-44b9-847a-a50cd13cb670",
        "outputId": "904fa769-e327-4074-b499-ae2b3c8d4f1f"
      },
      "outputs": [
        {
          "name": "stdout",
          "output_type": "stream",
          "text": [
            "<class 'pandas.core.frame.DataFrame'>\n",
            "Index: 6 entries, 0 to 5\n",
            "Data columns (total 27 columns):\n",
            " #   Column                         Non-Null Count  Dtype  \n",
            "---  ------                         --------------  -----  \n",
            " 0   year                           6 non-null      int64  \n",
            " 1   FTA (Million)                  6 non-null      float64\n",
            " 2   FTA Growth (%)                 6 non-null      float64\n",
            " 3   IND Departures (Million)       6 non-null      float64\n",
            " 4   IND Departures Growth (%)      6 non-null      float64\n",
            " 5   Domestic Visits (Million)      6 non-null      float64\n",
            " 6   Domestic Visits Growth (%)     6 non-null      float64\n",
            " 7   FX Earnings (INR Crores)       6 non-null      int64  \n",
            " 8   FX Earnings Growth (INR, %)    6 non-null      float64\n",
            " 9   FX Earnings (US$ Billion)      6 non-null      float64\n",
            " 10  FX Earnings Growth (US$, %)    6 non-null      float64\n",
            " 11  World Arrivals (Million)       6 non-null      int64  \n",
            " 12  World Arrivals Growth (%)      6 non-null      float64\n",
            " 13  World Receipts (US$ Billion)   6 non-null      int64  \n",
            " 14  World Receipts Growth (%)      6 non-null      float64\n",
            " 15  APAC Arrivals (Million)        6 non-null      float64\n",
            " 16  APAC Arrivals Growth (%)       6 non-null      float64\n",
            " 17  APAC Receipts (US$ Billion)    6 non-null      float64\n",
            " 18  APAC Receipts Growth (%)       6 non-null      float64\n",
            " 19  India Share Arrivals (%)       6 non-null      float64\n",
            " 20  India Rank Arrivals            6 non-null      float64\n",
            " 21  India Share Receipts (%)       6 non-null      float64\n",
            " 22  India Rank Receipts            6 non-null      float64\n",
            " 23  India Share APAC Arrivals (%)  6 non-null      float64\n",
            " 24  ipaprirta                      6 non-null      float64\n",
            " 25  ipapritr                       6 non-null      float64\n",
            " 26  ipaprirtr                      6 non-null      float64\n",
            "dtypes: float64(23), int64(4)\n",
            "memory usage: 1.3 KB\n"
          ]
        }
      ],
      "source": [
        "general_data = general_data.dropna()\n",
        "\n",
        "general_data.info()"
      ]
    },
    {
      "cell_type": "code",
      "execution_count": null,
      "id": "a83e21bf-e341-40a0-8d4b-655c7185d2e8",
      "metadata": {
        "id": "a83e21bf-e341-40a0-8d4b-655c7185d2e8"
      },
      "outputs": [],
      "source": [
        "#####################################################################################################################################################"
      ]
    },
    {
      "cell_type": "markdown",
      "id": "PxxCZI6UlNcX",
      "metadata": {
        "id": "PxxCZI6UlNcX"
      },
      "source": [
        "Analyzing gender data file"
      ]
    },
    {
      "cell_type": "code",
      "execution_count": null,
      "id": "0238d48d-9e4e-4ef4-8833-0d2a14fa5af0",
      "metadata": {
        "colab": {
          "base_uri": "https://localhost:8080/"
        },
        "id": "0238d48d-9e4e-4ef4-8833-0d2a14fa5af0",
        "outputId": "65a4bddf-25cc-45b7-8f15-27312e97c230"
      },
      "outputs": [
        {
          "name": "stdout",
          "output_type": "stream",
          "text": [
            "<class 'pandas.core.frame.DataFrame'>\n",
            "RangeIndex: 63 entries, 0 to 62\n",
            "Data columns (total 15 columns):\n",
            " #   Column                  Non-Null Count  Dtype  \n",
            "---  ------                  --------------  -----  \n",
            " 0   Country of Nationality  63 non-null     object \n",
            " 1   2014 Male               62 non-null     float64\n",
            " 2   2014 Female             62 non-null     float64\n",
            " 3   2015 Male               62 non-null     float64\n",
            " 4   2015 Female             62 non-null     float64\n",
            " 5   2016 Male               63 non-null     float64\n",
            " 6   2016 Female             63 non-null     float64\n",
            " 7   2017 Male               62 non-null     float64\n",
            " 8   2017 Female             62 non-null     float64\n",
            " 9   2018 Male               63 non-null     float64\n",
            " 10  2018 Female             63 non-null     float64\n",
            " 11  2019 Male               63 non-null     float64\n",
            " 12  2019 Female             63 non-null     float64\n",
            " 13  2020 Male               63 non-null     float64\n",
            " 14  2020 Female             63 non-null     float64\n",
            "dtypes: float64(14), object(1)\n",
            "memory usage: 7.5+ KB\n"
          ]
        }
      ],
      "source": [
        "gender_data.info()"
      ]
    },
    {
      "cell_type": "markdown",
      "id": "5v6tYfCalaMh",
      "metadata": {
        "id": "5v6tYfCalaMh"
      },
      "source": [
        "Dropping null values"
      ]
    },
    {
      "cell_type": "code",
      "execution_count": null,
      "id": "e8ff04ae-f1a5-49b3-abf1-d6a8b920fa4d",
      "metadata": {
        "colab": {
          "base_uri": "https://localhost:8080/"
        },
        "id": "e8ff04ae-f1a5-49b3-abf1-d6a8b920fa4d",
        "outputId": "89d49ee4-826f-48dc-cae5-12587d9395a6"
      },
      "outputs": [
        {
          "name": "stdout",
          "output_type": "stream",
          "text": [
            "<class 'pandas.core.frame.DataFrame'>\n",
            "Index: 60 entries, 0 to 62\n",
            "Data columns (total 15 columns):\n",
            " #   Column                  Non-Null Count  Dtype  \n",
            "---  ------                  --------------  -----  \n",
            " 0   Country of Nationality  60 non-null     object \n",
            " 1   2014 Male               60 non-null     float64\n",
            " 2   2014 Female             60 non-null     float64\n",
            " 3   2015 Male               60 non-null     float64\n",
            " 4   2015 Female             60 non-null     float64\n",
            " 5   2016 Male               60 non-null     float64\n",
            " 6   2016 Female             60 non-null     float64\n",
            " 7   2017 Male               60 non-null     float64\n",
            " 8   2017 Female             60 non-null     float64\n",
            " 9   2018 Male               60 non-null     float64\n",
            " 10  2018 Female             60 non-null     float64\n",
            " 11  2019 Male               60 non-null     float64\n",
            " 12  2019 Female             60 non-null     float64\n",
            " 13  2020 Male               60 non-null     float64\n",
            " 14  2020 Female             60 non-null     float64\n",
            "dtypes: float64(14), object(1)\n",
            "memory usage: 7.5+ KB\n"
          ]
        }
      ],
      "source": [
        "gender_data = gender_data.dropna()\n",
        "\n",
        "gender_data.info()"
      ]
    },
    {
      "cell_type": "code",
      "execution_count": null,
      "id": "955a761b-64ad-4cc4-9da8-8724c6f59d2c",
      "metadata": {
        "id": "955a761b-64ad-4cc4-9da8-8724c6f59d2c"
      },
      "outputs": [],
      "source": [
        "######################################################################################################################################################"
      ]
    },
    {
      "cell_type": "markdown",
      "id": "H2qPphkdlmZE",
      "metadata": {
        "id": "H2qPphkdlmZE"
      },
      "source": [
        "Analyzing age data file"
      ]
    },
    {
      "cell_type": "code",
      "execution_count": null,
      "id": "af96ecae-3cc3-4e4f-b69d-f4d2fec51e1a",
      "metadata": {
        "colab": {
          "base_uri": "https://localhost:8080/"
        },
        "id": "af96ecae-3cc3-4e4f-b69d-f4d2fec51e1a",
        "outputId": "95c38aea-69ba-4828-96dd-eb795d1ee459"
      },
      "outputs": [
        {
          "name": "stdout",
          "output_type": "stream",
          "text": [
            "<class 'pandas.core.frame.DataFrame'>\n",
            "RangeIndex: 63 entries, 0 to 62\n",
            "Data columns (total 50 columns):\n",
            " #   Column                  Non-Null Count  Dtype  \n",
            "---  ------                  --------------  -----  \n",
            " 0   Country of Nationality  63 non-null     object \n",
            " 1   2014 0-14               63 non-null     float64\n",
            " 2    2014 15-24             63 non-null     float64\n",
            " 3    2014 25-34             63 non-null     float64\n",
            " 4   2014 35-44              63 non-null     float64\n",
            " 5   2014 45-54              63 non-null     float64\n",
            " 6   2014 55-64              63 non-null     float64\n",
            " 7   2014 65 AND ABOVE       63 non-null     float64\n",
            " 8   2015 0-14               63 non-null     float64\n",
            " 9    2015 15-24             63 non-null     float64\n",
            " 10   2015 25-34             63 non-null     float64\n",
            " 11  2015 35-44              63 non-null     float64\n",
            " 12  2015 45-54              63 non-null     float64\n",
            " 13  2015 55-64              63 non-null     float64\n",
            " 14  2015 65 AND ABOVE       63 non-null     float64\n",
            " 15  2016 0-14               63 non-null     float64\n",
            " 16   2016 15-24             63 non-null     float64\n",
            " 17   2016 25-34             63 non-null     float64\n",
            " 18  2016 35-44              63 non-null     float64\n",
            " 19  2016 45-54              63 non-null     float64\n",
            " 20  2016 55-64              63 non-null     float64\n",
            " 21  2016 65 AND ABOVE       63 non-null     float64\n",
            " 22  2017 0-14               49 non-null     float64\n",
            " 23   2017 15-24             52 non-null     float64\n",
            " 24   2017 25-34             52 non-null     float64\n",
            " 25  2017 35-44              52 non-null     float64\n",
            " 26  2017 45-54              52 non-null     float64\n",
            " 27  2017 55-64              52 non-null     float64\n",
            " 28  2017 65 AND ABOVE       51 non-null     object \n",
            " 29  2018 0-14               63 non-null     float64\n",
            " 30   2018 15-24             63 non-null     float64\n",
            " 31   2018 25-34             63 non-null     float64\n",
            " 32  2018 35-44              63 non-null     float64\n",
            " 33  2018 45-54              63 non-null     float64\n",
            " 34  2018 55-64              63 non-null     float64\n",
            " 35  2018 65 AND ABOVE       63 non-null     float64\n",
            " 36  2019 0-14               63 non-null     float64\n",
            " 37   2019 15-24             63 non-null     float64\n",
            " 38   2019 25-34             63 non-null     float64\n",
            " 39  2019 35-44              63 non-null     float64\n",
            " 40  2019 45-54              63 non-null     float64\n",
            " 41  2019 55-64              63 non-null     float64\n",
            " 42  2019 65 AND ABOVE       63 non-null     float64\n",
            " 43  2020 0-14               63 non-null     float64\n",
            " 44   2020 15-24             63 non-null     float64\n",
            " 45   2020 25-34             63 non-null     float64\n",
            " 46  2020 35-44              63 non-null     float64\n",
            " 47  2020 45-54              63 non-null     float64\n",
            " 48  2020 55-64              63 non-null     float64\n",
            " 49  2020 65 AND ABOVE       63 non-null     float64\n",
            "dtypes: float64(48), object(2)\n",
            "memory usage: 24.7+ KB\n"
          ]
        }
      ],
      "source": [
        "age_data.info()"
      ]
    },
    {
      "cell_type": "markdown",
      "id": "NjQ9FD4Ml_ah",
      "metadata": {
        "id": "NjQ9FD4Ml_ah"
      },
      "source": [
        "Cleaning of data file"
      ]
    },
    {
      "cell_type": "code",
      "execution_count": null,
      "id": "a2ea836a-5e01-48d2-a4c2-3bf46c2cc98f",
      "metadata": {
        "colab": {
          "base_uri": "https://localhost:8080/"
        },
        "id": "a2ea836a-5e01-48d2-a4c2-3bf46c2cc98f",
        "outputId": "d8f4b4e6-bce8-4ac2-debb-30bc7f53c0b7"
      },
      "outputs": [
        {
          "name": "stdout",
          "output_type": "stream",
          "text": [
            "<class 'pandas.core.frame.DataFrame'>\n",
            "RangeIndex: 63 entries, 0 to 62\n",
            "Data columns (total 50 columns):\n",
            " #   Column                  Non-Null Count  Dtype  \n",
            "---  ------                  --------------  -----  \n",
            " 0   Country Of Nationality  63 non-null     object \n",
            " 1   2014 0-14               63 non-null     float64\n",
            " 2   2014 15-24              63 non-null     float64\n",
            " 3   2014 25-34              63 non-null     float64\n",
            " 4   2014 35-44              63 non-null     float64\n",
            " 5   2014 45-54              63 non-null     float64\n",
            " 6   2014 55-64              63 non-null     float64\n",
            " 7   2014 65 And Above       63 non-null     float64\n",
            " 8   2015 0-14               63 non-null     float64\n",
            " 9   2015 15-24              63 non-null     float64\n",
            " 10  2015 25-34              63 non-null     float64\n",
            " 11  2015 35-44              63 non-null     float64\n",
            " 12  2015 45-54              63 non-null     float64\n",
            " 13  2015 55-64              63 non-null     float64\n",
            " 14  2015 65 And Above       63 non-null     float64\n",
            " 15  2016 0-14               63 non-null     float64\n",
            " 16  2016 15-24              63 non-null     float64\n",
            " 17  2016 25-34              63 non-null     float64\n",
            " 18  2016 35-44              63 non-null     float64\n",
            " 19  2016 45-54              63 non-null     float64\n",
            " 20  2016 55-64              63 non-null     float64\n",
            " 21  2016 65 And Above       63 non-null     float64\n",
            " 22  2017 0-14               49 non-null     float64\n",
            " 23  2017 15-24              52 non-null     float64\n",
            " 24  2017 25-34              52 non-null     float64\n",
            " 25  2017 35-44              52 non-null     float64\n",
            " 26  2017 45-54              52 non-null     float64\n",
            " 27  2017 55-64              52 non-null     float64\n",
            " 28  2017 65 And Above       51 non-null     object \n",
            " 29  2018 0-14               63 non-null     float64\n",
            " 30  2018 15-24              63 non-null     float64\n",
            " 31  2018 25-34              63 non-null     float64\n",
            " 32  2018 35-44              63 non-null     float64\n",
            " 33  2018 45-54              63 non-null     float64\n",
            " 34  2018 55-64              63 non-null     float64\n",
            " 35  2018 65 And Above       63 non-null     float64\n",
            " 36  2019 0-14               63 non-null     float64\n",
            " 37  2019 15-24              63 non-null     float64\n",
            " 38  2019 25-34              63 non-null     float64\n",
            " 39  2019 35-44              63 non-null     float64\n",
            " 40  2019 45-54              63 non-null     float64\n",
            " 41  2019 55-64              63 non-null     float64\n",
            " 42  2019 65 And Above       63 non-null     float64\n",
            " 43  2020 0-14               63 non-null     float64\n",
            " 44  2020 15-24              63 non-null     float64\n",
            " 45  2020 25-34              63 non-null     float64\n",
            " 46  2020 35-44              63 non-null     float64\n",
            " 47  2020 45-54              63 non-null     float64\n",
            " 48  2020 55-64              63 non-null     float64\n",
            " 49  2020 65 And Above       63 non-null     float64\n",
            "dtypes: float64(48), object(2)\n",
            "memory usage: 24.7+ KB\n"
          ]
        }
      ],
      "source": [
        "def clean_column_names(col):\n",
        "    col = col.strip()  # Remove leading/trailing spaces\n",
        "    col = col.replace('  ', ' ')  # Replace double spaces with single spaces\n",
        "    col = col.replace('Age', 'Age Group')  # Standardize 'Age' to 'Age Group'\n",
        "\n",
        "    col = col.title()  # Capitalize each word\n",
        "    return col\n",
        "\n",
        "# Apply the cleaning function to column names\n",
        "age_data.columns = [clean_column_names(col) for col in age_data.columns]\n",
        "\n",
        "age_data.info()"
      ]
    },
    {
      "cell_type": "code",
      "execution_count": null,
      "id": "99f7b114-1f9d-4997-93be-fff5ba43a8b8",
      "metadata": {
        "colab": {
          "base_uri": "https://localhost:8080/"
        },
        "id": "99f7b114-1f9d-4997-93be-fff5ba43a8b8",
        "outputId": "7b2013d9-8a15-41ab-a509-b7178df0b125"
      },
      "outputs": [
        {
          "name": "stdout",
          "output_type": "stream",
          "text": [
            "0     15.3\n",
            "1     11.5\n",
            "2     10.8\n",
            "3      6.4\n",
            "4      6.3\n",
            "5      9.2\n",
            "6      7.5\n",
            "7     10.7\n",
            "8      7.8\n",
            "9     13.l\n",
            "10     9.3\n",
            "11       6\n",
            "Name: 2017 65 And Above, dtype: object\n"
          ]
        }
      ],
      "source": [
        "print(age_data['2017 65 And Above'].head(12))"
      ]
    },
    {
      "cell_type": "code",
      "execution_count": null,
      "id": "fcdc7e8c-6e53-4dbe-bc75-9de830375cf1",
      "metadata": {
        "colab": {
          "base_uri": "https://localhost:8080/"
        },
        "id": "fcdc7e8c-6e53-4dbe-bc75-9de830375cf1",
        "outputId": "0eabd015-faaf-4e7f-ef42-a15e5ad0dbca"
      },
      "outputs": [
        {
          "name": "stdout",
          "output_type": "stream",
          "text": [
            "<class 'pandas.core.frame.DataFrame'>\n",
            "RangeIndex: 63 entries, 0 to 62\n",
            "Data columns (total 50 columns):\n",
            " #   Column                  Non-Null Count  Dtype  \n",
            "---  ------                  --------------  -----  \n",
            " 0   Country Of Nationality  63 non-null     object \n",
            " 1   2014 0-14               63 non-null     float64\n",
            " 2   2014 15-24              63 non-null     float64\n",
            " 3   2014 25-34              63 non-null     float64\n",
            " 4   2014 35-44              63 non-null     float64\n",
            " 5   2014 45-54              63 non-null     float64\n",
            " 6   2014 55-64              63 non-null     float64\n",
            " 7   2014 65 And Above       63 non-null     float64\n",
            " 8   2015 0-14               63 non-null     float64\n",
            " 9   2015 15-24              63 non-null     float64\n",
            " 10  2015 25-34              63 non-null     float64\n",
            " 11  2015 35-44              63 non-null     float64\n",
            " 12  2015 45-54              63 non-null     float64\n",
            " 13  2015 55-64              63 non-null     float64\n",
            " 14  2015 65 And Above       63 non-null     float64\n",
            " 15  2016 0-14               63 non-null     float64\n",
            " 16  2016 15-24              63 non-null     float64\n",
            " 17  2016 25-34              63 non-null     float64\n",
            " 18  2016 35-44              63 non-null     float64\n",
            " 19  2016 45-54              63 non-null     float64\n",
            " 20  2016 55-64              63 non-null     float64\n",
            " 21  2016 65 And Above       63 non-null     float64\n",
            " 22  2017 0-14               49 non-null     float64\n",
            " 23  2017 15-24              52 non-null     float64\n",
            " 24  2017 25-34              52 non-null     float64\n",
            " 25  2017 35-44              52 non-null     float64\n",
            " 26  2017 45-54              52 non-null     float64\n",
            " 27  2017 55-64              52 non-null     float64\n",
            " 28  2017 65 And Above       51 non-null     object \n",
            " 29  2018 0-14               63 non-null     float64\n",
            " 30  2018 15-24              63 non-null     float64\n",
            " 31  2018 25-34              63 non-null     float64\n",
            " 32  2018 35-44              63 non-null     float64\n",
            " 33  2018 45-54              63 non-null     float64\n",
            " 34  2018 55-64              63 non-null     float64\n",
            " 35  2018 65 And Above       63 non-null     float64\n",
            " 36  2019 0-14               63 non-null     float64\n",
            " 37  2019 15-24              63 non-null     float64\n",
            " 38  2019 25-34              63 non-null     float64\n",
            " 39  2019 35-44              63 non-null     float64\n",
            " 40  2019 45-54              63 non-null     float64\n",
            " 41  2019 55-64              63 non-null     float64\n",
            " 42  2019 65 And Above       63 non-null     float64\n",
            " 43  2020 0-14               63 non-null     float64\n",
            " 44  2020 15-24              63 non-null     float64\n",
            " 45  2020 25-34              63 non-null     float64\n",
            " 46  2020 35-44              63 non-null     float64\n",
            " 47  2020 45-54              63 non-null     float64\n",
            " 48  2020 55-64              63 non-null     float64\n",
            " 49  2020 65 And Above       63 non-null     float64\n",
            "dtypes: float64(48), object(2)\n",
            "memory usage: 24.7+ KB\n"
          ]
        },
        {
          "name": "stderr",
          "output_type": "stream",
          "text": [
            "<ipython-input-12-6465d62d7ed9>:7: FutureWarning: DataFrame.applymap has been deprecated. Use DataFrame.map instead.\n",
            "  age_data = age_data.applymap(replace_l_with_1)\n"
          ]
        }
      ],
      "source": [
        "def replace_l_with_1(cell):\n",
        "    if isinstance(cell, str):  # Apply replacement only to string values\n",
        "        return cell.replace('l', '1')\n",
        "    return cell\n",
        "\n",
        "# Apply the function to all cell values (excluding column names)\n",
        "age_data = age_data.applymap(replace_l_with_1)\n",
        "\n",
        "\n",
        "age_data.info()"
      ]
    },
    {
      "cell_type": "code",
      "execution_count": null,
      "id": "ee2cc30e-21db-4965-ac96-28a4705bc5a4",
      "metadata": {
        "colab": {
          "base_uri": "https://localhost:8080/"
        },
        "id": "ee2cc30e-21db-4965-ac96-28a4705bc5a4",
        "outputId": "9039b58e-a2b8-448b-fa64-5412c27a4944"
      },
      "outputs": [
        {
          "name": "stdout",
          "output_type": "stream",
          "text": [
            "0     15.3\n",
            "1     11.5\n",
            "2     10.8\n",
            "3      6.4\n",
            "4      6.3\n",
            "5      9.2\n",
            "6      7.5\n",
            "7     10.7\n",
            "8      7.8\n",
            "9     13.1\n",
            "10     9.3\n",
            "11       6\n",
            "Name: 2017 65 And Above, dtype: object\n"
          ]
        }
      ],
      "source": [
        "print(age_data['2017 65 And Above'].head(12))"
      ]
    },
    {
      "cell_type": "markdown",
      "id": "SD8nI2ZSm31z",
      "metadata": {
        "id": "SD8nI2ZSm31z"
      },
      "source": [
        "Converting data type of column"
      ]
    },
    {
      "cell_type": "code",
      "execution_count": null,
      "id": "ba168431-799e-4ee1-8d28-e43205ec2ede",
      "metadata": {
        "colab": {
          "base_uri": "https://localhost:8080/"
        },
        "id": "ba168431-799e-4ee1-8d28-e43205ec2ede",
        "outputId": "00197ef9-4205-4d95-a1f8-419664982101"
      },
      "outputs": [
        {
          "name": "stdout",
          "output_type": "stream",
          "text": [
            "<class 'pandas.core.frame.DataFrame'>\n",
            "RangeIndex: 63 entries, 0 to 62\n",
            "Data columns (total 50 columns):\n",
            " #   Column                  Non-Null Count  Dtype  \n",
            "---  ------                  --------------  -----  \n",
            " 0   Country Of Nationality  63 non-null     object \n",
            " 1   2014 0-14               63 non-null     float64\n",
            " 2   2014 15-24              63 non-null     float64\n",
            " 3   2014 25-34              63 non-null     float64\n",
            " 4   2014 35-44              63 non-null     float64\n",
            " 5   2014 45-54              63 non-null     float64\n",
            " 6   2014 55-64              63 non-null     float64\n",
            " 7   2014 65 And Above       63 non-null     float64\n",
            " 8   2015 0-14               63 non-null     float64\n",
            " 9   2015 15-24              63 non-null     float64\n",
            " 10  2015 25-34              63 non-null     float64\n",
            " 11  2015 35-44              63 non-null     float64\n",
            " 12  2015 45-54              63 non-null     float64\n",
            " 13  2015 55-64              63 non-null     float64\n",
            " 14  2015 65 And Above       63 non-null     float64\n",
            " 15  2016 0-14               63 non-null     float64\n",
            " 16  2016 15-24              63 non-null     float64\n",
            " 17  2016 25-34              63 non-null     float64\n",
            " 18  2016 35-44              63 non-null     float64\n",
            " 19  2016 45-54              63 non-null     float64\n",
            " 20  2016 55-64              63 non-null     float64\n",
            " 21  2016 65 And Above       63 non-null     float64\n",
            " 22  2017 0-14               49 non-null     float64\n",
            " 23  2017 15-24              52 non-null     float64\n",
            " 24  2017 25-34              52 non-null     float64\n",
            " 25  2017 35-44              52 non-null     float64\n",
            " 26  2017 45-54              52 non-null     float64\n",
            " 27  2017 55-64              52 non-null     float64\n",
            " 28  2017 65 And Above       51 non-null     float64\n",
            " 29  2018 0-14               63 non-null     float64\n",
            " 30  2018 15-24              63 non-null     float64\n",
            " 31  2018 25-34              63 non-null     float64\n",
            " 32  2018 35-44              63 non-null     float64\n",
            " 33  2018 45-54              63 non-null     float64\n",
            " 34  2018 55-64              63 non-null     float64\n",
            " 35  2018 65 And Above       63 non-null     float64\n",
            " 36  2019 0-14               63 non-null     float64\n",
            " 37  2019 15-24              63 non-null     float64\n",
            " 38  2019 25-34              63 non-null     float64\n",
            " 39  2019 35-44              63 non-null     float64\n",
            " 40  2019 45-54              63 non-null     float64\n",
            " 41  2019 55-64              63 non-null     float64\n",
            " 42  2019 65 And Above       63 non-null     float64\n",
            " 43  2020 0-14               63 non-null     float64\n",
            " 44  2020 15-24              63 non-null     float64\n",
            " 45  2020 25-34              63 non-null     float64\n",
            " 46  2020 35-44              63 non-null     float64\n",
            " 47  2020 45-54              63 non-null     float64\n",
            " 48  2020 55-64              63 non-null     float64\n",
            " 49  2020 65 And Above       63 non-null     float64\n",
            "dtypes: float64(49), object(1)\n",
            "memory usage: 24.7+ KB\n"
          ]
        }
      ],
      "source": [
        "age_data['2017 65 And Above'] = age_data['2017 65 And Above'].astype(float)\n",
        "\n",
        "age_data.info()"
      ]
    },
    {
      "cell_type": "markdown",
      "id": "zrb723IMmuOO",
      "metadata": {
        "id": "zrb723IMmuOO"
      },
      "source": [
        "Dropping null values"
      ]
    },
    {
      "cell_type": "code",
      "execution_count": null,
      "id": "576fe742-8ca9-4b66-ae15-ca79499f7938",
      "metadata": {
        "colab": {
          "base_uri": "https://localhost:8080/"
        },
        "id": "576fe742-8ca9-4b66-ae15-ca79499f7938",
        "outputId": "5c0b8459-ed0d-46bb-f5f1-1cab82833152"
      },
      "outputs": [
        {
          "name": "stdout",
          "output_type": "stream",
          "text": [
            "<class 'pandas.core.frame.DataFrame'>\n",
            "Index: 49 entries, 0 to 60\n",
            "Data columns (total 50 columns):\n",
            " #   Column                  Non-Null Count  Dtype  \n",
            "---  ------                  --------------  -----  \n",
            " 0   Country Of Nationality  49 non-null     object \n",
            " 1   2014 0-14               49 non-null     float64\n",
            " 2   2014 15-24              49 non-null     float64\n",
            " 3   2014 25-34              49 non-null     float64\n",
            " 4   2014 35-44              49 non-null     float64\n",
            " 5   2014 45-54              49 non-null     float64\n",
            " 6   2014 55-64              49 non-null     float64\n",
            " 7   2014 65 And Above       49 non-null     float64\n",
            " 8   2015 0-14               49 non-null     float64\n",
            " 9   2015 15-24              49 non-null     float64\n",
            " 10  2015 25-34              49 non-null     float64\n",
            " 11  2015 35-44              49 non-null     float64\n",
            " 12  2015 45-54              49 non-null     float64\n",
            " 13  2015 55-64              49 non-null     float64\n",
            " 14  2015 65 And Above       49 non-null     float64\n",
            " 15  2016 0-14               49 non-null     float64\n",
            " 16  2016 15-24              49 non-null     float64\n",
            " 17  2016 25-34              49 non-null     float64\n",
            " 18  2016 35-44              49 non-null     float64\n",
            " 19  2016 45-54              49 non-null     float64\n",
            " 20  2016 55-64              49 non-null     float64\n",
            " 21  2016 65 And Above       49 non-null     float64\n",
            " 22  2017 0-14               49 non-null     float64\n",
            " 23  2017 15-24              49 non-null     float64\n",
            " 24  2017 25-34              49 non-null     float64\n",
            " 25  2017 35-44              49 non-null     float64\n",
            " 26  2017 45-54              49 non-null     float64\n",
            " 27  2017 55-64              49 non-null     float64\n",
            " 28  2017 65 And Above       49 non-null     float64\n",
            " 29  2018 0-14               49 non-null     float64\n",
            " 30  2018 15-24              49 non-null     float64\n",
            " 31  2018 25-34              49 non-null     float64\n",
            " 32  2018 35-44              49 non-null     float64\n",
            " 33  2018 45-54              49 non-null     float64\n",
            " 34  2018 55-64              49 non-null     float64\n",
            " 35  2018 65 And Above       49 non-null     float64\n",
            " 36  2019 0-14               49 non-null     float64\n",
            " 37  2019 15-24              49 non-null     float64\n",
            " 38  2019 25-34              49 non-null     float64\n",
            " 39  2019 35-44              49 non-null     float64\n",
            " 40  2019 45-54              49 non-null     float64\n",
            " 41  2019 55-64              49 non-null     float64\n",
            " 42  2019 65 And Above       49 non-null     float64\n",
            " 43  2020 0-14               49 non-null     float64\n",
            " 44  2020 15-24              49 non-null     float64\n",
            " 45  2020 25-34              49 non-null     float64\n",
            " 46  2020 35-44              49 non-null     float64\n",
            " 47  2020 45-54              49 non-null     float64\n",
            " 48  2020 55-64              49 non-null     float64\n",
            " 49  2020 65 And Above       49 non-null     float64\n",
            "dtypes: float64(49), object(1)\n",
            "memory usage: 19.5+ KB\n"
          ]
        }
      ],
      "source": [
        "age_data = age_data.dropna()\n",
        "\n",
        "age_data.info()"
      ]
    },
    {
      "cell_type": "code",
      "execution_count": null,
      "id": "0c7ef509-e36f-4292-b3e4-1645126af9d1",
      "metadata": {
        "id": "0c7ef509-e36f-4292-b3e4-1645126af9d1"
      },
      "outputs": [],
      "source": [
        "######################################################################################################################################################"
      ]
    },
    {
      "cell_type": "markdown",
      "id": "hDwmUHsbnQAR",
      "metadata": {
        "id": "hDwmUHsbnQAR"
      },
      "source": [
        "Analyzing foreign tourist arrivals data file"
      ]
    },
    {
      "cell_type": "code",
      "execution_count": null,
      "id": "9b1d2c38-c5bc-4e93-a94c-d97163233450",
      "metadata": {
        "colab": {
          "base_uri": "https://localhost:8080/"
        },
        "id": "9b1d2c38-c5bc-4e93-a94c-d97163233450",
        "outputId": "98364e18-ebab-435b-87b1-a59265fda1ce"
      },
      "outputs": [
        {
          "name": "stdout",
          "output_type": "stream",
          "text": [
            "<class 'pandas.core.frame.DataFrame'>\n",
            "RangeIndex: 7 entries, 0 to 6\n",
            "Data columns (total 13 columns):\n",
            " #   Column     Non-Null Count  Dtype  \n",
            "---  ------     --------------  -----  \n",
            " 0   year       7 non-null      float64\n",
            " 1   january    7 non-null      float64\n",
            " 2   february   7 non-null      float64\n",
            " 3   march      7 non-null      float64\n",
            " 4   april      7 non-null      float64\n",
            " 5   may        7 non-null      float64\n",
            " 6   june       7 non-null      float64\n",
            " 7   july       7 non-null      float64\n",
            " 8   august     7 non-null      float64\n",
            " 9   september  7 non-null      float64\n",
            " 10  october    7 non-null      float64\n",
            " 11  november   7 non-null      float64\n",
            " 12  december   7 non-null      float64\n",
            "dtypes: float64(13)\n",
            "memory usage: 856.0 bytes\n"
          ]
        }
      ],
      "source": [
        "monthly_fta.info()"
      ]
    },
    {
      "cell_type": "code",
      "execution_count": null,
      "id": "3ca33b14-7306-4116-955d-1a059dbc0f3e",
      "metadata": {
        "id": "3ca33b14-7306-4116-955d-1a059dbc0f3e"
      },
      "outputs": [],
      "source": [
        "######################################################################################################################################################"
      ]
    },
    {
      "cell_type": "markdown",
      "id": "qe_BvhfUnbvv",
      "metadata": {
        "id": "qe_BvhfUnbvv"
      },
      "source": [
        "Analyzing state visits data file"
      ]
    },
    {
      "cell_type": "code",
      "execution_count": null,
      "id": "f3c6c13a-71ca-494a-9179-752533ce16c6",
      "metadata": {
        "colab": {
          "base_uri": "https://localhost:8080/"
        },
        "id": "f3c6c13a-71ca-494a-9179-752533ce16c6",
        "outputId": "822a68d2-c375-4527-d4a9-332b12f32e47"
      },
      "outputs": [
        {
          "name": "stdout",
          "output_type": "stream",
          "text": [
            "<class 'pandas.core.frame.DataFrame'>\n",
            "RangeIndex: 7 entries, 0 to 6\n",
            "Data columns (total 21 columns):\n",
            " #   Column       Non-Null Count  Dtype  \n",
            "---  ------       --------------  -----  \n",
            " 0   year         7 non-null      float64\n",
            " 1   top1_state   7 non-null      object \n",
            " 2   top1_ftv     7 non-null      int64  \n",
            " 3   top2_state   7 non-null      object \n",
            " 4   top2_ftv     7 non-null      int64  \n",
            " 5   top3_state   7 non-null      object \n",
            " 6   top3_ftv     7 non-null      int64  \n",
            " 7   top4_state   7 non-null      object \n",
            " 8   top4_ftv     7 non-null      int64  \n",
            " 9   top5_state   7 non-null      object \n",
            " 10  top5_ftv     7 non-null      int64  \n",
            " 11  top6_state   7 non-null      object \n",
            " 12  top6_ftv     7 non-null      int64  \n",
            " 13  top7_state   7 non-null      object \n",
            " 14  top7_ftv     7 non-null      int64  \n",
            " 15  top8_state   7 non-null      object \n",
            " 16  top8_ftv     7 non-null      int64  \n",
            " 17  top9_state   7 non-null      object \n",
            " 18  top9_ftv     7 non-null      int64  \n",
            " 19  top10_state  7 non-null      object \n",
            " 20  top10_ftv    7 non-null      int64  \n",
            "dtypes: float64(1), int64(10), object(10)\n",
            "memory usage: 1.3+ KB\n"
          ]
        }
      ],
      "source": [
        "state_visits.info()"
      ]
    },
    {
      "cell_type": "code",
      "execution_count": null,
      "id": "b09c4518-0ff1-4e30-8244-4c9319a91819",
      "metadata": {
        "id": "b09c4518-0ff1-4e30-8244-4c9319a91819"
      },
      "outputs": [],
      "source": [
        "######################################################################################################################################################"
      ]
    },
    {
      "cell_type": "markdown",
      "id": "BoGS7ppKnzP1",
      "metadata": {
        "id": "BoGS7ppKnzP1"
      },
      "source": [
        "Analyzing quarter visitors data file"
      ]
    },
    {
      "cell_type": "code",
      "execution_count": null,
      "id": "06a33b03-b0be-4fd2-8d6c-cdf3e69a5dfd",
      "metadata": {
        "colab": {
          "base_uri": "https://localhost:8080/"
        },
        "id": "06a33b03-b0be-4fd2-8d6c-cdf3e69a5dfd",
        "outputId": "ebf2ddeb-9e17-4404-b27b-9ea8ca5efe4d"
      },
      "outputs": [
        {
          "name": "stdout",
          "output_type": "stream",
          "text": [
            "<class 'pandas.core.frame.DataFrame'>\n",
            "RangeIndex: 63 entries, 0 to 62\n",
            "Data columns (total 32 columns):\n",
            " #   Column                         Non-Null Count  Dtype  \n",
            "---  ------                         --------------  -----  \n",
            " 0   Country of Nationality         63 non-null     object \n",
            " 1   2014 1st quarter (Jan-March)   62 non-null     float64\n",
            " 2   2014 2nd quarter (Apr-June)    62 non-null     float64\n",
            " 3   2014 3rd quarter (July-Sep)    62 non-null     float64\n",
            " 4   2014 4th quarter (Oct-Dec))    62 non-null     float64\n",
            " 5   2015 1st quarter (Jan-March)   61 non-null     float64\n",
            " 6   2015 2nd quarter (Apr-June)    61 non-null     float64\n",
            " 7   2015 3rd quarter (July-Sep)    61 non-null     float64\n",
            " 8   2015 4th quarter (Oct-Dec)     61 non-null     float64\n",
            " 9   2016 1st quarter (Jan-March)   63 non-null     float64\n",
            " 10  2016 2nd quarter (Apr-June)    63 non-null     float64\n",
            " 11  2016 3rd quarter (July-Sep)    63 non-null     float64\n",
            " 12  2016 4th quarter (Oct-Dec)     63 non-null     float64\n",
            " 13  2017 1st quarter (Jan-March)   58 non-null     object \n",
            " 14  2017 2nd quarter (Apr-June)    58 non-null     float64\n",
            " 15  2017 3rd quarter (July-Sep)    58 non-null     float64\n",
            " 16  2017 4th quarter (Oct-Dec)     58 non-null     float64\n",
            " 17  2018 1st quarter (Jan-March)   63 non-null     float64\n",
            " 18  2018 2nd quarter (Apr-June)    63 non-null     float64\n",
            " 19  2018 3rd quarter (July-Sep)    63 non-null     float64\n",
            " 20  2018 4th quarter (Oct-Dec)     63 non-null     float64\n",
            " 21  2019 1st quarter (Jan-March)   63 non-null     float64\n",
            " 22  2019 2nd quarter (Apr-June)    63 non-null     float64\n",
            " 23  2019 3rd quarter (July-Sep)    63 non-null     float64\n",
            " 24  2019 4th quarter (Oct-Dec)     63 non-null     float64\n",
            " 25  2020 1st quarter (Jan-March)   63 non-null     float64\n",
            " 26  Unnamed: 26                    0 non-null      float64\n",
            " 27  2020 2nd quarter (Apr-June)    63 non-null     float64\n",
            " 28  Unnamed: 28                    0 non-null      float64\n",
            " 29  2020 3rd quarter (July-Sep)    63 non-null     float64\n",
            " 30  Unnamed: 30                    0 non-null      float64\n",
            " 31  2020 4th quarter (Oct-Dec)     63 non-null     float64\n",
            "dtypes: float64(30), object(2)\n",
            "memory usage: 15.9+ KB\n"
          ]
        }
      ],
      "source": [
        "quarter_visitors.info()"
      ]
    },
    {
      "cell_type": "markdown",
      "id": "nCRrU6v-oRGW",
      "metadata": {
        "id": "nCRrU6v-oRGW"
      },
      "source": [
        "Cleaning dataset"
      ]
    },
    {
      "cell_type": "code",
      "execution_count": null,
      "id": "8623f0fa-bb26-4b77-9bc0-98a43cf9dcde",
      "metadata": {
        "colab": {
          "base_uri": "https://localhost:8080/"
        },
        "id": "8623f0fa-bb26-4b77-9bc0-98a43cf9dcde",
        "outputId": "0e2213f8-2927-4f80-edfb-813bdaa3be3d"
      },
      "outputs": [
        {
          "name": "stdout",
          "output_type": "stream",
          "text": [
            "<class 'pandas.core.frame.DataFrame'>\n",
            "RangeIndex: 63 entries, 0 to 62\n",
            "Data columns (total 32 columns):\n",
            " #   Column                         Non-Null Count  Dtype  \n",
            "---  ------                         --------------  -----  \n",
            " 0   Country of Nationality         63 non-null     object \n",
            " 1   2014 1st quarter (Jan-March)   62 non-null     float64\n",
            " 2   2014 2nd quarter (Apr-June)    62 non-null     float64\n",
            " 3   2014 3rd quarter (July-Sep)    62 non-null     float64\n",
            " 4   2014 4th quarter (Oct-Dec))    62 non-null     float64\n",
            " 5   2015 1st quarter (Jan-March)   61 non-null     float64\n",
            " 6   2015 2nd quarter (Apr-June)    61 non-null     float64\n",
            " 7   2015 3rd quarter (July-Sep)    61 non-null     float64\n",
            " 8   2015 4th quarter (Oct-Dec)     61 non-null     float64\n",
            " 9   2016 1st quarter (Jan-March)   63 non-null     float64\n",
            " 10  2016 2nd quarter (Apr-June)    63 non-null     float64\n",
            " 11  2016 3rd quarter (July-Sep)    63 non-null     float64\n",
            " 12  2016 4th quarter (Oct-Dec)     63 non-null     float64\n",
            " 13  2017 1st quarter (Jan-March)   57 non-null     object \n",
            " 14  2017 2nd quarter (Apr-June)    58 non-null     float64\n",
            " 15  2017 3rd quarter (July-Sep)    58 non-null     float64\n",
            " 16  2017 4th quarter (Oct-Dec)     58 non-null     float64\n",
            " 17  2018 1st quarter (Jan-March)   63 non-null     float64\n",
            " 18  2018 2nd quarter (Apr-June)    63 non-null     float64\n",
            " 19  2018 3rd quarter (July-Sep)    63 non-null     float64\n",
            " 20  2018 4th quarter (Oct-Dec)     63 non-null     float64\n",
            " 21  2019 1st quarter (Jan-March)   63 non-null     float64\n",
            " 22  2019 2nd quarter (Apr-June)    63 non-null     float64\n",
            " 23  2019 3rd quarter (July-Sep)    63 non-null     float64\n",
            " 24  2019 4th quarter (Oct-Dec)     63 non-null     float64\n",
            " 25  2020 1st quarter (Jan-March)   63 non-null     float64\n",
            " 26  Unnamed: 26                    0 non-null      float64\n",
            " 27  2020 2nd quarter (Apr-June)    63 non-null     float64\n",
            " 28  Unnamed: 28                    0 non-null      float64\n",
            " 29  2020 3rd quarter (July-Sep)    63 non-null     float64\n",
            " 30  Unnamed: 30                    0 non-null      float64\n",
            " 31  2020 4th quarter (Oct-Dec)     63 non-null     float64\n",
            "dtypes: float64(30), object(2)\n",
            "memory usage: 15.9+ KB\n"
          ]
        }
      ],
      "source": [
        "quarter_visitors.replace(r'^\\s*$', np.nan, regex=True, inplace=True)\n",
        "\n",
        "quarter_visitors.info()"
      ]
    },
    {
      "cell_type": "markdown",
      "id": "hQB8fqBloZ_7",
      "metadata": {
        "id": "hQB8fqBloZ_7"
      },
      "source": [
        "Changing data type of column"
      ]
    },
    {
      "cell_type": "code",
      "execution_count": null,
      "id": "b48cda98-b560-43cc-8f1a-80e0880320d9",
      "metadata": {
        "colab": {
          "base_uri": "https://localhost:8080/"
        },
        "id": "b48cda98-b560-43cc-8f1a-80e0880320d9",
        "outputId": "2aae03dd-ade1-4b30-b3da-7ceb22c05d63"
      },
      "outputs": [
        {
          "name": "stdout",
          "output_type": "stream",
          "text": [
            "<class 'pandas.core.frame.DataFrame'>\n",
            "RangeIndex: 63 entries, 0 to 62\n",
            "Data columns (total 32 columns):\n",
            " #   Column                         Non-Null Count  Dtype  \n",
            "---  ------                         --------------  -----  \n",
            " 0   Country of Nationality         63 non-null     object \n",
            " 1   2014 1st quarter (Jan-March)   62 non-null     float64\n",
            " 2   2014 2nd quarter (Apr-June)    62 non-null     float64\n",
            " 3   2014 3rd quarter (July-Sep)    62 non-null     float64\n",
            " 4   2014 4th quarter (Oct-Dec))    62 non-null     float64\n",
            " 5   2015 1st quarter (Jan-March)   61 non-null     float64\n",
            " 6   2015 2nd quarter (Apr-June)    61 non-null     float64\n",
            " 7   2015 3rd quarter (July-Sep)    61 non-null     float64\n",
            " 8   2015 4th quarter (Oct-Dec)     61 non-null     float64\n",
            " 9   2016 1st quarter (Jan-March)   63 non-null     float64\n",
            " 10  2016 2nd quarter (Apr-June)    63 non-null     float64\n",
            " 11  2016 3rd quarter (July-Sep)    63 non-null     float64\n",
            " 12  2016 4th quarter (Oct-Dec)     63 non-null     float64\n",
            " 13  2017 1st quarter (Jan-March)   57 non-null     float64\n",
            " 14  2017 2nd quarter (Apr-June)    58 non-null     float64\n",
            " 15  2017 3rd quarter (July-Sep)    58 non-null     float64\n",
            " 16  2017 4th quarter (Oct-Dec)     58 non-null     float64\n",
            " 17  2018 1st quarter (Jan-March)   63 non-null     float64\n",
            " 18  2018 2nd quarter (Apr-June)    63 non-null     float64\n",
            " 19  2018 3rd quarter (July-Sep)    63 non-null     float64\n",
            " 20  2018 4th quarter (Oct-Dec)     63 non-null     float64\n",
            " 21  2019 1st quarter (Jan-March)   63 non-null     float64\n",
            " 22  2019 2nd quarter (Apr-June)    63 non-null     float64\n",
            " 23  2019 3rd quarter (July-Sep)    63 non-null     float64\n",
            " 24  2019 4th quarter (Oct-Dec)     63 non-null     float64\n",
            " 25  2020 1st quarter (Jan-March)   63 non-null     float64\n",
            " 26  Unnamed: 26                    0 non-null      float64\n",
            " 27  2020 2nd quarter (Apr-June)    63 non-null     float64\n",
            " 28  Unnamed: 28                    0 non-null      float64\n",
            " 29  2020 3rd quarter (July-Sep)    63 non-null     float64\n",
            " 30  Unnamed: 30                    0 non-null      float64\n",
            " 31  2020 4th quarter (Oct-Dec)     63 non-null     float64\n",
            "dtypes: float64(31), object(1)\n",
            "memory usage: 15.9+ KB\n"
          ]
        }
      ],
      "source": [
        "quarter_visitors['2017 1st quarter (Jan-March) '] = quarter_visitors['2017 1st quarter (Jan-March) '].astype(float)\n",
        "\n",
        "quarter_visitors.info()"
      ]
    },
    {
      "cell_type": "markdown",
      "id": "UYCdQyLfolWz",
      "metadata": {
        "id": "UYCdQyLfolWz"
      },
      "source": [
        "Dropping unnecessary columns"
      ]
    },
    {
      "cell_type": "code",
      "execution_count": null,
      "id": "8f82be55-0a32-496b-9bd7-1fdf22db321b",
      "metadata": {
        "colab": {
          "base_uri": "https://localhost:8080/"
        },
        "id": "8f82be55-0a32-496b-9bd7-1fdf22db321b",
        "outputId": "fe04db22-1e3c-4e52-9a51-a394bddfe986"
      },
      "outputs": [
        {
          "name": "stdout",
          "output_type": "stream",
          "text": [
            "<class 'pandas.core.frame.DataFrame'>\n",
            "RangeIndex: 63 entries, 0 to 62\n",
            "Data columns (total 29 columns):\n",
            " #   Column                         Non-Null Count  Dtype  \n",
            "---  ------                         --------------  -----  \n",
            " 0   Country of Nationality         63 non-null     object \n",
            " 1   2014 1st quarter (Jan-March)   62 non-null     float64\n",
            " 2   2014 2nd quarter (Apr-June)    62 non-null     float64\n",
            " 3   2014 3rd quarter (July-Sep)    62 non-null     float64\n",
            " 4   2014 4th quarter (Oct-Dec))    62 non-null     float64\n",
            " 5   2015 1st quarter (Jan-March)   61 non-null     float64\n",
            " 6   2015 2nd quarter (Apr-June)    61 non-null     float64\n",
            " 7   2015 3rd quarter (July-Sep)    61 non-null     float64\n",
            " 8   2015 4th quarter (Oct-Dec)     61 non-null     float64\n",
            " 9   2016 1st quarter (Jan-March)   63 non-null     float64\n",
            " 10  2016 2nd quarter (Apr-June)    63 non-null     float64\n",
            " 11  2016 3rd quarter (July-Sep)    63 non-null     float64\n",
            " 12  2016 4th quarter (Oct-Dec)     63 non-null     float64\n",
            " 13  2017 1st quarter (Jan-March)   57 non-null     float64\n",
            " 14  2017 2nd quarter (Apr-June)    58 non-null     float64\n",
            " 15  2017 3rd quarter (July-Sep)    58 non-null     float64\n",
            " 16  2017 4th quarter (Oct-Dec)     58 non-null     float64\n",
            " 17  2018 1st quarter (Jan-March)   63 non-null     float64\n",
            " 18  2018 2nd quarter (Apr-June)    63 non-null     float64\n",
            " 19  2018 3rd quarter (July-Sep)    63 non-null     float64\n",
            " 20  2018 4th quarter (Oct-Dec)     63 non-null     float64\n",
            " 21  2019 1st quarter (Jan-March)   63 non-null     float64\n",
            " 22  2019 2nd quarter (Apr-June)    63 non-null     float64\n",
            " 23  2019 3rd quarter (July-Sep)    63 non-null     float64\n",
            " 24  2019 4th quarter (Oct-Dec)     63 non-null     float64\n",
            " 25  2020 1st quarter (Jan-March)   63 non-null     float64\n",
            " 26  2020 2nd quarter (Apr-June)    63 non-null     float64\n",
            " 27  2020 3rd quarter (July-Sep)    63 non-null     float64\n",
            " 28  2020 4th quarter (Oct-Dec)     63 non-null     float64\n",
            "dtypes: float64(28), object(1)\n",
            "memory usage: 14.4+ KB\n"
          ]
        }
      ],
      "source": [
        "columns_to_drop = ['Unnamed: 26', 'Unnamed: 28', 'Unnamed: 30']\n",
        "\n",
        "# Drop the columns\n",
        "quarter_visitors.drop(columns=columns_to_drop, inplace=True)\n",
        "\n",
        "quarter_visitors.info()"
      ]
    },
    {
      "cell_type": "markdown",
      "id": "iska55AmpbwV",
      "metadata": {
        "id": "iska55AmpbwV"
      },
      "source": [
        "Dropping null values"
      ]
    },
    {
      "cell_type": "code",
      "execution_count": null,
      "id": "499a58d1-35f6-4c34-accf-c94a3f0b642d",
      "metadata": {
        "id": "499a58d1-35f6-4c34-accf-c94a3f0b642d"
      },
      "outputs": [],
      "source": [
        "quarter_visitors = quarter_visitors.dropna()"
      ]
    },
    {
      "cell_type": "code",
      "execution_count": null,
      "id": "c7d486a6-597a-42f4-bdce-66f6a01faba7",
      "metadata": {
        "colab": {
          "base_uri": "https://localhost:8080/"
        },
        "id": "c7d486a6-597a-42f4-bdce-66f6a01faba7",
        "outputId": "e27bb3d6-e2bd-448d-fdb2-d56cfbb33dc1"
      },
      "outputs": [
        {
          "name": "stdout",
          "output_type": "stream",
          "text": [
            "<class 'pandas.core.frame.DataFrame'>\n",
            "Index: 56 entries, 0 to 62\n",
            "Data columns (total 29 columns):\n",
            " #   Column                         Non-Null Count  Dtype  \n",
            "---  ------                         --------------  -----  \n",
            " 0   Country of Nationality         56 non-null     object \n",
            " 1   2014 1st quarter (Jan-March)   56 non-null     float64\n",
            " 2   2014 2nd quarter (Apr-June)    56 non-null     float64\n",
            " 3   2014 3rd quarter (July-Sep)    56 non-null     float64\n",
            " 4   2014 4th quarter (Oct-Dec))    56 non-null     float64\n",
            " 5   2015 1st quarter (Jan-March)   56 non-null     float64\n",
            " 6   2015 2nd quarter (Apr-June)    56 non-null     float64\n",
            " 7   2015 3rd quarter (July-Sep)    56 non-null     float64\n",
            " 8   2015 4th quarter (Oct-Dec)     56 non-null     float64\n",
            " 9   2016 1st quarter (Jan-March)   56 non-null     float64\n",
            " 10  2016 2nd quarter (Apr-June)    56 non-null     float64\n",
            " 11  2016 3rd quarter (July-Sep)    56 non-null     float64\n",
            " 12  2016 4th quarter (Oct-Dec)     56 non-null     float64\n",
            " 13  2017 1st quarter (Jan-March)   56 non-null     float64\n",
            " 14  2017 2nd quarter (Apr-June)    56 non-null     float64\n",
            " 15  2017 3rd quarter (July-Sep)    56 non-null     float64\n",
            " 16  2017 4th quarter (Oct-Dec)     56 non-null     float64\n",
            " 17  2018 1st quarter (Jan-March)   56 non-null     float64\n",
            " 18  2018 2nd quarter (Apr-June)    56 non-null     float64\n",
            " 19  2018 3rd quarter (July-Sep)    56 non-null     float64\n",
            " 20  2018 4th quarter (Oct-Dec)     56 non-null     float64\n",
            " 21  2019 1st quarter (Jan-March)   56 non-null     float64\n",
            " 22  2019 2nd quarter (Apr-June)    56 non-null     float64\n",
            " 23  2019 3rd quarter (July-Sep)    56 non-null     float64\n",
            " 24  2019 4th quarter (Oct-Dec)     56 non-null     float64\n",
            " 25  2020 1st quarter (Jan-March)   56 non-null     float64\n",
            " 26  2020 2nd quarter (Apr-June)    56 non-null     float64\n",
            " 27  2020 3rd quarter (July-Sep)    56 non-null     float64\n",
            " 28  2020 4th quarter (Oct-Dec)     56 non-null     float64\n",
            "dtypes: float64(28), object(1)\n",
            "memory usage: 13.1+ KB\n"
          ]
        }
      ],
      "source": [
        "quarter_visitors.info()"
      ]
    },
    {
      "cell_type": "code",
      "execution_count": null,
      "id": "57b18481-049f-4211-a327-575856d5894f",
      "metadata": {
        "id": "57b18481-049f-4211-a327-575856d5894f"
      },
      "outputs": [],
      "source": [
        "######################################################################################################################################################"
      ]
    },
    {
      "cell_type": "markdown",
      "id": "RjHcSXFAplPn",
      "metadata": {
        "id": "RjHcSXFAplPn"
      },
      "source": [
        "Analyzing country airport file"
      ]
    },
    {
      "cell_type": "code",
      "execution_count": null,
      "id": "2bd4296f-ae05-490d-816d-8b58fdf60eee",
      "metadata": {
        "colab": {
          "base_uri": "https://localhost:8080/"
        },
        "id": "2bd4296f-ae05-490d-816d-8b58fdf60eee",
        "outputId": "964113d1-8d37-4214-87ea-2da764027743"
      },
      "outputs": [
        {
          "name": "stdout",
          "output_type": "stream",
          "text": [
            "<class 'pandas.core.frame.DataFrame'>\n",
            "RangeIndex: 63 entries, 0 to 62\n",
            "Data columns (total 57 columns):\n",
            " #   Column                    Non-Null Count  Dtype  \n",
            "---  ------                    --------------  -----  \n",
            " 0   Country of Nationality    63 non-null     object \n",
            " 1   2014 Delhi (Airport)      62 non-null     float64\n",
            " 2    2014 Mumbai (Airport)    62 non-null     float64\n",
            " 3    2014 Chennai (Airport)   62 non-null     float64\n",
            " 4   2014 Calicut (Airport)    62 non-null     float64\n",
            " 5   2014 Benguluru (Airport)  62 non-null     float64\n",
            " 6   2014 Kolkata (Airport)    62 non-null     float64\n",
            " 7   2014 Hyderabad (Airport)  62 non-null     float64\n",
            " 8   2014 Cochin (Airport)     63 non-null     int64  \n",
            " 9   2015 Delhi (Airport)      62 non-null     float64\n",
            " 10   2015 Mumbai (Airport)    62 non-null     float64\n",
            " 11   2015 Chennai (Airport)   62 non-null     float64\n",
            " 12  2015 Calicut (Airport)    62 non-null     float64\n",
            " 13  2015 Benguluru (Airport)  62 non-null     float64\n",
            " 14  2015 Kolkata (Airport)    62 non-null     float64\n",
            " 15  2015 Hyderabad (Airport)  62 non-null     float64\n",
            " 16  2015 Cochin (Airport)     63 non-null     int64  \n",
            " 17  2016 Delhi (Airport)      63 non-null     object \n",
            " 18   2016 Mumbai (Airport)    63 non-null     object \n",
            " 19   2016 Chennai (Airport)   63 non-null     object \n",
            " 20  2016 Calicut (Airport)    63 non-null     float64\n",
            " 21  2016 Benguluru (Airport)  63 non-null     float64\n",
            " 22  2016 Kolkata (Airport)    63 non-null     object \n",
            " 23  2016 Hyderabad (Airport)  63 non-null     object \n",
            " 24  2016 Cochin (Airport)     63 non-null     object \n",
            " 25  2017 Delhi (Airport)      63 non-null     float64\n",
            " 26   2017 Mumbai (Airport)    63 non-null     object \n",
            " 27   2017 Chennai (Airport)   63 non-null     float64\n",
            " 28  2017 Calicut (Airport)    63 non-null     float64\n",
            " 29  2017 Benguluru (Airport)  63 non-null     float64\n",
            " 30  2017 Kolkata (Airport)    63 non-null     float64\n",
            " 31  2017 Hyderabad (Airport)  63 non-null     float64\n",
            " 32  2017 Cochin (Airport)     59 non-null     object \n",
            " 33  2018 Delhi (Airport)      63 non-null     float64\n",
            " 34   2018 Mumbai (Airport)    63 non-null     float64\n",
            " 35   2018 Chennai (Airport)   63 non-null     float64\n",
            " 36  2018 Calicut (Airport)    63 non-null     float64\n",
            " 37  2018 Benguluru (Airport)  63 non-null     float64\n",
            " 38  2018 Kolkata (Airport)    63 non-null     float64\n",
            " 39  2018 Hyderabad (Airport)  63 non-null     float64\n",
            " 40  2018 Cochin (Airport)     63 non-null     float64\n",
            " 41  2019 Delhi (Airport)      63 non-null     float64\n",
            " 42   2019 Mumbai (Airport)    63 non-null     float64\n",
            " 43   2019 Chennai (Airport)   63 non-null     float64\n",
            " 44  2019 Calicut (Airport)    63 non-null     float64\n",
            " 45  2019 Benguluru (Airport)  63 non-null     float64\n",
            " 46  2019 Kolkata (Airport)    63 non-null     float64\n",
            " 47  2019 Hyderabad (Airport)  63 non-null     float64\n",
            " 48  2019 Cochin (Airport)     63 non-null     float64\n",
            " 49  2020 Delhi (Airport)      63 non-null     float64\n",
            " 50   2020 Mumbai (Airport)    63 non-null     float64\n",
            " 51   2020 Chennai (Airport)   63 non-null     float64\n",
            " 52  2020 Calicut (Airport)    63 non-null     float64\n",
            " 53  2020 Benguluru (Airport)  63 non-null     float64\n",
            " 54  2020 Kolkata (Airport)    63 non-null     float64\n",
            " 55  2020 Hyderabad (Airport)  63 non-null     float64\n",
            " 56  2020 Cochin (Airport)     63 non-null     float64\n",
            "dtypes: float64(46), int64(2), object(9)\n",
            "memory usage: 28.2+ KB\n"
          ]
        }
      ],
      "source": [
        "country_airport.info()"
      ]
    },
    {
      "cell_type": "markdown",
      "id": "h3wB2C6Op4Y0",
      "metadata": {
        "id": "h3wB2C6Op4Y0"
      },
      "source": [
        "Cleaning dataset"
      ]
    },
    {
      "cell_type": "code",
      "execution_count": null,
      "id": "7f2b209a-685d-491f-9d36-6a338f95e9fa",
      "metadata": {
        "colab": {
          "base_uri": "https://localhost:8080/"
        },
        "id": "7f2b209a-685d-491f-9d36-6a338f95e9fa",
        "outputId": "bd479ab3-0f32-40cc-cfa3-f816f9f137cf"
      },
      "outputs": [
        {
          "name": "stdout",
          "output_type": "stream",
          "text": [
            "<class 'pandas.core.frame.DataFrame'>\n",
            "RangeIndex: 63 entries, 0 to 62\n",
            "Data columns (total 57 columns):\n",
            " #   Column                    Non-Null Count  Dtype  \n",
            "---  ------                    --------------  -----  \n",
            " 0   Country Of Nationality    63 non-null     object \n",
            " 1   2014 Delhi (Airport)      62 non-null     float64\n",
            " 2   2014 Mumbai (Airport)     62 non-null     float64\n",
            " 3   2014 Chennai (Airport)    62 non-null     float64\n",
            " 4   2014 Calicut (Airport)    62 non-null     float64\n",
            " 5   2014 Benguluru (Airport)  62 non-null     float64\n",
            " 6   2014 Kolkata (Airport)    62 non-null     float64\n",
            " 7   2014 Hyderabad (Airport)  62 non-null     float64\n",
            " 8   2014 Cochin (Airport)     63 non-null     int64  \n",
            " 9   2015 Delhi (Airport)      62 non-null     float64\n",
            " 10  2015 Mumbai (Airport)     62 non-null     float64\n",
            " 11  2015 Chennai (Airport)    62 non-null     float64\n",
            " 12  2015 Calicut (Airport)    62 non-null     float64\n",
            " 13  2015 Benguluru (Airport)  62 non-null     float64\n",
            " 14  2015 Kolkata (Airport)    62 non-null     float64\n",
            " 15  2015 Hyderabad (Airport)  62 non-null     float64\n",
            " 16  2015 Cochin (Airport)     63 non-null     int64  \n",
            " 17  2016 Delhi (Airport)      63 non-null     object \n",
            " 18  2016 Mumbai (Airport)     63 non-null     object \n",
            " 19  2016 Chennai (Airport)    63 non-null     object \n",
            " 20  2016 Calicut (Airport)    63 non-null     float64\n",
            " 21  2016 Benguluru (Airport)  63 non-null     float64\n",
            " 22  2016 Kolkata (Airport)    63 non-null     object \n",
            " 23  2016 Hyderabad (Airport)  63 non-null     object \n",
            " 24  2016 Cochin (Airport)     63 non-null     object \n",
            " 25  2017 Delhi (Airport)      63 non-null     float64\n",
            " 26  2017 Mumbai (Airport)     63 non-null     object \n",
            " 27  2017 Chennai (Airport)    63 non-null     float64\n",
            " 28  2017 Calicut (Airport)    63 non-null     float64\n",
            " 29  2017 Benguluru (Airport)  63 non-null     float64\n",
            " 30  2017 Kolkata (Airport)    63 non-null     float64\n",
            " 31  2017 Hyderabad (Airport)  63 non-null     float64\n",
            " 32  2017 Cochin (Airport)     59 non-null     object \n",
            " 33  2018 Delhi (Airport)      63 non-null     float64\n",
            " 34  2018 Mumbai (Airport)     63 non-null     float64\n",
            " 35  2018 Chennai (Airport)    63 non-null     float64\n",
            " 36  2018 Calicut (Airport)    63 non-null     float64\n",
            " 37  2018 Benguluru (Airport)  63 non-null     float64\n",
            " 38  2018 Kolkata (Airport)    63 non-null     float64\n",
            " 39  2018 Hyderabad (Airport)  63 non-null     float64\n",
            " 40  2018 Cochin (Airport)     63 non-null     float64\n",
            " 41  2019 Delhi (Airport)      63 non-null     float64\n",
            " 42  2019 Mumbai (Airport)     63 non-null     float64\n",
            " 43  2019 Chennai (Airport)    63 non-null     float64\n",
            " 44  2019 Calicut (Airport)    63 non-null     float64\n",
            " 45  2019 Benguluru (Airport)  63 non-null     float64\n",
            " 46  2019 Kolkata (Airport)    63 non-null     float64\n",
            " 47  2019 Hyderabad (Airport)  63 non-null     float64\n",
            " 48  2019 Cochin (Airport)     63 non-null     float64\n",
            " 49  2020 Delhi (Airport)      63 non-null     float64\n",
            " 50  2020 Mumbai (Airport)     63 non-null     float64\n",
            " 51  2020 Chennai (Airport)    63 non-null     float64\n",
            " 52  2020 Calicut (Airport)    63 non-null     float64\n",
            " 53  2020 Benguluru (Airport)  63 non-null     float64\n",
            " 54  2020 Kolkata (Airport)    63 non-null     float64\n",
            " 55  2020 Hyderabad (Airport)  63 non-null     float64\n",
            " 56  2020 Cochin (Airport)     63 non-null     float64\n",
            "dtypes: float64(46), int64(2), object(9)\n",
            "memory usage: 28.2+ KB\n"
          ]
        }
      ],
      "source": [
        "def clean_column_names(col):\n",
        "    col = col.strip()  # Remove leading/trailing spaces\n",
        "    col = col.title()  # Capitalize each word\n",
        "    return col\n",
        "\n",
        "# Apply the cleaning function to column names\n",
        "country_airport.columns = [clean_column_names(col) for col in country_airport.columns]\n",
        "\n",
        "country_airport.info()"
      ]
    },
    {
      "cell_type": "code",
      "execution_count": null,
      "id": "abeed4c6-20d1-4464-9369-ca7d986a5d31",
      "metadata": {
        "colab": {
          "base_uri": "https://localhost:8080/"
        },
        "id": "abeed4c6-20d1-4464-9369-ca7d986a5d31",
        "outputId": "71a7c6de-fa59-4ed9-966f-b7f1317ba82d"
      },
      "outputs": [
        {
          "name": "stdout",
          "output_type": "stream",
          "text": [
            "<class 'pandas.core.frame.DataFrame'>\n",
            "RangeIndex: 63 entries, 0 to 62\n",
            "Data columns (total 57 columns):\n",
            " #   Column                    Non-Null Count  Dtype  \n",
            "---  ------                    --------------  -----  \n",
            " 0   Country of Nationality    63 non-null     object \n",
            " 1   2014 Delhi (Airport)      62 non-null     float64\n",
            " 2    2014 Mumbai (Airport)    62 non-null     float64\n",
            " 3    2014 Chennai (Airport)   62 non-null     float64\n",
            " 4   2014 Calicut (Airport)    62 non-null     float64\n",
            " 5   2014 Benguluru (Airport)  62 non-null     float64\n",
            " 6   2014 Kolkata (Airport)    62 non-null     float64\n",
            " 7   2014 Hyderabad (Airport)  62 non-null     float64\n",
            " 8   2014 Cochin (Airport)     63 non-null     int64  \n",
            " 9   2015 Delhi (Airport)      62 non-null     float64\n",
            " 10   2015 Mumbai (Airport)    62 non-null     float64\n",
            " 11   2015 Chennai (Airport)   62 non-null     float64\n",
            " 12  2015 Calicut (Airport)    62 non-null     float64\n",
            " 13  2015 Benguluru (Airport)  62 non-null     float64\n",
            " 14  2015 Kolkata (Airport)    62 non-null     float64\n",
            " 15  2015 Hyderabad (Airport)  62 non-null     float64\n",
            " 16  2015 Cochin (Airport)     63 non-null     int64  \n",
            " 17  2016 Delhi (Airport)      63 non-null     object \n",
            " 18   2016 Mumbai (Airport)    63 non-null     object \n",
            " 19   2016 Chennai (Airport)   63 non-null     object \n",
            " 20  2016 Calicut (Airport)    63 non-null     float64\n",
            " 21  2016 Benguluru (Airport)  63 non-null     float64\n",
            " 22  2016 Kolkata (Airport)    63 non-null     object \n",
            " 23  2016 Hyderabad (Airport)  63 non-null     object \n",
            " 24  2016 Cochin (Airport)     63 non-null     object \n",
            " 25  2017 Delhi (Airport)      63 non-null     float64\n",
            " 26   2017 Mumbai (Airport)    63 non-null     object \n",
            " 27   2017 Chennai (Airport)   63 non-null     float64\n",
            " 28  2017 Calicut (Airport)    63 non-null     float64\n",
            " 29  2017 Benguluru (Airport)  63 non-null     float64\n",
            " 30  2017 Kolkata (Airport)    63 non-null     float64\n",
            " 31  2017 Hyderabad (Airport)  63 non-null     float64\n",
            " 32  2017 Cochin (Airport)     59 non-null     object \n",
            " 33  2018 Delhi (Airport)      63 non-null     float64\n",
            " 34   2018 Mumbai (Airport)    63 non-null     float64\n",
            " 35   2018 Chennai (Airport)   63 non-null     float64\n",
            " 36  2018 Calicut (Airport)    63 non-null     float64\n",
            " 37  2018 Benguluru (Airport)  63 non-null     float64\n",
            " 38  2018 Kolkata (Airport)    63 non-null     float64\n",
            " 39  2018 Hyderabad (Airport)  63 non-null     float64\n",
            " 40  2018 Cochin (Airport)     63 non-null     float64\n",
            " 41  2019 Delhi (Airport)      63 non-null     float64\n",
            " 42   2019 Mumbai (Airport)    63 non-null     float64\n",
            " 43   2019 Chennai (Airport)   63 non-null     float64\n",
            " 44  2019 Calicut (Airport)    63 non-null     float64\n",
            " 45  2019 Benguluru (Airport)  63 non-null     float64\n",
            " 46  2019 Kolkata (Airport)    63 non-null     float64\n",
            " 47  2019 Hyderabad (Airport)  63 non-null     float64\n",
            " 48  2019 Cochin (Airport)     63 non-null     float64\n",
            " 49  2020 Delhi (Airport)      63 non-null     float64\n",
            " 50   2020 Mumbai (Airport)    63 non-null     float64\n",
            " 51   2020 Chennai (Airport)   63 non-null     float64\n",
            " 52  2020 Calicut (Airport)    63 non-null     float64\n",
            " 53  2020 Benguluru (Airport)  63 non-null     float64\n",
            " 54  2020 Kolkata (Airport)    63 non-null     float64\n",
            " 55  2020 Hyderabad (Airport)  63 non-null     float64\n",
            " 56  2020 Cochin (Airport)     63 non-null     float64\n",
            "dtypes: float64(46), int64(2), object(9)\n",
            "memory usage: 28.2+ KB\n"
          ]
        },
        {
          "name": "stderr",
          "output_type": "stream",
          "text": [
            "<ipython-input-25-aae056ab3b29>:7: FutureWarning: DataFrame.applymap has been deprecated. Use DataFrame.map instead.\n",
            "  country_airport = country_airport.applymap(replace_l_with_1)\n"
          ]
        }
      ],
      "source": [
        "def replace_l_with_1(cell):\n",
        "    if isinstance(cell, str):  # Apply replacement only to string values\n",
        "        return cell.replace('l', '1')\n",
        "    return cell\n",
        "\n",
        "# Apply the function to all cell values (excluding column names)\n",
        "country_airport = country_airport.applymap(replace_l_with_1)\n",
        "\n",
        "\n",
        "country_airport.info()"
      ]
    },
    {
      "cell_type": "code",
      "execution_count": null,
      "id": "62a6baaf-a01f-478e-815c-dc3f82da1caf",
      "metadata": {
        "colab": {
          "base_uri": "https://localhost:8080/"
        },
        "id": "62a6baaf-a01f-478e-815c-dc3f82da1caf",
        "outputId": "aeea217c-49d2-4c79-ce62-7b9220aeead5"
      },
      "outputs": [
        {
          "name": "stdout",
          "output_type": "stream",
          "text": [
            "0     57.1\n",
            "1     30.9\n",
            "2     64.3\n",
            "3     50.8\n",
            "4     59.5\n",
            "5     47.2\n",
            "6       39\n",
            "7     35.9\n",
            "8     58.5\n",
            "9     39.2\n",
            "10    37.3\n",
            "11    39.1\n",
            "12    28.5\n",
            "13    46.8\n",
            "14    49.2\n",
            "15    56.4\n",
            "16    16.1\n",
            "17    57.9\n",
            "18    39.4\n",
            "19    39.6\n",
            "20    30.7\n",
            "21    44.3\n",
            "22    44.8\n",
            "23    49.1\n",
            "24    44.3\n",
            "25    22.8\n",
            "26    27.6\n",
            "27      22\n",
            "28    14.6\n",
            "29    31.2\n",
            "30      51\n",
            "31    24.7\n",
            "32    13.8\n",
            "33    14.5\n",
            "34     8.1\n",
            "35    73.1\n",
            "36    34.1\n",
            "37     5.1\n",
            "38    11.7\n",
            "39    46.8\n",
            "40     3.9\n",
            "41     7.6\n",
            "42    98.9\n",
            "43     1.2\n",
            "44    57.2\n",
            "45    43.8\n",
            "46     2.1\n",
            "47    68.4\n",
            "48     4.1\n",
            "49    12.1\n",
            "Name: 2016 Delhi (Airport), dtype: object\n"
          ]
        }
      ],
      "source": [
        "print(country_airport['2016 Delhi (Airport)'].head(50))"
      ]
    },
    {
      "cell_type": "code",
      "execution_count": null,
      "id": "1093732a-cf12-46c7-93b9-cc633744eab9",
      "metadata": {
        "colab": {
          "base_uri": "https://localhost:8080/"
        },
        "id": "1093732a-cf12-46c7-93b9-cc633744eab9",
        "outputId": "48674b64-25d4-4f9b-ed78-f651c1897d46"
      },
      "outputs": [
        {
          "name": "stdout",
          "output_type": "stream",
          "text": [
            "<class 'pandas.core.frame.DataFrame'>\n",
            "RangeIndex: 63 entries, 0 to 62\n",
            "Data columns (total 57 columns):\n",
            " #   Column                    Non-Null Count  Dtype  \n",
            "---  ------                    --------------  -----  \n",
            " 0   Country Of Nationality    63 non-null     object \n",
            " 1   2014 Delhi (Airport)      62 non-null     float64\n",
            " 2   2014 Mumbai (Airport)     62 non-null     float64\n",
            " 3   2014 Chennai (Airport)    62 non-null     float64\n",
            " 4   2014 Calicut (Airport)    62 non-null     float64\n",
            " 5   2014 Benguluru (Airport)  62 non-null     float64\n",
            " 6   2014 Kolkata (Airport)    62 non-null     float64\n",
            " 7   2014 Hyderabad (Airport)  62 non-null     float64\n",
            " 8   2014 Cochin (Airport)     63 non-null     int64  \n",
            " 9   2015 Delhi (Airport)      62 non-null     float64\n",
            " 10  2015 Mumbai (Airport)     62 non-null     float64\n",
            " 11  2015 Chennai (Airport)    62 non-null     float64\n",
            " 12  2015 Calicut (Airport)    62 non-null     float64\n",
            " 13  2015 Benguluru (Airport)  62 non-null     float64\n",
            " 14  2015 Kolkata (Airport)    62 non-null     float64\n",
            " 15  2015 Hyderabad (Airport)  62 non-null     float64\n",
            " 16  2015 Cochin (Airport)     63 non-null     int64  \n",
            " 17  2016 Delhi (Airport)      63 non-null     object \n",
            " 18  2016 Mumbai (Airport)     63 non-null     object \n",
            " 19  2016 Chennai (Airport)    63 non-null     object \n",
            " 20  2016 Calicut (Airport)    63 non-null     float64\n",
            " 21  2016 Benguluru (Airport)  63 non-null     float64\n",
            " 22  2016 Kolkata (Airport)    63 non-null     object \n",
            " 23  2016 Hyderabad (Airport)  63 non-null     object \n",
            " 24  2016 Cochin (Airport)     63 non-null     object \n",
            " 25  2017 Delhi (Airport)      63 non-null     float64\n",
            " 26  2017 Mumbai (Airport)     63 non-null     object \n",
            " 27  2017 Chennai (Airport)    63 non-null     float64\n",
            " 28  2017 Calicut (Airport)    63 non-null     float64\n",
            " 29  2017 Benguluru (Airport)  63 non-null     float64\n",
            " 30  2017 Kolkata (Airport)    63 non-null     float64\n",
            " 31  2017 Hyderabad (Airport)  63 non-null     float64\n",
            " 32  2017 Cochin (Airport)     59 non-null     object \n",
            " 33  2018 Delhi (Airport)      63 non-null     float64\n",
            " 34  2018 Mumbai (Airport)     63 non-null     float64\n",
            " 35  2018 Chennai (Airport)    63 non-null     float64\n",
            " 36  2018 Calicut (Airport)    63 non-null     float64\n",
            " 37  2018 Benguluru (Airport)  63 non-null     float64\n",
            " 38  2018 Kolkata (Airport)    63 non-null     float64\n",
            " 39  2018 Hyderabad (Airport)  63 non-null     float64\n",
            " 40  2018 Cochin (Airport)     63 non-null     float64\n",
            " 41  2019 Delhi (Airport)      63 non-null     float64\n",
            " 42  2019 Mumbai (Airport)     63 non-null     float64\n",
            " 43  2019 Chennai (Airport)    63 non-null     float64\n",
            " 44  2019 Calicut (Airport)    63 non-null     float64\n",
            " 45  2019 Benguluru (Airport)  63 non-null     float64\n",
            " 46  2019 Kolkata (Airport)    63 non-null     float64\n",
            " 47  2019 Hyderabad (Airport)  63 non-null     float64\n",
            " 48  2019 Cochin (Airport)     63 non-null     float64\n",
            " 49  2020 Delhi (Airport)      63 non-null     float64\n",
            " 50  2020 Mumbai (Airport)     63 non-null     float64\n",
            " 51  2020 Chennai (Airport)    63 non-null     float64\n",
            " 52  2020 Calicut (Airport)    63 non-null     float64\n",
            " 53  2020 Benguluru (Airport)  63 non-null     float64\n",
            " 54  2020 Kolkata (Airport)    63 non-null     float64\n",
            " 55  2020 Hyderabad (Airport)  63 non-null     float64\n",
            " 56  2020 Cochin (Airport)     63 non-null     float64\n",
            "dtypes: float64(46), int64(2), object(9)\n",
            "memory usage: 28.2+ KB\n"
          ]
        },
        {
          "name": "stderr",
          "output_type": "stream",
          "text": [
            "<ipython-input-28-72b23be74ff9>:7: FutureWarning: DataFrame.applymap has been deprecated. Use DataFrame.map instead.\n",
            "  country_airport = country_airport.applymap(replace_O_with_0)\n"
          ]
        }
      ],
      "source": [
        "def replace_O_with_0(cell):\n",
        "    if isinstance(cell, str):  # Apply replacement only to string values\n",
        "        return cell.replace('O', '0')\n",
        "    return cell\n",
        "\n",
        "# Apply the function to all cell values (excluding column names)\n",
        "country_airport = country_airport.applymap(replace_O_with_0)\n",
        "\n",
        "\n",
        "country_airport.info()"
      ]
    },
    {
      "cell_type": "code",
      "execution_count": null,
      "id": "7be9e6cd-8ecf-4ec6-8df1-9f7bbba863f7",
      "metadata": {
        "colab": {
          "base_uri": "https://localhost:8080/"
        },
        "id": "7be9e6cd-8ecf-4ec6-8df1-9f7bbba863f7",
        "outputId": "4d9af312-f76a-4932-a43b-77842cd7fec6"
      },
      "outputs": [
        {
          "name": "stdout",
          "output_type": "stream",
          "text": [
            "<class 'pandas.core.frame.DataFrame'>\n",
            "RangeIndex: 63 entries, 0 to 62\n",
            "Data columns (total 57 columns):\n",
            " #   Column                    Non-Null Count  Dtype  \n",
            "---  ------                    --------------  -----  \n",
            " 0   Country Of Nationality    63 non-null     object \n",
            " 1   2014 Delhi (Airport)      62 non-null     float64\n",
            " 2   2014 Mumbai (Airport)     62 non-null     float64\n",
            " 3   2014 Chennai (Airport)    62 non-null     float64\n",
            " 4   2014 Calicut (Airport)    62 non-null     float64\n",
            " 5   2014 Benguluru (Airport)  62 non-null     float64\n",
            " 6   2014 Kolkata (Airport)    62 non-null     float64\n",
            " 7   2014 Hyderabad (Airport)  62 non-null     float64\n",
            " 8   2014 Cochin (Airport)     63 non-null     int64  \n",
            " 9   2015 Delhi (Airport)      62 non-null     float64\n",
            " 10  2015 Mumbai (Airport)     62 non-null     float64\n",
            " 11  2015 Chennai (Airport)    62 non-null     float64\n",
            " 12  2015 Calicut (Airport)    62 non-null     float64\n",
            " 13  2015 Benguluru (Airport)  62 non-null     float64\n",
            " 14  2015 Kolkata (Airport)    62 non-null     float64\n",
            " 15  2015 Hyderabad (Airport)  62 non-null     float64\n",
            " 16  2015 Cochin (Airport)     63 non-null     int64  \n",
            " 17  2016 Delhi (Airport)      63 non-null     float64\n",
            " 18  2016 Mumbai (Airport)     63 non-null     float64\n",
            " 19  2016 Chennai (Airport)    62 non-null     float64\n",
            " 20  2016 Calicut (Airport)    63 non-null     float64\n",
            " 21  2016 Benguluru (Airport)  63 non-null     float64\n",
            " 22  2016 Kolkata (Airport)    62 non-null     float64\n",
            " 23  2016 Hyderabad (Airport)  62 non-null     float64\n",
            " 24  2016 Cochin (Airport)     60 non-null     float64\n",
            " 25  2017 Delhi (Airport)      63 non-null     float64\n",
            " 26  2017 Mumbai (Airport)     62 non-null     float64\n",
            " 27  2017 Chennai (Airport)    63 non-null     float64\n",
            " 28  2017 Calicut (Airport)    63 non-null     float64\n",
            " 29  2017 Benguluru (Airport)  63 non-null     float64\n",
            " 30  2017 Kolkata (Airport)    63 non-null     float64\n",
            " 31  2017 Hyderabad (Airport)  63 non-null     float64\n",
            " 32  2017 Cochin (Airport)     58 non-null     float64\n",
            " 33  2018 Delhi (Airport)      63 non-null     float64\n",
            " 34  2018 Mumbai (Airport)     63 non-null     float64\n",
            " 35  2018 Chennai (Airport)    63 non-null     float64\n",
            " 36  2018 Calicut (Airport)    63 non-null     float64\n",
            " 37  2018 Benguluru (Airport)  63 non-null     float64\n",
            " 38  2018 Kolkata (Airport)    63 non-null     float64\n",
            " 39  2018 Hyderabad (Airport)  63 non-null     float64\n",
            " 40  2018 Cochin (Airport)     63 non-null     float64\n",
            " 41  2019 Delhi (Airport)      63 non-null     float64\n",
            " 42  2019 Mumbai (Airport)     63 non-null     float64\n",
            " 43  2019 Chennai (Airport)    63 non-null     float64\n",
            " 44  2019 Calicut (Airport)    63 non-null     float64\n",
            " 45  2019 Benguluru (Airport)  63 non-null     float64\n",
            " 46  2019 Kolkata (Airport)    63 non-null     float64\n",
            " 47  2019 Hyderabad (Airport)  63 non-null     float64\n",
            " 48  2019 Cochin (Airport)     63 non-null     float64\n",
            " 49  2020 Delhi (Airport)      63 non-null     float64\n",
            " 50  2020 Mumbai (Airport)     63 non-null     float64\n",
            " 51  2020 Chennai (Airport)    63 non-null     float64\n",
            " 52  2020 Calicut (Airport)    63 non-null     float64\n",
            " 53  2020 Benguluru (Airport)  63 non-null     float64\n",
            " 54  2020 Kolkata (Airport)    63 non-null     float64\n",
            " 55  2020 Hyderabad (Airport)  63 non-null     float64\n",
            " 56  2020 Cochin (Airport)     63 non-null     float64\n",
            "dtypes: float64(54), int64(2), object(1)\n",
            "memory usage: 28.2+ KB\n"
          ]
        }
      ],
      "source": [
        "import numpy as np\n",
        "\n",
        "# Replace '-' and other non-numeric placeholders with NaN\n",
        "country_airport.replace('-', np.nan, inplace=True)\n",
        "\n",
        "# List of columns to convert\n",
        "columns_to_convert = [\n",
        "    '2016 Delhi (Airport)', '2016 Mumbai (Airport)', '2016 Chennai (Airport)',\n",
        "    '2016 Hyderabad (Airport)', '2016 Cochin (Airport)', '2016 Kolkata (Airport)',\n",
        "    '2017 Mumbai (Airport)', '2017 Cochin (Airport)'\n",
        "]\n",
        "\n",
        "# Convert columns to numeric, coercing invalid values to NaN\n",
        "for col in columns_to_convert:\n",
        "    country_airport[col] = pd.to_numeric(country_airport[col], errors='coerce')\n",
        "\n",
        "# Check the DataFrame info to confirm changes\n",
        "country_airport.info()\n"
      ]
    },
    {
      "cell_type": "markdown",
      "id": "WjLUyfxsqUZW",
      "metadata": {
        "id": "WjLUyfxsqUZW"
      },
      "source": [
        "Dropping null values"
      ]
    },
    {
      "cell_type": "code",
      "execution_count": null,
      "id": "954a788d-50e0-4a9d-93a7-af142c833207",
      "metadata": {
        "colab": {
          "base_uri": "https://localhost:8080/"
        },
        "id": "954a788d-50e0-4a9d-93a7-af142c833207",
        "outputId": "0c43b106-d2ac-4c1d-a8aa-7f8552d36ac0"
      },
      "outputs": [
        {
          "name": "stdout",
          "output_type": "stream",
          "text": [
            "<class 'pandas.core.frame.DataFrame'>\n",
            "Index: 51 entries, 0 to 62\n",
            "Data columns (total 57 columns):\n",
            " #   Column                    Non-Null Count  Dtype  \n",
            "---  ------                    --------------  -----  \n",
            " 0   Country Of Nationality    51 non-null     object \n",
            " 1   2014 Delhi (Airport)      51 non-null     float64\n",
            " 2   2014 Mumbai (Airport)     51 non-null     float64\n",
            " 3   2014 Chennai (Airport)    51 non-null     float64\n",
            " 4   2014 Calicut (Airport)    51 non-null     float64\n",
            " 5   2014 Benguluru (Airport)  51 non-null     float64\n",
            " 6   2014 Kolkata (Airport)    51 non-null     float64\n",
            " 7   2014 Hyderabad (Airport)  51 non-null     float64\n",
            " 8   2014 Cochin (Airport)     51 non-null     int64  \n",
            " 9   2015 Delhi (Airport)      51 non-null     float64\n",
            " 10  2015 Mumbai (Airport)     51 non-null     float64\n",
            " 11  2015 Chennai (Airport)    51 non-null     float64\n",
            " 12  2015 Calicut (Airport)    51 non-null     float64\n",
            " 13  2015 Benguluru (Airport)  51 non-null     float64\n",
            " 14  2015 Kolkata (Airport)    51 non-null     float64\n",
            " 15  2015 Hyderabad (Airport)  51 non-null     float64\n",
            " 16  2015 Cochin (Airport)     51 non-null     int64  \n",
            " 17  2016 Delhi (Airport)      51 non-null     float64\n",
            " 18  2016 Mumbai (Airport)     51 non-null     float64\n",
            " 19  2016 Chennai (Airport)    51 non-null     float64\n",
            " 20  2016 Calicut (Airport)    51 non-null     float64\n",
            " 21  2016 Benguluru (Airport)  51 non-null     float64\n",
            " 22  2016 Kolkata (Airport)    51 non-null     float64\n",
            " 23  2016 Hyderabad (Airport)  51 non-null     float64\n",
            " 24  2016 Cochin (Airport)     51 non-null     float64\n",
            " 25  2017 Delhi (Airport)      51 non-null     float64\n",
            " 26  2017 Mumbai (Airport)     51 non-null     float64\n",
            " 27  2017 Chennai (Airport)    51 non-null     float64\n",
            " 28  2017 Calicut (Airport)    51 non-null     float64\n",
            " 29  2017 Benguluru (Airport)  51 non-null     float64\n",
            " 30  2017 Kolkata (Airport)    51 non-null     float64\n",
            " 31  2017 Hyderabad (Airport)  51 non-null     float64\n",
            " 32  2017 Cochin (Airport)     51 non-null     float64\n",
            " 33  2018 Delhi (Airport)      51 non-null     float64\n",
            " 34  2018 Mumbai (Airport)     51 non-null     float64\n",
            " 35  2018 Chennai (Airport)    51 non-null     float64\n",
            " 36  2018 Calicut (Airport)    51 non-null     float64\n",
            " 37  2018 Benguluru (Airport)  51 non-null     float64\n",
            " 38  2018 Kolkata (Airport)    51 non-null     float64\n",
            " 39  2018 Hyderabad (Airport)  51 non-null     float64\n",
            " 40  2018 Cochin (Airport)     51 non-null     float64\n",
            " 41  2019 Delhi (Airport)      51 non-null     float64\n",
            " 42  2019 Mumbai (Airport)     51 non-null     float64\n",
            " 43  2019 Chennai (Airport)    51 non-null     float64\n",
            " 44  2019 Calicut (Airport)    51 non-null     float64\n",
            " 45  2019 Benguluru (Airport)  51 non-null     float64\n",
            " 46  2019 Kolkata (Airport)    51 non-null     float64\n",
            " 47  2019 Hyderabad (Airport)  51 non-null     float64\n",
            " 48  2019 Cochin (Airport)     51 non-null     float64\n",
            " 49  2020 Delhi (Airport)      51 non-null     float64\n",
            " 50  2020 Mumbai (Airport)     51 non-null     float64\n",
            " 51  2020 Chennai (Airport)    51 non-null     float64\n",
            " 52  2020 Calicut (Airport)    51 non-null     float64\n",
            " 53  2020 Benguluru (Airport)  51 non-null     float64\n",
            " 54  2020 Kolkata (Airport)    51 non-null     float64\n",
            " 55  2020 Hyderabad (Airport)  51 non-null     float64\n",
            " 56  2020 Cochin (Airport)     51 non-null     float64\n",
            "dtypes: float64(54), int64(2), object(1)\n",
            "memory usage: 23.1+ KB\n"
          ]
        }
      ],
      "source": [
        "country_airport=country_airport.dropna()\n",
        "\n",
        "country_airport.info()"
      ]
    },
    {
      "cell_type": "code",
      "execution_count": null,
      "id": "78441859-e567-42ac-b5e4-fe1cbc00dd37",
      "metadata": {
        "id": "78441859-e567-42ac-b5e4-fe1cbc00dd37"
      },
      "outputs": [],
      "source": [
        "######################################################################################################################################################"
      ]
    },
    {
      "cell_type": "markdown",
      "id": "onvDOQtVqYRv",
      "metadata": {
        "id": "onvDOQtVqYRv"
      },
      "source": [
        "Analyzing visitor ways data files"
      ]
    },
    {
      "cell_type": "code",
      "execution_count": null,
      "id": "797db85e-ddd1-4de9-b227-42ef28479d5b",
      "metadata": {
        "colab": {
          "base_uri": "https://localhost:8080/"
        },
        "id": "797db85e-ddd1-4de9-b227-42ef28479d5b",
        "outputId": "d003fba2-e2c5-41e4-8f06-18916fce2f4c"
      },
      "outputs": [
        {
          "name": "stdout",
          "output_type": "stream",
          "text": [
            "<class 'pandas.core.frame.DataFrame'>\n",
            "RangeIndex: 63 entries, 0 to 62\n",
            "Data columns (total 29 columns):\n",
            " #   Column                  Non-Null Count  Dtype  \n",
            "---  ------                  --------------  -----  \n",
            " 0   Country of Nationality  63 non-null     object \n",
            " 1   2014 AIR                63 non-null     float64\n",
            " 2   2014 SEA                63 non-null     float64\n",
            " 3   2014 RAIL               63 non-null     float64\n",
            " 4   2014 LAND               63 non-null     float64\n",
            " 5   2015 AIR                63 non-null     float64\n",
            " 6   2015 SEA                63 non-null     float64\n",
            " 7   2015 RAIL               63 non-null     float64\n",
            " 8   2015 LAND               63 non-null     float64\n",
            " 9   2016 AIR                63 non-null     float64\n",
            " 10  2016 SEA                63 non-null     float64\n",
            " 11  2016 RAIL               63 non-null     float64\n",
            " 12  2016 LAND               63 non-null     float64\n",
            " 13  2017 AIR                63 non-null     object \n",
            " 14  2017 SEA                63 non-null     float64\n",
            " 15  2017 RAIL               63 non-null     float64\n",
            " 16  2017 LAND               63 non-null     float64\n",
            " 17  2018 AIR                63 non-null     float64\n",
            " 18  2018 SEA                63 non-null     float64\n",
            " 19  2018 RAIL               63 non-null     float64\n",
            " 20  2018 LAND               63 non-null     float64\n",
            " 21  2019 AIR                63 non-null     float64\n",
            " 22  2019 SEA                63 non-null     float64\n",
            " 23  2019 RAIL               63 non-null     float64\n",
            " 24  2019 LAND               63 non-null     float64\n",
            " 25  2020 AIR                63 non-null     float64\n",
            " 26  2020 SEA                63 non-null     float64\n",
            " 27  2020 RAIL               63 non-null     float64\n",
            " 28  2020 LAND               63 non-null     float64\n",
            "dtypes: float64(27), object(2)\n",
            "memory usage: 14.4+ KB\n"
          ]
        }
      ],
      "source": [
        "visitor_ways.info()"
      ]
    },
    {
      "cell_type": "code",
      "execution_count": null,
      "id": "76205035-1c04-4ff8-92fe-6fb5e25513f1",
      "metadata": {
        "colab": {
          "base_uri": "https://localhost:8080/",
          "height": 1000
        },
        "id": "76205035-1c04-4ff8-92fe-6fb5e25513f1",
        "outputId": "6df55d38-5a85-4706-ecdb-29c677553185"
      },
      "outputs": [
        {
          "data": {
            "text/html": [
              "<div>\n",
              "<style scoped>\n",
              "    .dataframe tbody tr th:only-of-type {\n",
              "        vertical-align: middle;\n",
              "    }\n",
              "\n",
              "    .dataframe tbody tr th {\n",
              "        vertical-align: top;\n",
              "    }\n",
              "\n",
              "    .dataframe thead th {\n",
              "        text-align: right;\n",
              "    }\n",
              "</style>\n",
              "<table border=\"1\" class=\"dataframe\">\n",
              "  <thead>\n",
              "    <tr style=\"text-align: right;\">\n",
              "      <th></th>\n",
              "      <th>2017 AIR</th>\n",
              "    </tr>\n",
              "  </thead>\n",
              "  <tbody>\n",
              "    <tr>\n",
              "      <th>0</th>\n",
              "      <td>99.0</td>\n",
              "    </tr>\n",
              "    <tr>\n",
              "      <th>1</th>\n",
              "      <td>99.2</td>\n",
              "    </tr>\n",
              "    <tr>\n",
              "      <th>2</th>\n",
              "      <td>97.4</td>\n",
              "    </tr>\n",
              "    <tr>\n",
              "      <th>3</th>\n",
              "      <td>98.5</td>\n",
              "    </tr>\n",
              "    <tr>\n",
              "      <th>4</th>\n",
              "      <td>97.4</td>\n",
              "    </tr>\n",
              "    <tr>\n",
              "      <th>5</th>\n",
              "      <td>98.2</td>\n",
              "    </tr>\n",
              "    <tr>\n",
              "      <th>6</th>\n",
              "      <td>98.6</td>\n",
              "    </tr>\n",
              "    <tr>\n",
              "      <th>7</th>\n",
              "      <td>99.0</td>\n",
              "    </tr>\n",
              "    <tr>\n",
              "      <th>8</th>\n",
              "      <td>99.4</td>\n",
              "    </tr>\n",
              "    <tr>\n",
              "      <th>9</th>\n",
              "      <td>99.0</td>\n",
              "    </tr>\n",
              "    <tr>\n",
              "      <th>10</th>\n",
              "      <td>96.2</td>\n",
              "    </tr>\n",
              "    <tr>\n",
              "      <th>11</th>\n",
              "      <td>97.9</td>\n",
              "    </tr>\n",
              "    <tr>\n",
              "      <th>12</th>\n",
              "      <td>98.8</td>\n",
              "    </tr>\n",
              "    <tr>\n",
              "      <th>13</th>\n",
              "      <td>95.5</td>\n",
              "    </tr>\n",
              "    <tr>\n",
              "      <th>14</th>\n",
              "      <td>99.1</td>\n",
              "    </tr>\n",
              "    <tr>\n",
              "      <th>15</th>\n",
              "      <td>98.5</td>\n",
              "    </tr>\n",
              "    <tr>\n",
              "      <th>16</th>\n",
              "      <td>99.6</td>\n",
              "    </tr>\n",
              "    <tr>\n",
              "      <th>17</th>\n",
              "      <td>98.7</td>\n",
              "    </tr>\n",
              "    <tr>\n",
              "      <th>18</th>\n",
              "      <td>99.3</td>\n",
              "    </tr>\n",
              "    <tr>\n",
              "      <th>19</th>\n",
              "      <td>97.6</td>\n",
              "    </tr>\n",
              "    <tr>\n",
              "      <th>20</th>\n",
              "      <td>99.1</td>\n",
              "    </tr>\n",
              "    <tr>\n",
              "      <th>21</th>\n",
              "      <td>97.9</td>\n",
              "    </tr>\n",
              "    <tr>\n",
              "      <th>22</th>\n",
              "      <td>98.4</td>\n",
              "    </tr>\n",
              "    <tr>\n",
              "      <th>23</th>\n",
              "      <td>99.7</td>\n",
              "    </tr>\n",
              "    <tr>\n",
              "      <th>24</th>\n",
              "      <td>97.8</td>\n",
              "    </tr>\n",
              "    <tr>\n",
              "      <th>25</th>\n",
              "      <td>99.1</td>\n",
              "    </tr>\n",
              "    <tr>\n",
              "      <th>26</th>\n",
              "      <td>93.0</td>\n",
              "    </tr>\n",
              "    <tr>\n",
              "      <th>27</th>\n",
              "      <td>99.l</td>\n",
              "    </tr>\n",
              "    <tr>\n",
              "      <th>28</th>\n",
              "      <td>99.8</td>\n",
              "    </tr>\n",
              "    <tr>\n",
              "      <th>29</th>\n",
              "      <td>99.4</td>\n",
              "    </tr>\n",
              "    <tr>\n",
              "      <th>30</th>\n",
              "      <td>99.8</td>\n",
              "    </tr>\n",
              "    <tr>\n",
              "      <th>31</th>\n",
              "      <td>98.9</td>\n",
              "    </tr>\n",
              "    <tr>\n",
              "      <th>32</th>\n",
              "      <td>100.0</td>\n",
              "    </tr>\n",
              "    <tr>\n",
              "      <th>33</th>\n",
              "      <td>99.7</td>\n",
              "    </tr>\n",
              "    <tr>\n",
              "      <th>34</th>\n",
              "      <td>99.5</td>\n",
              "    </tr>\n",
              "    <tr>\n",
              "      <th>35</th>\n",
              "      <td>99.9</td>\n",
              "    </tr>\n",
              "    <tr>\n",
              "      <th>36</th>\n",
              "      <td>98.8</td>\n",
              "    </tr>\n",
              "    <tr>\n",
              "      <th>37</th>\n",
              "      <td>100.0</td>\n",
              "    </tr>\n",
              "    <tr>\n",
              "      <th>38</th>\n",
              "      <td>100.0</td>\n",
              "    </tr>\n",
              "    <tr>\n",
              "      <th>39</th>\n",
              "      <td>98.1</td>\n",
              "    </tr>\n",
              "    <tr>\n",
              "      <th>40</th>\n",
              "      <td>100.0</td>\n",
              "    </tr>\n",
              "    <tr>\n",
              "      <th>41</th>\n",
              "      <td>99.7</td>\n",
              "    </tr>\n",
              "    <tr>\n",
              "      <th>42</th>\n",
              "      <td>100.0</td>\n",
              "    </tr>\n",
              "    <tr>\n",
              "      <th>43</th>\n",
              "      <td>14.4</td>\n",
              "    </tr>\n",
              "    <tr>\n",
              "      <th>44</th>\n",
              "      <td>87.6</td>\n",
              "    </tr>\n",
              "    <tr>\n",
              "      <th>45</th>\n",
              "      <td>99.7</td>\n",
              "    </tr>\n",
              "    <tr>\n",
              "      <th>46</th>\n",
              "      <td>100.0</td>\n",
              "    </tr>\n",
              "    <tr>\n",
              "      <th>47</th>\n",
              "      <td>97.4</td>\n",
              "    </tr>\n",
              "    <tr>\n",
              "      <th>48</th>\n",
              "      <td>11.8</td>\n",
              "    </tr>\n",
              "    <tr>\n",
              "      <th>49</th>\n",
              "      <td>90.8</td>\n",
              "    </tr>\n",
              "  </tbody>\n",
              "</table>\n",
              "</div><br><label><b>dtype:</b> object</label>"
            ],
            "text/plain": [
              "0      99.0\n",
              "1      99.2\n",
              "2      97.4\n",
              "3      98.5\n",
              "4      97.4\n",
              "5      98.2\n",
              "6      98.6\n",
              "7      99.0\n",
              "8      99.4\n",
              "9      99.0\n",
              "10     96.2\n",
              "11     97.9\n",
              "12     98.8\n",
              "13     95.5\n",
              "14     99.1\n",
              "15     98.5\n",
              "16     99.6\n",
              "17     98.7\n",
              "18     99.3\n",
              "19     97.6\n",
              "20     99.1\n",
              "21     97.9\n",
              "22     98.4\n",
              "23     99.7\n",
              "24     97.8\n",
              "25     99.1\n",
              "26     93.0\n",
              "27     99.l\n",
              "28     99.8\n",
              "29     99.4\n",
              "30     99.8\n",
              "31     98.9\n",
              "32    100.0\n",
              "33     99.7\n",
              "34     99.5\n",
              "35     99.9\n",
              "36     98.8\n",
              "37    100.0\n",
              "38    100.0\n",
              "39     98.1\n",
              "40    100.0\n",
              "41     99.7\n",
              "42    100.0\n",
              "43     14.4\n",
              "44     87.6\n",
              "45     99.7\n",
              "46    100.0\n",
              "47     97.4\n",
              "48     11.8\n",
              "49     90.8\n",
              "Name: 2017 AIR, dtype: object"
            ]
          },
          "execution_count": 32,
          "metadata": {},
          "output_type": "execute_result"
        }
      ],
      "source": [
        "visitor_ways['2017 AIR'].head(50)"
      ]
    },
    {
      "cell_type": "markdown",
      "id": "QKnPEQi-qiwZ",
      "metadata": {
        "id": "QKnPEQi-qiwZ"
      },
      "source": [
        "Cleaning dataset"
      ]
    },
    {
      "cell_type": "code",
      "execution_count": null,
      "id": "f70163cc-1ee1-4c48-9c6a-b0ad787950eb",
      "metadata": {
        "colab": {
          "base_uri": "https://localhost:8080/"
        },
        "id": "f70163cc-1ee1-4c48-9c6a-b0ad787950eb",
        "outputId": "52c19612-cbc9-41dc-d976-a2f3525c81fb"
      },
      "outputs": [
        {
          "name": "stdout",
          "output_type": "stream",
          "text": [
            "<class 'pandas.core.frame.DataFrame'>\n",
            "RangeIndex: 63 entries, 0 to 62\n",
            "Data columns (total 29 columns):\n",
            " #   Column                  Non-Null Count  Dtype  \n",
            "---  ------                  --------------  -----  \n",
            " 0   Country of Nationality  63 non-null     object \n",
            " 1   2014 AIR                63 non-null     float64\n",
            " 2   2014 SEA                63 non-null     float64\n",
            " 3   2014 RAIL               63 non-null     float64\n",
            " 4   2014 LAND               63 non-null     float64\n",
            " 5   2015 AIR                63 non-null     float64\n",
            " 6   2015 SEA                63 non-null     float64\n",
            " 7   2015 RAIL               63 non-null     float64\n",
            " 8   2015 LAND               63 non-null     float64\n",
            " 9   2016 AIR                63 non-null     float64\n",
            " 10  2016 SEA                63 non-null     float64\n",
            " 11  2016 RAIL               63 non-null     float64\n",
            " 12  2016 LAND               63 non-null     float64\n",
            " 13  2017 AIR                63 non-null     object \n",
            " 14  2017 SEA                63 non-null     float64\n",
            " 15  2017 RAIL               63 non-null     float64\n",
            " 16  2017 LAND               63 non-null     float64\n",
            " 17  2018 AIR                63 non-null     float64\n",
            " 18  2018 SEA                63 non-null     float64\n",
            " 19  2018 RAIL               63 non-null     float64\n",
            " 20  2018 LAND               63 non-null     float64\n",
            " 21  2019 AIR                63 non-null     float64\n",
            " 22  2019 SEA                63 non-null     float64\n",
            " 23  2019 RAIL               63 non-null     float64\n",
            " 24  2019 LAND               63 non-null     float64\n",
            " 25  2020 AIR                63 non-null     float64\n",
            " 26  2020 SEA                63 non-null     float64\n",
            " 27  2020 RAIL               63 non-null     float64\n",
            " 28  2020 LAND               63 non-null     float64\n",
            "dtypes: float64(27), object(2)\n",
            "memory usage: 14.4+ KB\n"
          ]
        },
        {
          "name": "stderr",
          "output_type": "stream",
          "text": [
            "<ipython-input-31-ab0983ae9b7d>:7: FutureWarning: DataFrame.applymap has been deprecated. Use DataFrame.map instead.\n",
            "  visitor_ways = visitor_ways.applymap(replace_l_with_1)\n"
          ]
        }
      ],
      "source": [
        "def replace_l_with_1(cell):\n",
        "    if isinstance(cell, str):  # Apply replacement only to string values\n",
        "        return cell.replace('l', '1')\n",
        "    return cell\n",
        "\n",
        "# Apply the function to all cell values (excluding column names)\n",
        "visitor_ways = visitor_ways.applymap(replace_l_with_1)\n",
        "\n",
        "\n",
        "visitor_ways.info()"
      ]
    },
    {
      "cell_type": "code",
      "execution_count": null,
      "id": "23e56d17-2f4a-40bf-87d4-9e656c5e88c2",
      "metadata": {
        "colab": {
          "base_uri": "https://localhost:8080/"
        },
        "id": "23e56d17-2f4a-40bf-87d4-9e656c5e88c2",
        "outputId": "2412e8c3-ddaf-4eb2-b5c1-c82ded919e4e"
      },
      "outputs": [
        {
          "name": "stdout",
          "output_type": "stream",
          "text": [
            "<class 'pandas.core.frame.DataFrame'>\n",
            "RangeIndex: 63 entries, 0 to 62\n",
            "Data columns (total 29 columns):\n",
            " #   Column                  Non-Null Count  Dtype  \n",
            "---  ------                  --------------  -----  \n",
            " 0   Country of Nationality  63 non-null     object \n",
            " 1   2014 AIR                63 non-null     float64\n",
            " 2   2014 SEA                63 non-null     float64\n",
            " 3   2014 RAIL               63 non-null     float64\n",
            " 4   2014 LAND               63 non-null     float64\n",
            " 5   2015 AIR                63 non-null     float64\n",
            " 6   2015 SEA                63 non-null     float64\n",
            " 7   2015 RAIL               63 non-null     float64\n",
            " 8   2015 LAND               63 non-null     float64\n",
            " 9   2016 AIR                63 non-null     float64\n",
            " 10  2016 SEA                63 non-null     float64\n",
            " 11  2016 RAIL               63 non-null     float64\n",
            " 12  2016 LAND               63 non-null     float64\n",
            " 13  2017 AIR                63 non-null     float64\n",
            " 14  2017 SEA                63 non-null     float64\n",
            " 15  2017 RAIL               63 non-null     float64\n",
            " 16  2017 LAND               63 non-null     float64\n",
            " 17  2018 AIR                63 non-null     float64\n",
            " 18  2018 SEA                63 non-null     float64\n",
            " 19  2018 RAIL               63 non-null     float64\n",
            " 20  2018 LAND               63 non-null     float64\n",
            " 21  2019 AIR                63 non-null     float64\n",
            " 22  2019 SEA                63 non-null     float64\n",
            " 23  2019 RAIL               63 non-null     float64\n",
            " 24  2019 LAND               63 non-null     float64\n",
            " 25  2020 AIR                63 non-null     float64\n",
            " 26  2020 SEA                63 non-null     float64\n",
            " 27  2020 RAIL               63 non-null     float64\n",
            " 28  2020 LAND               63 non-null     float64\n",
            "dtypes: float64(28), object(1)\n",
            "memory usage: 14.4+ KB\n"
          ]
        }
      ],
      "source": [
        "visitor_ways['2017 AIR'] = visitor_ways['2017 AIR'].astype(float)\n",
        "\n",
        "visitor_ways.info()"
      ]
    },
    {
      "cell_type": "code",
      "execution_count": null,
      "id": "d41a794a-ae27-4932-8fac-2d71d19b91fb",
      "metadata": {
        "id": "d41a794a-ae27-4932-8fac-2d71d19b91fb"
      },
      "outputs": [],
      "source": [
        "######################################################################################################################################################"
      ]
    },
    {
      "cell_type": "markdown",
      "id": "7T-LanXpqopd",
      "metadata": {
        "id": "7T-LanXpqopd"
      },
      "source": [
        "Analyzing remaining data files"
      ]
    },
    {
      "cell_type": "code",
      "execution_count": null,
      "id": "cf86a633-157f-4c11-b386-15a6745b0b1f",
      "metadata": {
        "id": "cf86a633-157f-4c11-b386-15a6745b0b1f"
      },
      "outputs": [],
      "source": [
        "yearly_visitors.info()"
      ]
    },
    {
      "cell_type": "code",
      "execution_count": null,
      "id": "ca6b1a81-ac4e-4955-8666-afe36cd245f4",
      "metadata": {
        "id": "ca6b1a81-ac4e-4955-8666-afe36cd245f4"
      },
      "outputs": [],
      "source": [
        "#######################################################################################################################################################"
      ]
    },
    {
      "cell_type": "code",
      "execution_count": null,
      "id": "16619dee-b208-42b4-9551-3b0e79b88ad8",
      "metadata": {
        "id": "16619dee-b208-42b4-9551-3b0e79b88ad8"
      },
      "outputs": [],
      "source": [
        "monthly_fee.info()"
      ]
    },
    {
      "cell_type": "code",
      "execution_count": null,
      "id": "9ccace1c-b246-463d-bfdd-1cf77cd907bb",
      "metadata": {
        "id": "9ccace1c-b246-463d-bfdd-1cf77cd907bb"
      },
      "outputs": [],
      "source": [
        "######################################################################################################################################################"
      ]
    },
    {
      "cell_type": "code",
      "execution_count": null,
      "id": "c9a13147-dcea-40d8-8810-fa65942b028a",
      "metadata": {
        "id": "c9a13147-dcea-40d8-8810-fa65942b028a"
      },
      "outputs": [],
      "source": [
        "country_fta.info()"
      ]
    },
    {
      "cell_type": "code",
      "execution_count": null,
      "id": "a93bdc1f-acd9-412d-ad3e-1619146439a0",
      "metadata": {
        "id": "a93bdc1f-acd9-412d-ad3e-1619146439a0"
      },
      "outputs": [],
      "source": [
        "######################################################################################################################################################"
      ]
    },
    {
      "cell_type": "code",
      "execution_count": null,
      "id": "be28f65d-46b7-4b70-8364-488e6de5ca7e",
      "metadata": {
        "id": "be28f65d-46b7-4b70-8364-488e6de5ca7e"
      },
      "outputs": [],
      "source": [
        "state_fta.info()"
      ]
    },
    {
      "cell_type": "markdown",
      "id": "Efuc5-3VqzX7",
      "metadata": {
        "id": "Efuc5-3VqzX7"
      },
      "source": [
        "#**Visualizations**"
      ]
    },
    {
      "cell_type": "code",
      "execution_count": null,
      "id": "ce9fefac-dc16-4b0e-93d6-b863dc48dce6",
      "metadata": {
        "colab": {
          "base_uri": "https://localhost:8080/",
          "height": 1000
        },
        "id": "ce9fefac-dc16-4b0e-93d6-b863dc48dce6",
        "outputId": "a295933a-5c40-474d-b64c-4ca6fb4ae924"
      },
      "outputs": [
        {
          "data": {
            "text/html": [
              "<html>\n",
              "<head><meta charset=\"utf-8\" /></head>\n",
              "<body>\n",
              "    <div>            <script src=\"https://cdnjs.cloudflare.com/ajax/libs/mathjax/2.7.5/MathJax.js?config=TeX-AMS-MML_SVG\"></script><script type=\"text/javascript\">if (window.MathJax && window.MathJax.Hub && window.MathJax.Hub.Config) {window.MathJax.Hub.Config({SVG: {font: \"STIX-Web\"}});}</script>                <script type=\"text/javascript\">window.PlotlyConfig = {MathJaxConfig: 'local'};</script>\n",
              "        <script charset=\"utf-8\" src=\"https://cdn.plot.ly/plotly-2.35.2.min.js\"></script>                <div id=\"7dfc261c-07c5-4578-8aae-dc622e5fd6cf\" class=\"plotly-graph-div\" style=\"height:900px; width:100%;\"></div>            <script type=\"text/javascript\">                                    window.PLOTLYENV=window.PLOTLYENV || {};                                    if (document.getElementById(\"7dfc261c-07c5-4578-8aae-dc622e5fd6cf\")) {                    Plotly.newPlot(                        \"7dfc261c-07c5-4578-8aae-dc622e5fd6cf\",                        [{\"line\":{\"color\":\"#FF9933\",\"width\":3},\"name\":\"India Tourist Arrivals\",\"x\":[2014,2015,2016,2017,2018,2019],\"y\":[7.68,8.03,8.8,10.04,10.56,10.93],\"type\":\"scatter\",\"xaxis\":\"x\",\"yaxis\":\"y\",\"hovertemplate\":\"\\u003cb\\u003eYear\\u003c\\u002fb\\u003e: %{x}\\u003cbr\\u003e\\u003cb\\u003eValue\\u003c\\u002fb\\u003e: %{y:,.2f}\\u003cbr\\u003e\\u003cextra\\u003e\\u003c\\u002fextra\\u003e\"},{\"line\":{\"color\":\"#138808\",\"width\":3},\"name\":\"World Tourist Arrivals\",\"x\":[2014,2015,2016,2017,2018,2019],\"y\":[1133,1184,1235,1323,1403,1460],\"type\":\"scatter\",\"xaxis\":\"x\",\"yaxis\":\"y\",\"hovertemplate\":\"\\u003cb\\u003eYear\\u003c\\u002fb\\u003e: %{x}\\u003cbr\\u003e\\u003cb\\u003eValue\\u003c\\u002fb\\u003e: %{y:,.2f}\\u003cbr\\u003e\\u003cextra\\u003e\\u003c\\u002fextra\\u003e\"},{\"line\":{\"color\":\"#000080\",\"width\":3},\"name\":\"APAC Tourist Arrivals\",\"x\":[2014,2015,2016,2017,2018,2019],\"y\":[264.0,278.6,308.7,323.2,345.1,360.7],\"type\":\"scatter\",\"xaxis\":\"x\",\"yaxis\":\"y\",\"hovertemplate\":\"\\u003cb\\u003eYear\\u003c\\u002fb\\u003e: %{x}\\u003cbr\\u003e\\u003cb\\u003eValue\\u003c\\u002fb\\u003e: %{y:,.2f}\\u003cbr\\u003e\\u003cextra\\u003e\\u003c\\u002fextra\\u003e\"},{\"marker\":{\"color\":\"#FF9933\"},\"name\":\"India Growth Rate\",\"x\":[2014,2015,2016,2017,2018,2019],\"y\":[10.2,4.5,9.7,14.0,5.2,3.5],\"type\":\"bar\",\"xaxis\":\"x2\",\"yaxis\":\"y2\",\"hovertemplate\":\"\\u003cb\\u003eYear\\u003c\\u002fb\\u003e: %{x}\\u003cbr\\u003e\\u003cb\\u003eValue\\u003c\\u002fb\\u003e: %{y:,.2f}\\u003cbr\\u003e\\u003cextra\\u003e\\u003c\\u002fextra\\u003e\"},{\"marker\":{\"color\":\"#138808\"},\"name\":\"World Growth Rate\",\"x\":[2014,2015,2016,2017,2018,2019],\"y\":[4.2,4.4,3.9,6.8,5.6,3.6],\"type\":\"bar\",\"xaxis\":\"x2\",\"yaxis\":\"y2\",\"hovertemplate\":\"\\u003cb\\u003eYear\\u003c\\u002fb\\u003e: %{x}\\u003cbr\\u003e\\u003cb\\u003eValue\\u003c\\u002fb\\u003e: %{y:,.2f}\\u003cbr\\u003e\\u003cextra\\u003e\\u003c\\u002fextra\\u003e\"},{\"marker\":{\"color\":\"#000080\"},\"name\":\"APAC Growth Rate\",\"x\":[2014,2015,2016,2017,2018,2019],\"y\":[5.7,5.4,8.7,5.7,6.5,3.7],\"type\":\"bar\",\"xaxis\":\"x2\",\"yaxis\":\"y2\",\"hovertemplate\":\"\\u003cb\\u003eYear\\u003c\\u002fb\\u003e: %{x}\\u003cbr\\u003e\\u003cb\\u003eValue\\u003c\\u002fb\\u003e: %{y:,.2f}\\u003cbr\\u003e\\u003cextra\\u003e\\u003c\\u002fextra\\u003e\"}],                        {\"template\":{\"data\":{\"barpolar\":[{\"marker\":{\"line\":{\"color\":\"white\",\"width\":0.5},\"pattern\":{\"fillmode\":\"overlay\",\"size\":10,\"solidity\":0.2}},\"type\":\"barpolar\"}],\"bar\":[{\"error_x\":{\"color\":\"#2a3f5f\"},\"error_y\":{\"color\":\"#2a3f5f\"},\"marker\":{\"line\":{\"color\":\"white\",\"width\":0.5},\"pattern\":{\"fillmode\":\"overlay\",\"size\":10,\"solidity\":0.2}},\"type\":\"bar\"}],\"carpet\":[{\"aaxis\":{\"endlinecolor\":\"#2a3f5f\",\"gridcolor\":\"#C8D4E3\",\"linecolor\":\"#C8D4E3\",\"minorgridcolor\":\"#C8D4E3\",\"startlinecolor\":\"#2a3f5f\"},\"baxis\":{\"endlinecolor\":\"#2a3f5f\",\"gridcolor\":\"#C8D4E3\",\"linecolor\":\"#C8D4E3\",\"minorgridcolor\":\"#C8D4E3\",\"startlinecolor\":\"#2a3f5f\"},\"type\":\"carpet\"}],\"choropleth\":[{\"colorbar\":{\"outlinewidth\":0,\"ticks\":\"\"},\"type\":\"choropleth\"}],\"contourcarpet\":[{\"colorbar\":{\"outlinewidth\":0,\"ticks\":\"\"},\"type\":\"contourcarpet\"}],\"contour\":[{\"colorbar\":{\"outlinewidth\":0,\"ticks\":\"\"},\"colorscale\":[[0.0,\"#0d0887\"],[0.1111111111111111,\"#46039f\"],[0.2222222222222222,\"#7201a8\"],[0.3333333333333333,\"#9c179e\"],[0.4444444444444444,\"#bd3786\"],[0.5555555555555556,\"#d8576b\"],[0.6666666666666666,\"#ed7953\"],[0.7777777777777778,\"#fb9f3a\"],[0.8888888888888888,\"#fdca26\"],[1.0,\"#f0f921\"]],\"type\":\"contour\"}],\"heatmapgl\":[{\"colorbar\":{\"outlinewidth\":0,\"ticks\":\"\"},\"colorscale\":[[0.0,\"#0d0887\"],[0.1111111111111111,\"#46039f\"],[0.2222222222222222,\"#7201a8\"],[0.3333333333333333,\"#9c179e\"],[0.4444444444444444,\"#bd3786\"],[0.5555555555555556,\"#d8576b\"],[0.6666666666666666,\"#ed7953\"],[0.7777777777777778,\"#fb9f3a\"],[0.8888888888888888,\"#fdca26\"],[1.0,\"#f0f921\"]],\"type\":\"heatmapgl\"}],\"heatmap\":[{\"colorbar\":{\"outlinewidth\":0,\"ticks\":\"\"},\"colorscale\":[[0.0,\"#0d0887\"],[0.1111111111111111,\"#46039f\"],[0.2222222222222222,\"#7201a8\"],[0.3333333333333333,\"#9c179e\"],[0.4444444444444444,\"#bd3786\"],[0.5555555555555556,\"#d8576b\"],[0.6666666666666666,\"#ed7953\"],[0.7777777777777778,\"#fb9f3a\"],[0.8888888888888888,\"#fdca26\"],[1.0,\"#f0f921\"]],\"type\":\"heatmap\"}],\"histogram2dcontour\":[{\"colorbar\":{\"outlinewidth\":0,\"ticks\":\"\"},\"colorscale\":[[0.0,\"#0d0887\"],[0.1111111111111111,\"#46039f\"],[0.2222222222222222,\"#7201a8\"],[0.3333333333333333,\"#9c179e\"],[0.4444444444444444,\"#bd3786\"],[0.5555555555555556,\"#d8576b\"],[0.6666666666666666,\"#ed7953\"],[0.7777777777777778,\"#fb9f3a\"],[0.8888888888888888,\"#fdca26\"],[1.0,\"#f0f921\"]],\"type\":\"histogram2dcontour\"}],\"histogram2d\":[{\"colorbar\":{\"outlinewidth\":0,\"ticks\":\"\"},\"colorscale\":[[0.0,\"#0d0887\"],[0.1111111111111111,\"#46039f\"],[0.2222222222222222,\"#7201a8\"],[0.3333333333333333,\"#9c179e\"],[0.4444444444444444,\"#bd3786\"],[0.5555555555555556,\"#d8576b\"],[0.6666666666666666,\"#ed7953\"],[0.7777777777777778,\"#fb9f3a\"],[0.8888888888888888,\"#fdca26\"],[1.0,\"#f0f921\"]],\"type\":\"histogram2d\"}],\"histogram\":[{\"marker\":{\"pattern\":{\"fillmode\":\"overlay\",\"size\":10,\"solidity\":0.2}},\"type\":\"histogram\"}],\"mesh3d\":[{\"colorbar\":{\"outlinewidth\":0,\"ticks\":\"\"},\"type\":\"mesh3d\"}],\"parcoords\":[{\"line\":{\"colorbar\":{\"outlinewidth\":0,\"ticks\":\"\"}},\"type\":\"parcoords\"}],\"pie\":[{\"automargin\":true,\"type\":\"pie\"}],\"scatter3d\":[{\"line\":{\"colorbar\":{\"outlinewidth\":0,\"ticks\":\"\"}},\"marker\":{\"colorbar\":{\"outlinewidth\":0,\"ticks\":\"\"}},\"type\":\"scatter3d\"}],\"scattercarpet\":[{\"marker\":{\"colorbar\":{\"outlinewidth\":0,\"ticks\":\"\"}},\"type\":\"scattercarpet\"}],\"scattergeo\":[{\"marker\":{\"colorbar\":{\"outlinewidth\":0,\"ticks\":\"\"}},\"type\":\"scattergeo\"}],\"scattergl\":[{\"marker\":{\"colorbar\":{\"outlinewidth\":0,\"ticks\":\"\"}},\"type\":\"scattergl\"}],\"scattermapbox\":[{\"marker\":{\"colorbar\":{\"outlinewidth\":0,\"ticks\":\"\"}},\"type\":\"scattermapbox\"}],\"scatterpolargl\":[{\"marker\":{\"colorbar\":{\"outlinewidth\":0,\"ticks\":\"\"}},\"type\":\"scatterpolargl\"}],\"scatterpolar\":[{\"marker\":{\"colorbar\":{\"outlinewidth\":0,\"ticks\":\"\"}},\"type\":\"scatterpolar\"}],\"scatter\":[{\"fillpattern\":{\"fillmode\":\"overlay\",\"size\":10,\"solidity\":0.2},\"type\":\"scatter\"}],\"scatterternary\":[{\"marker\":{\"colorbar\":{\"outlinewidth\":0,\"ticks\":\"\"}},\"type\":\"scatterternary\"}],\"surface\":[{\"colorbar\":{\"outlinewidth\":0,\"ticks\":\"\"},\"colorscale\":[[0.0,\"#0d0887\"],[0.1111111111111111,\"#46039f\"],[0.2222222222222222,\"#7201a8\"],[0.3333333333333333,\"#9c179e\"],[0.4444444444444444,\"#bd3786\"],[0.5555555555555556,\"#d8576b\"],[0.6666666666666666,\"#ed7953\"],[0.7777777777777778,\"#fb9f3a\"],[0.8888888888888888,\"#fdca26\"],[1.0,\"#f0f921\"]],\"type\":\"surface\"}],\"table\":[{\"cells\":{\"fill\":{\"color\":\"#EBF0F8\"},\"line\":{\"color\":\"white\"}},\"header\":{\"fill\":{\"color\":\"#C8D4E3\"},\"line\":{\"color\":\"white\"}},\"type\":\"table\"}]},\"layout\":{\"annotationdefaults\":{\"arrowcolor\":\"#2a3f5f\",\"arrowhead\":0,\"arrowwidth\":1},\"autotypenumbers\":\"strict\",\"coloraxis\":{\"colorbar\":{\"outlinewidth\":0,\"ticks\":\"\"}},\"colorscale\":{\"diverging\":[[0,\"#8e0152\"],[0.1,\"#c51b7d\"],[0.2,\"#de77ae\"],[0.3,\"#f1b6da\"],[0.4,\"#fde0ef\"],[0.5,\"#f7f7f7\"],[0.6,\"#e6f5d0\"],[0.7,\"#b8e186\"],[0.8,\"#7fbc41\"],[0.9,\"#4d9221\"],[1,\"#276419\"]],\"sequential\":[[0.0,\"#0d0887\"],[0.1111111111111111,\"#46039f\"],[0.2222222222222222,\"#7201a8\"],[0.3333333333333333,\"#9c179e\"],[0.4444444444444444,\"#bd3786\"],[0.5555555555555556,\"#d8576b\"],[0.6666666666666666,\"#ed7953\"],[0.7777777777777778,\"#fb9f3a\"],[0.8888888888888888,\"#fdca26\"],[1.0,\"#f0f921\"]],\"sequentialminus\":[[0.0,\"#0d0887\"],[0.1111111111111111,\"#46039f\"],[0.2222222222222222,\"#7201a8\"],[0.3333333333333333,\"#9c179e\"],[0.4444444444444444,\"#bd3786\"],[0.5555555555555556,\"#d8576b\"],[0.6666666666666666,\"#ed7953\"],[0.7777777777777778,\"#fb9f3a\"],[0.8888888888888888,\"#fdca26\"],[1.0,\"#f0f921\"]]},\"colorway\":[\"#636efa\",\"#EF553B\",\"#00cc96\",\"#ab63fa\",\"#FFA15A\",\"#19d3f3\",\"#FF6692\",\"#B6E880\",\"#FF97FF\",\"#FECB52\"],\"font\":{\"color\":\"#2a3f5f\"},\"geo\":{\"bgcolor\":\"white\",\"lakecolor\":\"white\",\"landcolor\":\"white\",\"showlakes\":true,\"showland\":true,\"subunitcolor\":\"#C8D4E3\"},\"hoverlabel\":{\"align\":\"left\"},\"hovermode\":\"closest\",\"mapbox\":{\"style\":\"light\"},\"paper_bgcolor\":\"white\",\"plot_bgcolor\":\"white\",\"polar\":{\"angularaxis\":{\"gridcolor\":\"#EBF0F8\",\"linecolor\":\"#EBF0F8\",\"ticks\":\"\"},\"bgcolor\":\"white\",\"radialaxis\":{\"gridcolor\":\"#EBF0F8\",\"linecolor\":\"#EBF0F8\",\"ticks\":\"\"}},\"scene\":{\"xaxis\":{\"backgroundcolor\":\"white\",\"gridcolor\":\"#DFE8F3\",\"gridwidth\":2,\"linecolor\":\"#EBF0F8\",\"showbackground\":true,\"ticks\":\"\",\"zerolinecolor\":\"#EBF0F8\"},\"yaxis\":{\"backgroundcolor\":\"white\",\"gridcolor\":\"#DFE8F3\",\"gridwidth\":2,\"linecolor\":\"#EBF0F8\",\"showbackground\":true,\"ticks\":\"\",\"zerolinecolor\":\"#EBF0F8\"},\"zaxis\":{\"backgroundcolor\":\"white\",\"gridcolor\":\"#DFE8F3\",\"gridwidth\":2,\"linecolor\":\"#EBF0F8\",\"showbackground\":true,\"ticks\":\"\",\"zerolinecolor\":\"#EBF0F8\"}},\"shapedefaults\":{\"line\":{\"color\":\"#2a3f5f\"}},\"ternary\":{\"aaxis\":{\"gridcolor\":\"#DFE8F3\",\"linecolor\":\"#A2B1C6\",\"ticks\":\"\"},\"baxis\":{\"gridcolor\":\"#DFE8F3\",\"linecolor\":\"#A2B1C6\",\"ticks\":\"\"},\"bgcolor\":\"white\",\"caxis\":{\"gridcolor\":\"#DFE8F3\",\"linecolor\":\"#A2B1C6\",\"ticks\":\"\"}},\"title\":{\"x\":0.05},\"xaxis\":{\"automargin\":true,\"gridcolor\":\"#EBF0F8\",\"linecolor\":\"#EBF0F8\",\"ticks\":\"\",\"title\":{\"standoff\":15},\"zerolinecolor\":\"#EBF0F8\",\"zerolinewidth\":2},\"yaxis\":{\"automargin\":true,\"gridcolor\":\"#EBF0F8\",\"linecolor\":\"#EBF0F8\",\"ticks\":\"\",\"title\":{\"standoff\":15},\"zerolinecolor\":\"#EBF0F8\",\"zerolinewidth\":2}}},\"xaxis\":{\"anchor\":\"y\",\"domain\":[0.0,1.0]},\"yaxis\":{\"anchor\":\"x\",\"domain\":[0.58,1.0],\"title\":{\"text\":\"Number of Tourists (Million)\"}},\"xaxis2\":{\"anchor\":\"y2\",\"domain\":[0.0,1.0],\"title\":{\"text\":\"Year\"}},\"yaxis2\":{\"anchor\":\"x2\",\"domain\":[0.0,0.42],\"title\":{\"text\":\"Growth Rate (%)\"}},\"annotations\":[{\"font\":{\"size\":16},\"showarrow\":false,\"text\":\"Tourist Arrivals Comparison\",\"x\":0.5,\"xanchor\":\"center\",\"xref\":\"paper\",\"y\":1.0,\"yanchor\":\"bottom\",\"yref\":\"paper\"},{\"font\":{\"size\":16},\"showarrow\":false,\"text\":\"Growth Rate Comparison\",\"x\":0.5,\"xanchor\":\"center\",\"xref\":\"paper\",\"y\":0.42,\"yanchor\":\"bottom\",\"yref\":\"paper\"}],\"title\":{\"text\":\"Tourist Arrivals: India vs World vs APAC (2014-2020)\"},\"legend\":{\"orientation\":\"h\",\"yanchor\":\"bottom\",\"y\":1.02,\"xanchor\":\"right\",\"x\":1},\"height\":900,\"showlegend\":true},                        {\"responsive\": true}                    ).then(function(){\n",
              "                            \n",
              "var gd = document.getElementById('7dfc261c-07c5-4578-8aae-dc622e5fd6cf');\n",
              "var x = new MutationObserver(function (mutations, observer) {{\n",
              "        var display = window.getComputedStyle(gd).display;\n",
              "        if (!display || display === 'none') {{\n",
              "            console.log([gd, 'removed!']);\n",
              "            Plotly.purge(gd);\n",
              "            observer.disconnect();\n",
              "        }}\n",
              "}});\n",
              "\n",
              "// Listen for the removal of the full notebook cells\n",
              "var notebookContainer = gd.closest('#notebook-container');\n",
              "if (notebookContainer) {{\n",
              "    x.observe(notebookContainer, {childList: true});\n",
              "}}\n",
              "\n",
              "// Listen for the clearing of the current output cell\n",
              "var outputEl = gd.closest('.output');\n",
              "if (outputEl) {{\n",
              "    x.observe(outputEl, {childList: true});\n",
              "}}\n",
              "\n",
              "                        })                };                            </script>        </div>\n",
              "</body>\n",
              "</html>"
            ]
          },
          "metadata": {},
          "output_type": "display_data"
        },
        {
          "data": {
            "text/html": [
              "<html>\n",
              "<head><meta charset=\"utf-8\" /></head>\n",
              "<body>\n",
              "    <div>            <script src=\"https://cdnjs.cloudflare.com/ajax/libs/mathjax/2.7.5/MathJax.js?config=TeX-AMS-MML_SVG\"></script><script type=\"text/javascript\">if (window.MathJax && window.MathJax.Hub && window.MathJax.Hub.Config) {window.MathJax.Hub.Config({SVG: {font: \"STIX-Web\"}});}</script>                <script type=\"text/javascript\">window.PlotlyConfig = {MathJaxConfig: 'local'};</script>\n",
              "        <script charset=\"utf-8\" src=\"https://cdn.plot.ly/plotly-2.35.2.min.js\"></script>                <div id=\"3a9f08a9-fefb-4f77-b92a-8c65ce7d2125\" class=\"plotly-graph-div\" style=\"height:525px; width:100%;\"></div>            <script type=\"text/javascript\">                                    window.PLOTLYENV=window.PLOTLYENV || {};                                    if (document.getElementById(\"3a9f08a9-fefb-4f77-b92a-8c65ce7d2125\")) {                    Plotly.newPlot(                        \"3a9f08a9-fefb-4f77-b92a-8c65ce7d2125\",                        [{\"hole\":0.4,\"labels\":[\"India\",\"Rest of APAC\",\"Rest of World\"],\"marker\":{\"colors\":[\"#FF9933\",\"#000080\",\"#138808\"]},\"values\":[10.93,349.77,1099.3],\"type\":\"pie\"}],                        {\"template\":{\"data\":{\"barpolar\":[{\"marker\":{\"line\":{\"color\":\"white\",\"width\":0.5},\"pattern\":{\"fillmode\":\"overlay\",\"size\":10,\"solidity\":0.2}},\"type\":\"barpolar\"}],\"bar\":[{\"error_x\":{\"color\":\"#2a3f5f\"},\"error_y\":{\"color\":\"#2a3f5f\"},\"marker\":{\"line\":{\"color\":\"white\",\"width\":0.5},\"pattern\":{\"fillmode\":\"overlay\",\"size\":10,\"solidity\":0.2}},\"type\":\"bar\"}],\"carpet\":[{\"aaxis\":{\"endlinecolor\":\"#2a3f5f\",\"gridcolor\":\"#C8D4E3\",\"linecolor\":\"#C8D4E3\",\"minorgridcolor\":\"#C8D4E3\",\"startlinecolor\":\"#2a3f5f\"},\"baxis\":{\"endlinecolor\":\"#2a3f5f\",\"gridcolor\":\"#C8D4E3\",\"linecolor\":\"#C8D4E3\",\"minorgridcolor\":\"#C8D4E3\",\"startlinecolor\":\"#2a3f5f\"},\"type\":\"carpet\"}],\"choropleth\":[{\"colorbar\":{\"outlinewidth\":0,\"ticks\":\"\"},\"type\":\"choropleth\"}],\"contourcarpet\":[{\"colorbar\":{\"outlinewidth\":0,\"ticks\":\"\"},\"type\":\"contourcarpet\"}],\"contour\":[{\"colorbar\":{\"outlinewidth\":0,\"ticks\":\"\"},\"colorscale\":[[0.0,\"#0d0887\"],[0.1111111111111111,\"#46039f\"],[0.2222222222222222,\"#7201a8\"],[0.3333333333333333,\"#9c179e\"],[0.4444444444444444,\"#bd3786\"],[0.5555555555555556,\"#d8576b\"],[0.6666666666666666,\"#ed7953\"],[0.7777777777777778,\"#fb9f3a\"],[0.8888888888888888,\"#fdca26\"],[1.0,\"#f0f921\"]],\"type\":\"contour\"}],\"heatmapgl\":[{\"colorbar\":{\"outlinewidth\":0,\"ticks\":\"\"},\"colorscale\":[[0.0,\"#0d0887\"],[0.1111111111111111,\"#46039f\"],[0.2222222222222222,\"#7201a8\"],[0.3333333333333333,\"#9c179e\"],[0.4444444444444444,\"#bd3786\"],[0.5555555555555556,\"#d8576b\"],[0.6666666666666666,\"#ed7953\"],[0.7777777777777778,\"#fb9f3a\"],[0.8888888888888888,\"#fdca26\"],[1.0,\"#f0f921\"]],\"type\":\"heatmapgl\"}],\"heatmap\":[{\"colorbar\":{\"outlinewidth\":0,\"ticks\":\"\"},\"colorscale\":[[0.0,\"#0d0887\"],[0.1111111111111111,\"#46039f\"],[0.2222222222222222,\"#7201a8\"],[0.3333333333333333,\"#9c179e\"],[0.4444444444444444,\"#bd3786\"],[0.5555555555555556,\"#d8576b\"],[0.6666666666666666,\"#ed7953\"],[0.7777777777777778,\"#fb9f3a\"],[0.8888888888888888,\"#fdca26\"],[1.0,\"#f0f921\"]],\"type\":\"heatmap\"}],\"histogram2dcontour\":[{\"colorbar\":{\"outlinewidth\":0,\"ticks\":\"\"},\"colorscale\":[[0.0,\"#0d0887\"],[0.1111111111111111,\"#46039f\"],[0.2222222222222222,\"#7201a8\"],[0.3333333333333333,\"#9c179e\"],[0.4444444444444444,\"#bd3786\"],[0.5555555555555556,\"#d8576b\"],[0.6666666666666666,\"#ed7953\"],[0.7777777777777778,\"#fb9f3a\"],[0.8888888888888888,\"#fdca26\"],[1.0,\"#f0f921\"]],\"type\":\"histogram2dcontour\"}],\"histogram2d\":[{\"colorbar\":{\"outlinewidth\":0,\"ticks\":\"\"},\"colorscale\":[[0.0,\"#0d0887\"],[0.1111111111111111,\"#46039f\"],[0.2222222222222222,\"#7201a8\"],[0.3333333333333333,\"#9c179e\"],[0.4444444444444444,\"#bd3786\"],[0.5555555555555556,\"#d8576b\"],[0.6666666666666666,\"#ed7953\"],[0.7777777777777778,\"#fb9f3a\"],[0.8888888888888888,\"#fdca26\"],[1.0,\"#f0f921\"]],\"type\":\"histogram2d\"}],\"histogram\":[{\"marker\":{\"pattern\":{\"fillmode\":\"overlay\",\"size\":10,\"solidity\":0.2}},\"type\":\"histogram\"}],\"mesh3d\":[{\"colorbar\":{\"outlinewidth\":0,\"ticks\":\"\"},\"type\":\"mesh3d\"}],\"parcoords\":[{\"line\":{\"colorbar\":{\"outlinewidth\":0,\"ticks\":\"\"}},\"type\":\"parcoords\"}],\"pie\":[{\"automargin\":true,\"type\":\"pie\"}],\"scatter3d\":[{\"line\":{\"colorbar\":{\"outlinewidth\":0,\"ticks\":\"\"}},\"marker\":{\"colorbar\":{\"outlinewidth\":0,\"ticks\":\"\"}},\"type\":\"scatter3d\"}],\"scattercarpet\":[{\"marker\":{\"colorbar\":{\"outlinewidth\":0,\"ticks\":\"\"}},\"type\":\"scattercarpet\"}],\"scattergeo\":[{\"marker\":{\"colorbar\":{\"outlinewidth\":0,\"ticks\":\"\"}},\"type\":\"scattergeo\"}],\"scattergl\":[{\"marker\":{\"colorbar\":{\"outlinewidth\":0,\"ticks\":\"\"}},\"type\":\"scattergl\"}],\"scattermapbox\":[{\"marker\":{\"colorbar\":{\"outlinewidth\":0,\"ticks\":\"\"}},\"type\":\"scattermapbox\"}],\"scatterpolargl\":[{\"marker\":{\"colorbar\":{\"outlinewidth\":0,\"ticks\":\"\"}},\"type\":\"scatterpolargl\"}],\"scatterpolar\":[{\"marker\":{\"colorbar\":{\"outlinewidth\":0,\"ticks\":\"\"}},\"type\":\"scatterpolar\"}],\"scatter\":[{\"fillpattern\":{\"fillmode\":\"overlay\",\"size\":10,\"solidity\":0.2},\"type\":\"scatter\"}],\"scatterternary\":[{\"marker\":{\"colorbar\":{\"outlinewidth\":0,\"ticks\":\"\"}},\"type\":\"scatterternary\"}],\"surface\":[{\"colorbar\":{\"outlinewidth\":0,\"ticks\":\"\"},\"colorscale\":[[0.0,\"#0d0887\"],[0.1111111111111111,\"#46039f\"],[0.2222222222222222,\"#7201a8\"],[0.3333333333333333,\"#9c179e\"],[0.4444444444444444,\"#bd3786\"],[0.5555555555555556,\"#d8576b\"],[0.6666666666666666,\"#ed7953\"],[0.7777777777777778,\"#fb9f3a\"],[0.8888888888888888,\"#fdca26\"],[1.0,\"#f0f921\"]],\"type\":\"surface\"}],\"table\":[{\"cells\":{\"fill\":{\"color\":\"#EBF0F8\"},\"line\":{\"color\":\"white\"}},\"header\":{\"fill\":{\"color\":\"#C8D4E3\"},\"line\":{\"color\":\"white\"}},\"type\":\"table\"}]},\"layout\":{\"annotationdefaults\":{\"arrowcolor\":\"#2a3f5f\",\"arrowhead\":0,\"arrowwidth\":1},\"autotypenumbers\":\"strict\",\"coloraxis\":{\"colorbar\":{\"outlinewidth\":0,\"ticks\":\"\"}},\"colorscale\":{\"diverging\":[[0,\"#8e0152\"],[0.1,\"#c51b7d\"],[0.2,\"#de77ae\"],[0.3,\"#f1b6da\"],[0.4,\"#fde0ef\"],[0.5,\"#f7f7f7\"],[0.6,\"#e6f5d0\"],[0.7,\"#b8e186\"],[0.8,\"#7fbc41\"],[0.9,\"#4d9221\"],[1,\"#276419\"]],\"sequential\":[[0.0,\"#0d0887\"],[0.1111111111111111,\"#46039f\"],[0.2222222222222222,\"#7201a8\"],[0.3333333333333333,\"#9c179e\"],[0.4444444444444444,\"#bd3786\"],[0.5555555555555556,\"#d8576b\"],[0.6666666666666666,\"#ed7953\"],[0.7777777777777778,\"#fb9f3a\"],[0.8888888888888888,\"#fdca26\"],[1.0,\"#f0f921\"]],\"sequentialminus\":[[0.0,\"#0d0887\"],[0.1111111111111111,\"#46039f\"],[0.2222222222222222,\"#7201a8\"],[0.3333333333333333,\"#9c179e\"],[0.4444444444444444,\"#bd3786\"],[0.5555555555555556,\"#d8576b\"],[0.6666666666666666,\"#ed7953\"],[0.7777777777777778,\"#fb9f3a\"],[0.8888888888888888,\"#fdca26\"],[1.0,\"#f0f921\"]]},\"colorway\":[\"#636efa\",\"#EF553B\",\"#00cc96\",\"#ab63fa\",\"#FFA15A\",\"#19d3f3\",\"#FF6692\",\"#B6E880\",\"#FF97FF\",\"#FECB52\"],\"font\":{\"color\":\"#2a3f5f\"},\"geo\":{\"bgcolor\":\"white\",\"lakecolor\":\"white\",\"landcolor\":\"white\",\"showlakes\":true,\"showland\":true,\"subunitcolor\":\"#C8D4E3\"},\"hoverlabel\":{\"align\":\"left\"},\"hovermode\":\"closest\",\"mapbox\":{\"style\":\"light\"},\"paper_bgcolor\":\"white\",\"plot_bgcolor\":\"white\",\"polar\":{\"angularaxis\":{\"gridcolor\":\"#EBF0F8\",\"linecolor\":\"#EBF0F8\",\"ticks\":\"\"},\"bgcolor\":\"white\",\"radialaxis\":{\"gridcolor\":\"#EBF0F8\",\"linecolor\":\"#EBF0F8\",\"ticks\":\"\"}},\"scene\":{\"xaxis\":{\"backgroundcolor\":\"white\",\"gridcolor\":\"#DFE8F3\",\"gridwidth\":2,\"linecolor\":\"#EBF0F8\",\"showbackground\":true,\"ticks\":\"\",\"zerolinecolor\":\"#EBF0F8\"},\"yaxis\":{\"backgroundcolor\":\"white\",\"gridcolor\":\"#DFE8F3\",\"gridwidth\":2,\"linecolor\":\"#EBF0F8\",\"showbackground\":true,\"ticks\":\"\",\"zerolinecolor\":\"#EBF0F8\"},\"zaxis\":{\"backgroundcolor\":\"white\",\"gridcolor\":\"#DFE8F3\",\"gridwidth\":2,\"linecolor\":\"#EBF0F8\",\"showbackground\":true,\"ticks\":\"\",\"zerolinecolor\":\"#EBF0F8\"}},\"shapedefaults\":{\"line\":{\"color\":\"#2a3f5f\"}},\"ternary\":{\"aaxis\":{\"gridcolor\":\"#DFE8F3\",\"linecolor\":\"#A2B1C6\",\"ticks\":\"\"},\"baxis\":{\"gridcolor\":\"#DFE8F3\",\"linecolor\":\"#A2B1C6\",\"ticks\":\"\"},\"bgcolor\":\"white\",\"caxis\":{\"gridcolor\":\"#DFE8F3\",\"linecolor\":\"#A2B1C6\",\"ticks\":\"\"}},\"title\":{\"x\":0.05},\"xaxis\":{\"automargin\":true,\"gridcolor\":\"#EBF0F8\",\"linecolor\":\"#EBF0F8\",\"ticks\":\"\",\"title\":{\"standoff\":15},\"zerolinecolor\":\"#EBF0F8\",\"zerolinewidth\":2},\"yaxis\":{\"automargin\":true,\"gridcolor\":\"#EBF0F8\",\"linecolor\":\"#EBF0F8\",\"ticks\":\"\",\"title\":{\"standoff\":15},\"zerolinecolor\":\"#EBF0F8\",\"zerolinewidth\":2}}},\"title\":{\"text\":\"Tourist Market Share Distribution (2019)\"},\"annotations\":[{\"showarrow\":false,\"text\":\"Market Share\",\"x\":0.5,\"y\":0.5,\"font\":{\"size\":20}}]},                        {\"responsive\": true}                    ).then(function(){\n",
              "                            \n",
              "var gd = document.getElementById('3a9f08a9-fefb-4f77-b92a-8c65ce7d2125');\n",
              "var x = new MutationObserver(function (mutations, observer) {{\n",
              "        var display = window.getComputedStyle(gd).display;\n",
              "        if (!display || display === 'none') {{\n",
              "            console.log([gd, 'removed!']);\n",
              "            Plotly.purge(gd);\n",
              "            observer.disconnect();\n",
              "        }}\n",
              "}});\n",
              "\n",
              "// Listen for the removal of the full notebook cells\n",
              "var notebookContainer = gd.closest('#notebook-container');\n",
              "if (notebookContainer) {{\n",
              "    x.observe(notebookContainer, {childList: true});\n",
              "}}\n",
              "\n",
              "// Listen for the clearing of the current output cell\n",
              "var outputEl = gd.closest('.output');\n",
              "if (outputEl) {{\n",
              "    x.observe(outputEl, {childList: true});\n",
              "}}\n",
              "\n",
              "                        })                };                            </script>        </div>\n",
              "</body>\n",
              "</html>"
            ]
          },
          "metadata": {},
          "output_type": "display_data"
        }
      ],
      "source": [
        "import plotly.express as px\n",
        "import plotly.graph_objects as go\n",
        "from plotly.subplots import make_subplots\n",
        "import pandas as pd\n",
        "\n",
        "# Create a figure with secondary y-axis\n",
        "fig = make_subplots(rows=2, cols=1,\n",
        "                    subplot_titles=('Tourist Arrivals Comparison', 'Growth Rate Comparison'),\n",
        "                    vertical_spacing=0.16)\n",
        "\n",
        "# Add traces for absolute numbers\n",
        "fig.add_trace(\n",
        "    go.Scatter(x=general_data['year'], y=general_data['FTA (Million)'],\n",
        "               name='India Tourist Arrivals', line=dict(color='#FF9933', width=3)),\n",
        "    row=1, col=1\n",
        ")\n",
        "\n",
        "fig.add_trace(\n",
        "    go.Scatter(x=general_data['year'], y=general_data['World Arrivals (Million)'],\n",
        "               name='World Tourist Arrivals', line=dict(color='#138808', width=3)),\n",
        "    row=1, col=1\n",
        ")\n",
        "\n",
        "fig.add_trace(\n",
        "    go.Scatter(x=general_data['year'], y=general_data['APAC Arrivals (Million)'],\n",
        "               name='APAC Tourist Arrivals', line=dict(color='#000080', width=3)),\n",
        "    row=1, col=1\n",
        ")\n",
        "\n",
        "# Add traces for growth rates\n",
        "fig.add_trace(\n",
        "    go.Bar(x=general_data['year'], y=general_data['FTA Growth (%)'],\n",
        "           name='India Growth Rate', marker_color='#FF9933'),\n",
        "    row=2, col=1\n",
        ")\n",
        "\n",
        "fig.add_trace(\n",
        "    go.Bar(x=general_data['year'], y=general_data['World Arrivals Growth (%)'],\n",
        "           name='World Growth Rate', marker_color='#138808'),\n",
        "    row=2, col=1\n",
        ")\n",
        "\n",
        "fig.add_trace(\n",
        "    go.Bar(x=general_data['year'], y=general_data['APAC Arrivals Growth (%)'],\n",
        "           name='APAC Growth Rate', marker_color='#000080'),\n",
        "    row=2, col=1\n",
        ")\n",
        "\n",
        "# Update layout\n",
        "fig.update_layout(\n",
        "    title_text='Tourist Arrivals: India vs World vs APAC (2014-2020)',\n",
        "    height=900,\n",
        "    showlegend=True,\n",
        "    template='plotly_white',\n",
        "    legend=dict(\n",
        "        orientation=\"h\",\n",
        "        yanchor=\"bottom\",\n",
        "        y=1.02,\n",
        "        xanchor=\"right\",\n",
        "        x=1\n",
        "    )\n",
        ")\n",
        "\n",
        "# Update axes\n",
        "fig.update_yaxes(title_text=\"Number of Tourists (Million)\", row=1, col=1)\n",
        "fig.update_yaxes(title_text=\"Growth Rate (%)\", row=2, col=1)\n",
        "fig.update_xaxes(title_text=\"Year\", row=2, col=1)\n",
        "\n",
        "# Add hover template\n",
        "fig.update_traces(\n",
        "    hovertemplate=\"<b>Year</b>: %{x}<br>\" +\n",
        "                  \"<b>Value</b>: %{y:,.2f}<br>\" +\n",
        "                  \"<extra></extra>\"\n",
        ")\n",
        "\n",
        "# Show the figure\n",
        "fig.show()\n",
        "\n",
        "# Create a pie chart for market share comparison (latest year)\n",
        "latest_year = general_data['year'].max()\n",
        "latest_data = general_data[general_data['year'] == latest_year]\n",
        "\n",
        "fig_pie = go.Figure()\n",
        "\n",
        "fig_pie.add_trace(go.Pie(\n",
        "    labels=['India', 'Rest of APAC', 'Rest of World'],\n",
        "    values=[\n",
        "        latest_data['FTA (Million)'].iloc[0],\n",
        "        latest_data['APAC Arrivals (Million)'].iloc[0] - latest_data['FTA (Million)'].iloc[0],\n",
        "        latest_data['World Arrivals (Million)'].iloc[0] - latest_data['APAC Arrivals (Million)'].iloc[0]\n",
        "    ],\n",
        "    hole=0.4,\n",
        "    marker_colors=['#FF9933', '#000080', '#138808']\n",
        "))\n",
        "\n",
        "fig_pie.update_layout(\n",
        "    title_text=f'Tourist Market Share Distribution ({latest_year})',\n",
        "    annotations=[dict(text='Market Share', x=0.5, y=0.5, font_size=20, showarrow=False)],\n",
        "    template='plotly_white'\n",
        ")\n",
        "\n",
        "fig_pie.show()"
      ]
    },
    {
      "cell_type": "markdown",
      "id": "fvh_VKU6rUJn",
      "metadata": {
        "id": "fvh_VKU6rUJn"
      },
      "source": []
    },
    {
      "cell_type": "code",
      "execution_count": null,
      "id": "LW-0u8KBkqDP",
      "metadata": {
        "colab": {
          "base_uri": "https://localhost:8080/",
          "height": 398
        },
        "id": "LW-0u8KBkqDP",
        "outputId": "6b9be76e-a879-48ba-c8db-86ecca1e7320"
      },
      "outputs": [
        {
          "data": {
            "image/png": "[encoded data removed]",
            "text/plain": [
              "<Figure size 1200x600 with 1 Axes>"
            ]
          },
          "metadata": {},
          "output_type": "display_data"
        }
      ],
      "source": [
        "import pandas as pd\n",
        "import matplotlib.pyplot as plt\n",
        "import seaborn as sns\n",
        "\n",
        "# Extract relevant columns for visualization\n",
        "columns_of_interest = [\n",
        "    \"year\",\n",
        "    \"Domestic Visits Growth (%)\",\n",
        "    \"FTA Growth (%)\"\n",
        "]\n",
        "data = general_data[columns_of_interest]\n",
        "\n",
        "# Create the visualization\n",
        "plt.figure(figsize=(12, 6))\n",
        "\n",
        "# Line plots for growth rates\n",
        "sns.lineplot(\n",
        "    x=\"year\",\n",
        "    y=\"Domestic Visits Growth (%)\",\n",
        "    data=data,\n",
        "    marker=\"o\",\n",
        "    label=\"Domestic Tourism Growth\",\n",
        "    color=\"blue\",\n",
        "    linewidth=2\n",
        ")\n",
        "\n",
        "sns.lineplot(\n",
        "    x=\"year\",\n",
        "    y=\"FTA Growth (%)\",\n",
        "    data=data,\n",
        "    marker=\"o\",\n",
        "    label=\"Foreign Tourism Growth\",\n",
        "    color=\"green\",\n",
        "    linewidth=2\n",
        ")\n",
        "\n",
        "# Customize the plot\n",
        "plt.title(\"Year-over-Year Growth Rates in Tourism\", pad=20, size=14)\n",
        "plt.xlabel(\"Year\", size=12)\n",
        "plt.ylabel(\"Growth Rate (%)\", size=12)\n",
        "plt.legend(bbox_to_anchor=(0.5, -0.15), loc='upper center', ncol=2)\n",
        "plt.grid(True, linestyle='--', alpha=0.7)\n",
        "\n",
        "# Add zero line for reference\n",
        "plt.axhline(y=0, color='gray', linestyle='-', alpha=0.3)\n",
        "\n",
        "# Adjust layout\n",
        "plt.tight_layout()\n",
        "\n",
        "# Show the plot\n",
        "plt.show()"
      ]
    },
    {
      "cell_type": "code",
      "execution_count": null,
      "id": "hiv4YF6nqxdT",
      "metadata": {
        "colab": {
          "base_uri": "https://localhost:8080/",
          "height": 566
        },
        "id": "hiv4YF6nqxdT",
        "outputId": "a4bbb331-362f-4a00-beb2-a6cd3692be49"
      },
      "outputs": [
        {
          "name": "stdout",
          "output_type": "stream",
          "text": [
            "\n",
            "Summary Table of Foreign Exchange Earnings:\n",
            " year  FX Earnings (US$ Billion)\n",
            " 2014                      20.24\n",
            " 2015                      21.07\n",
            " 2016                      22.92\n",
            " 2017                      27.31\n",
            " 2018                      28.58\n",
            " 2019                      30.06\n"
          ]
        },
        {
          "data": {
            "image/png": "[encoded data removed]",
            "text/plain": [
              "<Figure size 1200x600 with 1 Axes>"
            ]
          },
          "metadata": {},
          "output_type": "display_data"
        }
      ],
      "source": [
        "import pandas as pd\n",
        "import matplotlib.pyplot as plt\n",
        "\n",
        "def create_fx_earnings_plot(data, figsize=(12, 6)):\n",
        "    \"\"\"\n",
        "    Creates a visualization of Foreign Exchange earnings in USD Billions.\n",
        "\n",
        "    Parameters:\n",
        "    -----------\n",
        "    data : pandas.DataFrame\n",
        "        DataFrame containing columns: year, FX Earnings (US$ Billion)\n",
        "    figsize : tuple, optional\n",
        "        Figure size in inches (width, height)\n",
        "\n",
        "    Returns:\n",
        "    --------\n",
        "    fig, ax : tuple\n",
        "        Figure and axis objects for further customization if needed\n",
        "    \"\"\"\n",
        "    # Create figure and axis objects\n",
        "    fig, ax = plt.subplots(figsize=figsize)\n",
        "\n",
        "    # Plot bars\n",
        "    bars = ax.bar(data['year'], data['FX Earnings (US$ Billion)'],\n",
        "                  alpha=0.6, color='forestgreen',\n",
        "                  label='FX Earnings (US$ Billion)')\n",
        "\n",
        "    # Add value labels on top of each bar\n",
        "    for bar in bars:\n",
        "        height = bar.get_height()\n",
        "        ax.text(bar.get_x() + bar.get_width()/2., height,\n",
        "                f'${height:.1f}B',\n",
        "                ha='center', va='bottom')\n",
        "\n",
        "    # Customize axes\n",
        "    ax.set_xlabel('Year', fontsize=10, fontweight='bold')\n",
        "    ax.set_ylabel('FX Earnings (US$ Billion)', color='forestgreen',\n",
        "                 fontsize=10, fontweight='bold')\n",
        "\n",
        "    # Add title\n",
        "    plt.title('Foreign Exchange Earnings (2014-2020)',\n",
        "             pad=20, fontsize=12, fontweight='bold')\n",
        "\n",
        "    # Add grid\n",
        "    ax.grid(True, alpha=0.2, linestyle='--')\n",
        "\n",
        "    # Adjust layout\n",
        "    plt.tight_layout()\n",
        "\n",
        "    return fig, ax\n",
        "\n",
        "def create_summary_table(data):\n",
        "    \"\"\"\n",
        "    Creates a formatted summary table of FX earnings.\n",
        "\n",
        "    Parameters:\n",
        "    -----------\n",
        "    data : pandas.DataFrame\n",
        "        Input DataFrame containing FX earnings data\n",
        "\n",
        "    Returns:\n",
        "    --------\n",
        "    pandas.DataFrame\n",
        "        Formatted summary table\n",
        "    \"\"\"\n",
        "    summary_columns = [\n",
        "        'year',\n",
        "        'FX Earnings (US$ Billion)'\n",
        "    ]\n",
        "\n",
        "    summary_df = data[summary_columns].round(2)\n",
        "    return summary_df\n",
        "\n",
        "def main(data):\n",
        "    \"\"\"\n",
        "    Main function to create visualization and summary table.\n",
        "\n",
        "    Parameters:\n",
        "    -----------\n",
        "    data : pandas.DataFrame\n",
        "        Input DataFrame containing FX earnings data\n",
        "    \"\"\"\n",
        "    # Create visualization\n",
        "    fig, ax = create_fx_earnings_plot(data)\n",
        "\n",
        "    # Create and display summary table\n",
        "    summary_df = create_summary_table(data)\n",
        "    print(\"\\nSummary Table of Foreign Exchange Earnings:\")\n",
        "    print(summary_df.to_string(index=False))\n",
        "\n",
        "    # Show plot\n",
        "    plt.show()\n",
        "\n",
        "# Example usage:\n",
        "if __name__ == \"__main__\":\n",
        "    # Assuming general_data is your DataFrame\n",
        "    main(general_data)"
      ]
    },
    {
      "cell_type": "code",
      "execution_count": null,
      "id": "uCzN7A05sd1Q",
      "metadata": {
        "colab": {
          "base_uri": "https://localhost:8080/",
          "height": 817
        },
        "id": "uCzN7A05sd1Q",
        "outputId": "96a5c480-469c-4325-b067-a43de3c467d6"
      },
      "outputs": [
        {
          "name": "stdout",
          "output_type": "stream",
          "text": [
            "\n",
            "Key Insights:\n",
            "--------------------------------------------------\n",
            "1. Most Popular Airport: Delhi (245,000 visitors)\n",
            "\n",
            "2. Overall Gender Distribution:\n",
            "   - Male: 60.0%\n",
            "   - Female: 40.0%\n",
            "\n",
            "3. Overall Travel Mode Distribution:\n",
            "   - Air Travel: 90.0%\n",
            "   - Land Travel: 10.0%\n"
          ]
        },
        {
          "data": {
            "image/png": "[encoded data removed]",
            "text/plain": [
              "<Figure size 2000x1500 with 3 Axes>"
            ]
          },
          "metadata": {},
          "output_type": "display_data"
        }
      ],
      "source": [
        "import pandas as pd\n",
        "import numpy as np\n",
        "import matplotlib.pyplot as plt\n",
        "import seaborn as sns\n",
        "\n",
        "# Create sample data for analysis\n",
        "airport_data = pd.DataFrame({\n",
        "    'airport': ['Delhi', 'Mumbai', 'Chennai', 'Hyderabad', 'Cochin', 'Kolkata'],\n",
        "    'totalVisitors': [245000, 198000, 156000, 134000, 112000, 98000],\n",
        "    'maleVisitors': [147000, 118800, 93600, 80400, 67200, 58800],\n",
        "    'femaleVisitors': [98000, 79200, 62400, 53600, 44800, 39200],\n",
        "    'airTravel': [220500, 178200, 140400, 120600, 100800, 88200],\n",
        "    'landTravel': [24500, 19800, 15600, 13400, 11200, 9800]\n",
        "})\n",
        "\n",
        "# Set basic style parameters instead of using seaborn style\n",
        "plt.rcParams['figure.facecolor'] = 'white'\n",
        "plt.rcParams['axes.grid'] = True\n",
        "plt.rcParams['grid.alpha'] = 0.3\n",
        "\n",
        "# Create a figure with multiple subplots\n",
        "fig = plt.figure(figsize=(20, 15))\n",
        "\n",
        "# 1. Gender Distribution by Airport\n",
        "plt.subplot(2, 2, 1)\n",
        "bar_width = 0.35\n",
        "x = np.arange(len(airport_data['airport']))\n",
        "\n",
        "plt.bar(x - bar_width/2, airport_data['maleVisitors'], bar_width, label='Male Visitors', color='#2563eb')\n",
        "plt.bar(x + bar_width/2, airport_data['femaleVisitors'], bar_width, label='Female Visitors', color='#db2777')\n",
        "\n",
        "plt.xlabel('Airports', fontsize=10)\n",
        "plt.ylabel('Number of Visitors', fontsize=10)\n",
        "plt.title('Tourist Arrivals by Airport and Gender Distribution', fontsize=12, pad=15)\n",
        "plt.xticks(x, airport_data['airport'], rotation=45)\n",
        "plt.legend()\n",
        "\n",
        "# 2. Travel Mode Distribution\n",
        "plt.subplot(2, 2, 2)\n",
        "bar_width = 0.35\n",
        "x = np.arange(len(airport_data['airport']))\n",
        "\n",
        "plt.bar(x - bar_width/2, airport_data['airTravel'], bar_width, label='Air Travel', color='#059669')\n",
        "plt.bar(x + bar_width/2, airport_data['landTravel'], bar_width, label='Land Travel', color='#ca8a04')\n",
        "\n",
        "plt.xlabel('Airports', fontsize=10)\n",
        "plt.ylabel('Number of Visitors', fontsize=10)\n",
        "plt.title('Travel Mode Distribution by Airport', fontsize=12, pad=15)\n",
        "plt.xticks(x, airport_data['airport'], rotation=45)\n",
        "plt.legend()\n",
        "\n",
        "# 3. Total Visitors Distribution (Pie Chart)\n",
        "plt.subplot(2, 2, 3)\n",
        "colors = sns.color_palette('husl', n_colors=6).as_hex()\n",
        "plt.pie(airport_data['totalVisitors'], labels=airport_data['airport'], autopct='%1.1f%%',\n",
        "        colors=colors)\n",
        "plt.title('Share of Total Visitors by Airport', fontsize=12, pad=15)\n",
        "\n",
        "\n",
        "# Adjust layout to prevent overlap\n",
        "plt.tight_layout()\n",
        "\n",
        "# Print key insights\n",
        "print(\"\\nKey Insights:\")\n",
        "print(\"-\" * 50)\n",
        "print(f\"1. Most Popular Airport: {airport_data.loc[airport_data['totalVisitors'].idxmax(), 'airport']} \"\n",
        "      f\"({airport_data['totalVisitors'].max():,} visitors)\")\n",
        "\n",
        "total_male = airport_data['maleVisitors'].sum()\n",
        "total_female = airport_data['femaleVisitors'].sum()\n",
        "total_visitors = total_male + total_female\n",
        "\n",
        "print(f\"\\n2. Overall Gender Distribution:\")\n",
        "print(f\"   - Male: {total_male/total_visitors*100:.1f}%\")\n",
        "print(f\"   - Female: {total_female/total_visitors*100:.1f}%\")\n",
        "\n",
        "total_air = airport_data['airTravel'].sum()\n",
        "total_land = airport_data['landTravel'].sum()\n",
        "total_travel = total_air + total_land\n",
        "\n",
        "print(f\"\\n3. Overall Travel Mode Distribution:\")\n",
        "print(f\"   - Air Travel: {total_air/total_travel*100:.1f}%\")\n",
        "print(f\"   - Land Travel: {total_land/total_travel*100:.1f}%\")\n",
        "\n",
        "# Display the plots\n",
        "plt.show()"
      ]
    },
    {
      "cell_type": "code",
      "execution_count": null,
      "id": "_nKmPB5zxzmF",
      "metadata": {
        "colab": {
          "base_uri": "https://localhost:8080/",
          "height": 1000
        },
        "id": "_nKmPB5zxzmF",
        "outputId": "b30e241a-9181-467a-86b4-24f916ef0dd2"
      },
      "outputs": [
        {
          "data": {
            "image/png": "[encoded data removed]",
            "text/plain": [
              "<Figure size 2000x1500 with 3 Axes>"
            ]
          },
          "metadata": {},
          "output_type": "display_data"
        }
      ],
      "source": [
        "import pandas as pd\n",
        "import numpy as np\n",
        "import matplotlib.pyplot as plt\n",
        "import seaborn as sns\n",
        "from matplotlib.gridspec import GridSpec\n",
        "\n",
        "# Create sample data based on the structure from the notebook\n",
        "yearly_visitors = pd.DataFrame({\n",
        "    'Country': ['USA', 'UK', 'Bangladesh', 'Canada', 'China', 'France', 'Germany', 'Japan', 'Malaysia', 'Australia'],\n",
        "    '2019': [1512000, 1000435, 2266000, 351000, 312000, 334000, 317000, 207000, 334000, 367000],\n",
        "    '2020': [378000, 250108, 566500, 87750, 78000, 83500, 79250, 51750, 83500, 91750],  # Estimated 75% decline due to COVID\n",
        "})\n",
        "\n",
        "general_data = pd.DataFrame({\n",
        "    'Year': [2017, 2018, 2019, 2020],\n",
        "    'FTA (Million)': [10.04, 10.56, 10.93, 2.74],\n",
        "    'FX Earnings (US$ Billion)': [27.31, 28.59, 30.06, 6.96],\n",
        "    'Domestic Visits (Million)': [1652.5, 1854.9, 2321.98, 610.22],\n",
        "    'World Arrivals (Million)': [1323, 1407, 1461, 381]\n",
        "})\n",
        "\n",
        "# Set Seaborn style\n",
        "sns.set_style('darkgrid')\n",
        "\n",
        "# Create a figure with custom layout\n",
        "fig = plt.figure(figsize=(20, 15))\n",
        "gs = GridSpec(2, 2, figure=fig)\n",
        "\n",
        "# 1. COVID-19 Impact Heatmap\n",
        "ax1 = fig.add_subplot(gs[0, 0])\n",
        "\n",
        "# Calculate percentage change for each country (2019 to 2020)\n",
        "country_impact = yearly_visitors[['Country', '2019', '2020']]\n",
        "country_impact['Decline (%)'] = ((country_impact['2019'] - country_impact['2020']) / country_impact['2019']) * 100\n",
        "\n",
        "# Pivot the data for the heatmap\n",
        "heatmap_data = country_impact.set_index('Country').T\n",
        "sns.heatmap(heatmap_data, annot=True, cmap='coolwarm', cbar=True, fmt='.1f', ax=ax1, linewidths=0.5)\n",
        "ax1.set_title('COVID-19 Impact on Tourist Arrivals by Country (2019 vs 2020)', pad=20)\n",
        "\n",
        "# 2. Tourist Recovery Timeline (Line Chart)\n",
        "ax2 = fig.add_subplot(gs[1, :])\n",
        "\n",
        "metrics = ['Domestic Visits (Million)', 'World Arrivals (Million)']\n",
        "colors = ['#e67e22', '#9b59b6']\n",
        "\n",
        "# Normalize all metrics to 2017 baseline\n",
        "for metric, color in zip(metrics, colors):\n",
        "    values = general_data[metric] / general_data[metric].iloc[0] * 100\n",
        "    ax2.plot(general_data['Year'], values, 'o-', label=metric, color=color, linewidth=3)\n",
        "\n",
        "    # Add value labels\n",
        "    for x, y in zip(general_data['Year'], values):\n",
        "        ax2.annotate(f'{y:.1f}%', (x, y), textcoords=\"offset points\", xytext=(0,10), ha='center')\n",
        "\n",
        "ax2.axvline(x=2019.5, color='red', linestyle='--', alpha=0.5, label='COVID-19 Onset')\n",
        "ax2.fill_between([2019.5, 2020], 0, 250, color='red', alpha=0.1)\n",
        "ax2.set_ylim(0, 250)\n",
        "ax2.set_title('Tourism Recovery Timeline\\n(2017 = 100%)', pad=20)\n",
        "ax2.legend(bbox_to_anchor=(1.05, 1), loc='upper left')\n",
        "ax2.grid(True, alpha=0.3)\n",
        "\n",
        "plt.tight_layout()\n",
        "plt.show()\n"
      ]
    },
    {
      "cell_type": "code",
      "execution_count": null,
      "id": "nMMMaoNU3VC_",
      "metadata": {
        "id": "nMMMaoNU3VC_"
      },
      "outputs": [],
      "source": []
    }
  ],
  "metadata": {
    "colab": {
      "provenance": [],
      "include_colab_link": true
    },
    "kernelspec": {
      "display_name": "Python 3 (ipykernel)",
      "language": "python",
      "name": "python3"
    },
    "language_info": {
      "codemirror_mode": {
        "name": "ipython",
        "version": 3
      },
      "file_extension": ".py",
      "mimetype": "text/x-python",
      "name": "python",
      "nbconvert_exporter": "python",
      "pygments_lexer": "ipython3",
      "version": "3.13.0"
    }
  },
  "nbformat": 4,
  "nbformat_minor": 5
}